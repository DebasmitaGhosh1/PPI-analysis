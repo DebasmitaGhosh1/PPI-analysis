{
  "nbformat": 4,
  "nbformat_minor": 0,
  "metadata": {
    "colab": {
      "name": "genomics_common_patterns.ipynb",
      "provenance": [],
      "collapsed_sections": [],
      "toc_visible": true,
      "authorship_tag": "ABX9TyPYmJAeXh1yg+eWa6yL4kOs",
      "include_colab_link": true
    },
    "kernelspec": {
      "name": "python3",
      "display_name": "Python 3"
    },
    "accelerator": "GPU"
  },
  "cells": [
    {
      "cell_type": "markdown",
      "metadata": {
        "id": "view-in-github",
        "colab_type": "text"
      },
      "source": [
        "<a href=\"https://colab.research.google.com/github/deep5050/PPI-analysis/blob/master/genomics_common_patterns.ipynb\" target=\"_parent\"><img src=\"https://colab.research.google.com/assets/colab-badge.svg\" alt=\"Open In Colab\"/></a>"
      ]
    },
    {
      "cell_type": "code",
      "metadata": {
        "id": "84C0ivcZRbBO",
        "colab_type": "code",
        "colab": {}
      },
      "source": [
        "from google.colab import drive\n",
        "drive.mount('/gdrive')\n",
        "import numpy as np\n",
        "import pandas as pd\n",
        "import seaborn as sns\n",
        "import matplotlib.pyplot as plt\n",
        "import matplotlib.patches as mpatches"
      ],
      "execution_count": 0,
      "outputs": []
    },
    {
      "cell_type": "markdown",
      "metadata": {
        "id": "OKS8ZIl3ylIO",
        "colab_type": "text"
      },
      "source": [
        "# NECESSARY FUNCTIONS"
      ]
    },
    {
      "cell_type": "code",
      "metadata": {
        "id": "X37Lc_tVRlYk",
        "colab_type": "code",
        "colab": {}
      },
      "source": [
        "from collections import OrderedDict\n",
        "\n",
        "def revs_complement(dna):\n",
        "    \"\"\"\n",
        "    help function for orf_identifier:\n",
        "    to transform a sequence to reverse complementary sequence\n",
        "    \"\"\"\n",
        "    pairs = {\"A\": \"T\", \"C\": \"G\", \"G\": \"C\", \"T\": \"A\"} # complementary code\n",
        "    c_dna = [pairs[s] for s in dna] # complementary replace\n",
        "    return \"\".join(c_dna)[::-1].strip() # reverse\n",
        "\n",
        "def find_repeats( dna, n):\n",
        "    \"\"\"\n",
        "    This help function for repeats_identifier find and count repeats for \n",
        "    each dna sequence\n",
        "    dna: sequence, string\n",
        "    n: number of repeats, int\n",
        "    \"\"\"\n",
        "    repeats = {}\n",
        "    for i in range(0, len(dna)):\n",
        "        repeat = dna[i:i+n] # generate possible repeats\n",
        "        if len(repeat) == n:\n",
        "            if repeat not in repeats:\n",
        "                repeats [repeat] = 1 # initiate record\n",
        "            else:\n",
        "                # count repeated repeats\n",
        "                repeats[repeat] = repeats.get(repeat) + 1\n",
        "    return dict(sorted(repeats.items()))\n",
        "\n",
        "def get_seq_str(content):\n",
        "  seq_str = ''\n",
        "  seq = content[1:] # avoiding the header started with '>'\n",
        "  for seq_ in seq:\n",
        "    seq_str += str(seq_).replace('\\n', '').replace('\\r', '').replace(' ','')\n",
        "  return seq_str.upper().strip()\n",
        "\n",
        "def get_seq_neum(seq_str):\n",
        "  table = {'A':'1','T':'2','G':'3','C':'4'}\n",
        "  # seq_neum = seq_str.replace('A','1').replace('T','2').replace('G','3').replace('C','4')\n",
        "  seq_neum = [ table[s] for s in seq_str]\n",
        "  return \"\".join(seq_neum).strip()\n",
        "\n",
        "def get_unique_patterns(dna,n):\n",
        "  repeats = []\n",
        "  for i in range(0, len(dna)):\n",
        "    repeat = dna[i:i+n] # generate possible repeats\n",
        "    if len(repeat) == n:\n",
        "         repeats.append(repeat)\n",
        "  return sorted(list(dict.fromkeys(repeats))) #eliminate duplicates\n",
        "\n",
        "def get_seq_yr(seq_neum):\n",
        "  table = { '1':'R','3':'R','2':'Y','4':'Y'}\n",
        "  seq_yr = [ table[s] for s in seq_neum]\n",
        "  # seq_yr = seq_neum.replace('1','R').replace('2','Y').replace('3','R').replace('4','Y')\n",
        "  return \"\".join(seq_yr).strip()\n",
        "\n",
        "def get_seq_yr_from_atcg(seq):\n",
        "  table = { 'A':'R','G':'R','C':'Y','T':'Y'}\n",
        "  seq_yr = [ table[s] for s in seq]\n",
        "  # seq_yr = seq_neum.replace('1','R').replace('2','Y').replace('3','R').replace('4','Y')\n",
        "  return \"\".join(seq_yr).strip()\n",
        "\n",
        "def get_repeats_with_loc(dna,n):\n",
        "  # get a sorted list of unique patterns\n",
        "  patterns = get_unique_patterns(dna,n)\n",
        "  #create a dictionary with pattern and its loc in the list\n",
        "  patterns_loc = {}\n",
        "  # to hold actual loc\n",
        "  locs = []\n",
        "  for k in range(0,len(patterns)):\n",
        "    locs.append([])\n",
        "\n",
        "  for i in range(0,len(patterns)):\n",
        "    patterns_loc[patterns[i]] = i #insert the loc\n",
        "\n",
        "  print(patterns_loc)\n",
        "  # now actually including all the locs\n",
        "  for i in range(0,len(dna)):\n",
        "    repeat = dna[i:i+n]\n",
        "    if len(repeat)==n:\n",
        "      # get the location (where to be inserted in the pattern_loc) of the pattern just found\n",
        "      arr_loc = patterns_loc[repeat]\n",
        "      # print(\"arrloc{}\".format(arr_loc))\n",
        "      # include the actual location of occurance in dna\n",
        "      locs[arr_loc].append(i)\n",
        "\n",
        "  #returns the loc of each unique pattern as an array of array\n",
        "  return locs\n",
        "\n",
        "%matplotlib inline\n",
        "\n",
        "def plot_protein_distr_by_name(dna):\n",
        "  # protein distribution\n",
        "  proteins = translate(seq_str)\n",
        "  proteins_repeats = find_repeats(proteins,1)\n",
        "  #\n",
        "  frq_protein = list(proteins_repeats.values())\n",
        "  proteins_names = list(proteins_repeats.keys())\n",
        "  fig = plt.figure(figsize=[10,5])\n",
        "\n",
        "  \n",
        "  plt.bar(proteins_names,frq_protein,width=0.7,color='y')\n",
        "  plt.title(\"PRODUCED PROTEINS FREQUENCY - sorted: name\")\n",
        "  plt.show()\n",
        "\n",
        "def plot_protein_distr_by_frq(dna):\n",
        "  # protein distribution\n",
        "  proteins = translate(seq_str)\n",
        "  proteins_repeats = find_repeats(proteins,1)\n",
        "  # sort by values\n",
        "  proteins_repeats = {k: v for k, v in sorted(proteins_repeats.items(), key=lambda item: item[1])}\n",
        "  frq_protein = list(proteins_repeats.values())\n",
        "  proteins_names = list(proteins_repeats.keys())\n",
        "  fig = plt.figure(figsize=[10,5])\n",
        "\n",
        "  \n",
        "  plt.bar(proteins_names,frq_protein,width=0.7,color='r')\n",
        "  plt.title(\"PRODUCED PROTEINS FREQUENCY - sorted: frqncy\")\n",
        "  plt.show()\n",
        "\n",
        "\n",
        "\n",
        "def plot_pattern_distr_by_name(dna):\n",
        "  codon_repeats = find_repeats(dna,3)\n",
        "  frq = list(codon_repeats.values())\n",
        "  seq_x = list(codon_repeats.keys())\n",
        "  \n",
        "  fig = plt.figure(figsize=[4,4])\n",
        "\n",
        "  plt.bar(seq_x,frq,width=0.5)\n",
        "  plt.ylabel('frequency')\n",
        "  plt.title(\"CODON DISTRIBUTION - sorted: name\")\n",
        "  plt.show()\n",
        "\n",
        "\n",
        "\n",
        "def plot_pattern_distr_by_frq(dna):\n",
        "  codon_repeats = find_repeats(dna,3)\n",
        "  codon_repeats = {k: v for k, v in sorted(codon_repeats.items(), key=lambda item: item[1])}\n",
        "  frq = list(codon_repeats.values())\n",
        "  seq_x = list(codon_repeats.keys())\n",
        "  \n",
        "  fig = plt.figure(figsize=[4,4])\n",
        "\n",
        "  plt.bar(seq_x,frq,width=0.5,color='g')\n",
        "  plt.ylabel('frequency')\n",
        "  plt.title(\"CODON DISTRIBUTION - sorted: frqncy\")\n",
        "  plt.show() \n",
        "\n",
        "\n",
        "\n",
        "\n",
        "\n",
        "\n",
        "\n",
        "\n",
        "def percent_of_occurence(seq):\n",
        "  repeats_ = find_repeats(seq,3)\n",
        "  total_occur = 0\n",
        "  percent_dist = {}\n",
        "  for rpt in repeats_:\n",
        "    total_occur += repeats_[rpt]\n",
        "  # print(\"total\",total_occur)\n",
        "  for rpt in repeats_:\n",
        "    percent_dist[rpt] = (repeats_[rpt]/total_occur)*100\n",
        "  percents = [ per for per in percent_dist.values() ]\n",
        "  return percent_dist,percents\n",
        "\n",
        "\n",
        "\n",
        "\n",
        "def print_pattern_wise_locs(patterns,locs):\n",
        "  patterns = patterns\n",
        "  locs = locs\n",
        "  for i in range(0,len(patterns)):\n",
        "    print(\"Patterns:    {} | length: {} | loc: {}\".format(patterns[i],len(locs[i]),locs[i]))\n",
        "\n",
        "\n",
        "\n",
        "def translate(seq): \n",
        "       \n",
        "    table = { \n",
        "        'ATA':'I', 'ATC':'I', 'ATT':'I', 'ATG':'M', \n",
        "        'ACA':'T', 'ACC':'T', 'ACG':'T', 'ACT':'T', \n",
        "        'AAC':'N', 'AAT':'N', 'AAA':'K', 'AAG':'K', \n",
        "        'AGC':'S', 'AGT':'S', 'AGA':'R', 'AGG':'R',                  \n",
        "        'CTA':'L', 'CTC':'L', 'CTG':'L', 'CTT':'L', \n",
        "        'CCA':'P', 'CCC':'P', 'CCG':'P', 'CCT':'P', \n",
        "        'CAC':'H', 'CAT':'H', 'CAA':'Q', 'CAG':'Q', \n",
        "        'CGA':'R', 'CGC':'R', 'CGG':'R', 'CGT':'R', \n",
        "        'GTA':'V', 'GTC':'V', 'GTG':'V', 'GTT':'V', \n",
        "        'GCA':'A', 'GCC':'A', 'GCG':'A', 'GCT':'A', \n",
        "        'GAC':'D', 'GAT':'D', 'GAA':'E', 'GAG':'E', \n",
        "        'GGA':'G', 'GGC':'G', 'GGG':'G', 'GGT':'G', \n",
        "        'TCA':'S', 'TCC':'S', 'TCG':'S', 'TCT':'S', \n",
        "        'TTC':'F', 'TTT':'F', 'TTA':'L', 'TTG':'L', \n",
        "        'TAC':'Y', 'TAT':'Y', 'TAA':'_', 'TAG':'_', \n",
        "        'TGC':'C', 'TGT':'C', 'TGA':'_', 'TGG':'W', \n",
        "    } \n",
        "    protein =\"\" \n",
        "    if len(seq)%3 == 0: \n",
        "        for i in range(0, len(seq), 3): \n",
        "            codon = seq[i:i + 3] \n",
        "            protein+= table[codon] \n",
        "    return protein "
      ],
      "execution_count": 0,
      "outputs": []
    },
    {
      "cell_type": "code",
      "metadata": {
        "id": "0msQmXSsRy9K",
        "colab_type": "code",
        "colab": {}
      },
      "source": [
        "\n",
        "from os import listdir\n",
        "from os.path import isfile, join\n",
        "\n",
        "# trying to find common patterns of length 3 among all the genes\n",
        "def common_patterns_diff_lengths_among_all(my_path_,length_,MODE='ATCG'):\n",
        "  my_path = my_path_\n",
        "  only_files = [f for f in listdir(my_path) if isfile(join(my_path, f))]\n",
        "  all_seq = []\n",
        "  file_names = []\n",
        "  for file_ in only_files:\n",
        "\n",
        "    file_path = my_path+'/'+file_\n",
        "    file_names.append(file_.split('.txt')[0])\n",
        "\n",
        "    with open(file_path,'r') as f:\n",
        "      content = f.readlines()\n",
        "      seq_str = get_seq_str(content)\n",
        "      if MODE == 'YR':\n",
        "        seq_str = get_seq_yr_from_atcg(seq_str)\n",
        "      all_seq.append(seq_str)\n",
        "\n",
        "    uniq_patterns = []\n",
        "    for seq in all_seq:\n",
        "      patt = get_unique_patterns(seq,length_)\n",
        "      uniq_patterns.append(patt)\n",
        "\n",
        "  # print(len(uniq_patterns))\n",
        "\n",
        "  # print(uniq_patterns[0])\n",
        "  # print(uniq_patterns[1])\n",
        "  # xx = set(uniq_patterns[0]) & set(uniq_patterns[1])\n",
        "  # print(sorted(xx))\n",
        "\n",
        "  common_pattern_among_all = set(uniq_patterns[0])\n",
        "  for i in range(0,len(uniq_patterns)):\n",
        "    # common_pattern_among_all = common_pattern_among_all.intersection(set(uniq_patterns[i]))\n",
        "    common_pattern_among_all = common_pattern_among_all & set(uniq_patterns[i])\n",
        "\n",
        "  # for patt in uniq_patterns:\n",
        "    \n",
        "    # print(len(patt),\":\",patt)\n",
        "\n",
        "  # print('-'*50)\n",
        "  print(len(common_pattern_among_all),\":\",sorted(common_pattern_among_all))\n"
      ],
      "execution_count": 0,
      "outputs": []
    },
    {
      "cell_type": "markdown",
      "metadata": {
        "id": "k-obFVyAyDHL",
        "colab_type": "text"
      },
      "source": [
        "# FINDING PATTERNS FOR DJ1"
      ]
    },
    {
      "cell_type": "markdown",
      "metadata": {
        "id": "SV4ZEU4F0AaL",
        "colab_type": "text"
      },
      "source": [
        "## ATCG DISTRBUTION"
      ]
    },
    {
      "cell_type": "code",
      "metadata": {
        "id": "c0bs_1DHR4yM",
        "colab_type": "code",
        "outputId": "5b4a046f-4525-4f16-ee13-0a190aa71749",
        "colab": {
          "base_uri": "https://localhost:8080/",
          "height": 54
        }
      },
      "source": [
        "common_patterns_diff_lengths_among_all('/gdrive/My Drive/Genomics/job/data/DJ1',3)"
      ],
      "execution_count": 0,
      "outputs": [
        {
          "output_type": "stream",
          "text": [
            "64 : ['AAA', 'AAC', 'AAG', 'AAT', 'ACA', 'ACC', 'ACG', 'ACT', 'AGA', 'AGC', 'AGG', 'AGT', 'ATA', 'ATC', 'ATG', 'ATT', 'CAA', 'CAC', 'CAG', 'CAT', 'CCA', 'CCC', 'CCG', 'CCT', 'CGA', 'CGC', 'CGG', 'CGT', 'CTA', 'CTC', 'CTG', 'CTT', 'GAA', 'GAC', 'GAG', 'GAT', 'GCA', 'GCC', 'GCG', 'GCT', 'GGA', 'GGC', 'GGG', 'GGT', 'GTA', 'GTC', 'GTG', 'GTT', 'TAA', 'TAC', 'TAG', 'TAT', 'TCA', 'TCC', 'TCG', 'TCT', 'TGA', 'TGC', 'TGG', 'TGT', 'TTA', 'TTC', 'TTG', 'TTT']\n"
          ],
          "name": "stdout"
        }
      ]
    },
    {
      "cell_type": "code",
      "metadata": {
        "id": "ko_yHlgLR8aw",
        "colab_type": "code",
        "outputId": "fa9df4c5-ef90-4745-c48a-f8aabf89d430",
        "colab": {
          "base_uri": "https://localhost:8080/",
          "height": 54
        }
      },
      "source": [
        "common_patterns_diff_lengths_among_all('/gdrive/My Drive/Genomics/job/data/DJ1',4)"
      ],
      "execution_count": 0,
      "outputs": [
        {
          "output_type": "stream",
          "text": [
            "253 : ['AAAA', 'AAAC', 'AAAG', 'AAAT', 'AACA', 'AACC', 'AACG', 'AACT', 'AAGA', 'AAGC', 'AAGG', 'AAGT', 'AATA', 'AATC', 'AATG', 'AATT', 'ACAA', 'ACAC', 'ACAG', 'ACAT', 'ACCA', 'ACCC', 'ACCT', 'ACGA', 'ACGC', 'ACGT', 'ACTA', 'ACTC', 'ACTG', 'ACTT', 'AGAA', 'AGAC', 'AGAG', 'AGAT', 'AGCA', 'AGCC', 'AGCG', 'AGCT', 'AGGA', 'AGGC', 'AGGG', 'AGGT', 'AGTA', 'AGTC', 'AGTG', 'AGTT', 'ATAA', 'ATAC', 'ATAG', 'ATAT', 'ATCA', 'ATCC', 'ATCG', 'ATCT', 'ATGA', 'ATGC', 'ATGG', 'ATGT', 'ATTA', 'ATTC', 'ATTG', 'ATTT', 'CAAA', 'CAAC', 'CAAG', 'CAAT', 'CACA', 'CACC', 'CACG', 'CACT', 'CAGA', 'CAGC', 'CAGG', 'CAGT', 'CATA', 'CATC', 'CATG', 'CATT', 'CCAA', 'CCAC', 'CCAG', 'CCAT', 'CCCA', 'CCCC', 'CCCG', 'CCCT', 'CCGA', 'CCGC', 'CCGG', 'CCGT', 'CCTA', 'CCTC', 'CCTG', 'CCTT', 'CGAA', 'CGAC', 'CGAG', 'CGAT', 'CGCA', 'CGCC', 'CGCG', 'CGCT', 'CGGA', 'CGGC', 'CGGG', 'CGGT', 'CGTA', 'CGTC', 'CGTG', 'CGTT', 'CTAA', 'CTAC', 'CTAG', 'CTAT', 'CTCA', 'CTCC', 'CTCG', 'CTCT', 'CTGA', 'CTGC', 'CTGG', 'CTGT', 'CTTA', 'CTTC', 'CTTG', 'CTTT', 'GAAA', 'GAAC', 'GAAG', 'GAAT', 'GACA', 'GACC', 'GACG', 'GACT', 'GAGA', 'GAGC', 'GAGG', 'GAGT', 'GATA', 'GATC', 'GATG', 'GATT', 'GCAA', 'GCAC', 'GCAG', 'GCAT', 'GCCA', 'GCCC', 'GCCG', 'GCCT', 'GCGA', 'GCGC', 'GCGG', 'GCGT', 'GCTA', 'GCTC', 'GCTG', 'GCTT', 'GGAA', 'GGAC', 'GGAG', 'GGAT', 'GGCA', 'GGCC', 'GGCG', 'GGCT', 'GGGA', 'GGGC', 'GGGG', 'GGGT', 'GGTA', 'GGTC', 'GGTG', 'GGTT', 'GTAA', 'GTAC', 'GTAG', 'GTAT', 'GTCA', 'GTCC', 'GTCG', 'GTCT', 'GTGA', 'GTGC', 'GTGG', 'GTGT', 'GTTA', 'GTTC', 'GTTG', 'GTTT', 'TAAA', 'TAAC', 'TAAG', 'TAAT', 'TACA', 'TACC', 'TACT', 'TAGA', 'TAGC', 'TAGG', 'TAGT', 'TATA', 'TATC', 'TATG', 'TATT', 'TCAA', 'TCAC', 'TCAG', 'TCAT', 'TCCA', 'TCCC', 'TCCG', 'TCCT', 'TCGA', 'TCGC', 'TCGG', 'TCGT', 'TCTA', 'TCTC', 'TCTG', 'TCTT', 'TGAA', 'TGAC', 'TGAG', 'TGAT', 'TGCA', 'TGCC', 'TGCG', 'TGCT', 'TGGA', 'TGGC', 'TGGG', 'TGGT', 'TGTA', 'TGTC', 'TGTG', 'TGTT', 'TTAA', 'TTAC', 'TTAG', 'TTAT', 'TTCA', 'TTCC', 'TTCG', 'TTCT', 'TTGA', 'TTGC', 'TTGG', 'TTGT', 'TTTA', 'TTTC', 'TTTG', 'TTTT']\n"
          ],
          "name": "stdout"
        }
      ]
    },
    {
      "cell_type": "code",
      "metadata": {
        "id": "tIBp3j0uSfYi",
        "colab_type": "code",
        "outputId": "9ddf5d5c-6c42-48ee-f97b-612e01fc805d",
        "colab": {
          "base_uri": "https://localhost:8080/",
          "height": 54
        }
      },
      "source": [
        "common_patterns_diff_lengths_among_all('/gdrive/My Drive/Genomics/job/data/DJ1',5)"
      ],
      "execution_count": 0,
      "outputs": [
        {
          "output_type": "stream",
          "text": [
            "620 : ['AAAAA', 'AAAAG', 'AAAAT', 'AAACA', 'AAACC', 'AAACT', 'AAAGA', 'AAAGC', 'AAAGG', 'AAAGT', 'AAATA', 'AACAA', 'AACAG', 'AACCA', 'AACCC', 'AACTC', 'AACTG', 'AACTT', 'AAGAA', 'AAGAC', 'AAGAG', 'AAGAT', 'AAGCA', 'AAGCC', 'AAGCG', 'AAGGA', 'AAGGC', 'AAGGG', 'AAGGT', 'AAGTG', 'AAGTT', 'AATAG', 'AATCC', 'AATGA', 'AATGG', 'AATGT', 'AATTA', 'AATTC', 'AATTG', 'ACAAA', 'ACAAG', 'ACAAT', 'ACACA', 'ACACC', 'ACAGA', 'ACAGC', 'ACAGG', 'ACAGT', 'ACATA', 'ACATC', 'ACATG', 'ACCAA', 'ACCAC', 'ACCAG', 'ACCAT', 'ACCCA', 'ACCCC', 'ACCCT', 'ACCTA', 'ACCTC', 'ACCTG', 'ACCTT', 'ACGCA', 'ACTCA', 'ACTCC', 'ACTCT', 'ACTGA', 'ACTGC', 'ACTGG', 'ACTGT', 'ACTTC', 'ACTTG', 'AGAAA', 'AGAAG', 'AGAAT', 'AGACA', 'AGACC', 'AGACG', 'AGACT', 'AGAGA', 'AGAGC', 'AGAGG', 'AGAGT', 'AGATA', 'AGATC', 'AGATG', 'AGATT', 'AGCAG', 'AGCAT', 'AGCCA', 'AGCCC', 'AGCCG', 'AGCCT', 'AGCGA', 'AGCGG', 'AGCTC', 'AGCTG', 'AGCTT', 'AGGAA', 'AGGAC', 'AGGAG', 'AGGAT', 'AGGCA', 'AGGCC', 'AGGCG', 'AGGCT', 'AGGGA', 'AGGGC', 'AGGGG', 'AGGGT', 'AGGTA', 'AGGTC', 'AGGTG', 'AGGTT', 'AGTAG', 'AGTAT', 'AGTCC', 'AGTCT', 'AGTGA', 'AGTGC', 'AGTGG', 'AGTGT', 'AGTTC', 'AGTTT', 'ATAAA', 'ATAGA', 'ATCAA', 'ATCAG', 'ATCCA', 'ATCCC', 'ATCCT', 'ATCTT', 'ATGAA', 'ATGAC', 'ATGAT', 'ATGCA', 'ATGCC', 'ATGGA', 'ATGGC', 'ATGGG', 'ATGGT', 'ATGTG', 'ATGTT', 'ATTAA', 'ATTCC', 'ATTGC', 'ATTGG', 'ATTTC', 'ATTTT', 'CAAAA', 'CAAAC', 'CAAAG', 'CAAAT', 'CAACA', 'CAACC', 'CAAGA', 'CAAGC', 'CAAGG', 'CAAGT', 'CAATG', 'CACAA', 'CACAC', 'CACAG', 'CACCA', 'CACCC', 'CACCT', 'CACTC', 'CACTG', 'CAGAA', 'CAGAC', 'CAGAG', 'CAGAT', 'CAGCA', 'CAGCC', 'CAGCT', 'CAGGA', 'CAGGC', 'CAGGG', 'CAGGT', 'CAGTA', 'CAGTC', 'CAGTG', 'CAGTT', 'CATCC', 'CATCT', 'CATGA', 'CATGC', 'CATGG', 'CATGT', 'CATTC', 'CATTG', 'CATTT', 'CCAAA', 'CCAAC', 'CCAAG', 'CCACA', 'CCACC', 'CCACG', 'CCACT', 'CCAGA', 'CCAGC', 'CCAGG', 'CCAGT', 'CCATC', 'CCATG', 'CCATT', 'CCCAA', 'CCCAC', 'CCCAG', 'CCCAT', 'CCCCA', 'CCCCC', 'CCCCG', 'CCCCT', 'CCCGC', 'CCCGT', 'CCCTC', 'CCCTG', 'CCCTT', 'CCGAC', 'CCGAG', 'CCGCA', 'CCGCC', 'CCGCT', 'CCGGC', 'CCGGG', 'CCGGT', 'CCGTG', 'CCTAC', 'CCTAT', 'CCTCA', 'CCTCC', 'CCTCT', 'CCTGA', 'CCTGC', 'CCTGG', 'CCTGT', 'CCTTA', 'CCTTC', 'CCTTG', 'CCTTT', 'CGAGA', 'CGCCA', 'CGCCC', 'CGCGG', 'CGCTC', 'CGCTG', 'CGGAA', 'CGGAG', 'CGGCC', 'CGGCG', 'CGGCT', 'CGGGA', 'CGGGC', 'CGGGG', 'CGGGT', 'CGTCT', 'CGTGC', 'CGTGG', 'CGTGT', 'CTACA', 'CTACC', 'CTACT', 'CTAGA', 'CTAGC', 'CTAGT', 'CTATA', 'CTATC', 'CTCAA', 'CTCAC', 'CTCAG', 'CTCCA', 'CTCCC', 'CTCCG', 'CTCCT', 'CTCGG', 'CTCTC', 'CTCTG', 'CTCTT', 'CTGAA', 'CTGAC', 'CTGAG', 'CTGAT', 'CTGCA', 'CTGCC', 'CTGCT', 'CTGGA', 'CTGGC', 'CTGGG', 'CTGGT', 'CTGTA', 'CTGTC', 'CTGTG', 'CTGTT', 'CTTAA', 'CTTAC', 'CTTAG', 'CTTAT', 'CTTCA', 'CTTCC', 'CTTCT', 'CTTGA', 'CTTGG', 'CTTGT', 'CTTTA', 'CTTTC', 'CTTTG', 'CTTTT', 'GAAAA', 'GAAAC', 'GAAAG', 'GAAAT', 'GAACA', 'GAACC', 'GAACT', 'GAAGA', 'GAAGC', 'GAAGG', 'GAATC', 'GAATG', 'GAATT', 'GACAC', 'GACAG', 'GACAT', 'GACCA', 'GACCC', 'GACGT', 'GACTA', 'GACTC', 'GACTG', 'GACTT', 'GAGAA', 'GAGAC', 'GAGAG', 'GAGAT', 'GAGCA', 'GAGCC', 'GAGCG', 'GAGCT', 'GAGGA', 'GAGGC', 'GAGGG', 'GAGGT', 'GAGTC', 'GAGTG', 'GAGTT', 'GATAG', 'GATCA', 'GATCC', 'GATGA', 'GATGC', 'GATGG', 'GATGT', 'GATTC', 'GATTG', 'GCAAA', 'GCAAC', 'GCAAG', 'GCAAT', 'GCACC', 'GCACT', 'GCAGA', 'GCAGC', 'GCAGG', 'GCAGT', 'GCATG', 'GCATT', 'GCCAA', 'GCCAC', 'GCCAG', 'GCCAT', 'GCCCC', 'GCCCG', 'GCCCT', 'GCCGC', 'GCCGG', 'GCCTC', 'GCCTG', 'GCCTT', 'GCGCC', 'GCGCG', 'GCGGC', 'GCGGG', 'GCGTC', 'GCGTG', 'GCTAA', 'GCTCA', 'GCTCC', 'GCTCT', 'GCTGA', 'GCTGC', 'GCTGG', 'GCTGT', 'GCTTA', 'GCTTC', 'GCTTT', 'GGAAA', 'GGAAC', 'GGAAG', 'GGAAT', 'GGACA', 'GGACC', 'GGACT', 'GGAGA', 'GGAGC', 'GGAGG', 'GGAGT', 'GGATC', 'GGATG', 'GGATT', 'GGCAA', 'GGCAC', 'GGCAG', 'GGCAT', 'GGCCC', 'GGCCG', 'GGCCT', 'GGCGC', 'GGCGG', 'GGCGT', 'GGCTA', 'GGCTC', 'GGCTG', 'GGCTT', 'GGGAA', 'GGGAC', 'GGGAG', 'GGGAT', 'GGGCA', 'GGGCC', 'GGGCG', 'GGGCT', 'GGGGA', 'GGGGC', 'GGGGG', 'GGGGT', 'GGGTA', 'GGGTC', 'GGGTG', 'GGGTT', 'GGTAC', 'GGTAG', 'GGTCA', 'GGTCC', 'GGTGA', 'GGTGC', 'GGTGG', 'GGTGT', 'GGTTG', 'GGTTT', 'GTACA', 'GTACC', 'GTACT', 'GTAGA', 'GTAGC', 'GTCAC', 'GTCAG', 'GTCCA', 'GTCCC', 'GTCCT', 'GTCTC', 'GTCTG', 'GTGAA', 'GTGAC', 'GTGAG', 'GTGCA', 'GTGCC', 'GTGCT', 'GTGGA', 'GTGGC', 'GTGGG', 'GTGGT', 'GTGTC', 'GTGTG', 'GTGTT', 'GTTAA', 'GTTCA', 'GTTCC', 'GTTGA', 'GTTGC', 'GTTGG', 'GTTTC', 'GTTTG', 'TAAAA', 'TAAAG', 'TAAGA', 'TAATC', 'TACAA', 'TACAG', 'TACCC', 'TACTC', 'TACTG', 'TACTT', 'TAGAG', 'TAGAT', 'TAGGA', 'TAGTC', 'TAGTG', 'TATAT', 'TATCC', 'TATCT', 'TATGG', 'TATTG', 'TATTT', 'TCAAC', 'TCAAG', 'TCACA', 'TCACC', 'TCACT', 'TCAGA', 'TCAGC', 'TCAGG', 'TCAGT', 'TCCAA', 'TCCAC', 'TCCAG', 'TCCCA', 'TCCCC', 'TCCCG', 'TCCCT', 'TCCGC', 'TCCGG', 'TCCTC', 'TCCTG', 'TCCTT', 'TCGCC', 'TCTAC', 'TCTCA', 'TCTCC', 'TCTCT', 'TCTGA', 'TCTGC', 'TCTGG', 'TCTGT', 'TCTTA', 'TCTTC', 'TCTTT', 'TGAAA', 'TGAAC', 'TGAAG', 'TGACA', 'TGACC', 'TGACT', 'TGAGA', 'TGAGC', 'TGAGG', 'TGAGT', 'TGATC', 'TGATG', 'TGATT', 'TGCAG', 'TGCCA', 'TGCCC', 'TGCCT', 'TGCGA', 'TGCGG', 'TGCTA', 'TGCTC', 'TGCTG', 'TGCTT', 'TGGAA', 'TGGAC', 'TGGAG', 'TGGAT', 'TGGCA', 'TGGCC', 'TGGCG', 'TGGCT', 'TGGGA', 'TGGGC', 'TGGGG', 'TGGGT', 'TGGTG', 'TGGTT', 'TGTAA', 'TGTAG', 'TGTCC', 'TGTCT', 'TGTGA', 'TGTGC', 'TGTGG', 'TGTGT', 'TGTTT', 'TTAAA', 'TTAAG', 'TTAAT', 'TTACA', 'TTAGG', 'TTATC', 'TTCAA', 'TTCAC', 'TTCAG', 'TTCAT', 'TTCCA', 'TTCCC', 'TTCCG', 'TTCCT', 'TTCTC', 'TTCTG', 'TTCTT', 'TTGAA', 'TTGCA', 'TTGCC', 'TTGCT', 'TTGGA', 'TTGGC', 'TTGGG', 'TTGTC', 'TTTAG', 'TTTAT', 'TTTCA', 'TTTCC', 'TTTCT', 'TTTGA', 'TTTGG', 'TTTGT', 'TTTTA', 'TTTTC', 'TTTTG', 'TTTTT']\n"
          ],
          "name": "stdout"
        }
      ]
    },
    {
      "cell_type": "code",
      "metadata": {
        "id": "iAdvkxJ-SnQy",
        "colab_type": "code",
        "outputId": "12e73a59-3415-429a-9175-bbfe716e174e",
        "colab": {
          "base_uri": "https://localhost:8080/",
          "height": 54
        }
      },
      "source": [
        "common_patterns_diff_lengths_among_all('/gdrive/My Drive/Genomics/job/data/DJ1',6)"
      ],
      "execution_count": 0,
      "outputs": [
        {
          "output_type": "stream",
          "text": [
            "342 : ['AAAAAA', 'AAAAAT', 'AAAAGA', 'AAAAGT', 'AAAGAA', 'AAAGTG', 'AACCCC', 'AAGAAA', 'AAGAAG', 'AAGACA', 'AAGAGG', 'AAGATG', 'AAGGAA', 'AAGGCC', 'AAGGGG', 'AAGGTG', 'AATGTG', 'ACAAAA', 'ACACAC', 'ACAGAT', 'ACAGCA', 'ACAGGC', 'ACCACT', 'ACCTCT', 'ACCTGC', 'ACCTGG', 'ACTCAG', 'ACTCCA', 'ACTCCC', 'ACTCTG', 'ACTGAG', 'ACTGCC', 'AGAAAA', 'AGACTC', 'AGAGAC', 'AGAGCT', 'AGATGC', 'AGATGG', 'AGATTC', 'AGCAGA', 'AGCAGT', 'AGCCAG', 'AGCCCC', 'AGCCCT', 'AGCCTC', 'AGCCTG', 'AGCTGG', 'AGGAAA', 'AGGAGC', 'AGGAGG', 'AGGCAA', 'AGGCAG', 'AGGCCC', 'AGGGAA', 'AGGGAG', 'AGGGCT', 'AGGTAG', 'AGGTCA', 'AGGTGG', 'AGGTGT', 'AGTCCT', 'AGTGAC', 'AGTTCA', 'ATAAAG', 'ATCCTG', 'ATGAAG', 'ATGGGG', 'CAAAAA', 'CAAAGG', 'CAAGGA', 'CAAGGT', 'CACAAA', 'CACACC', 'CACCAC', 'CACCAG', 'CACCCC', 'CACCCT', 'CACCTC', 'CACCTT', 'CACTGA', 'CACTGC', 'CACTGG', 'CAGAAG', 'CAGAGC', 'CAGAGG', 'CAGATG', 'CAGCCA', 'CAGCCT', 'CAGCTC', 'CAGGAA', 'CAGGAG', 'CAGGCA', 'CAGGCT', 'CAGGGA', 'CAGGGC', 'CAGGTA', 'CAGTGA', 'CAGTGC', 'CATCCT', 'CATGGG', 'CATTTT', 'CCAAGC', 'CCACCA', 'CCACCT', 'CCACTG', 'CCAGCA', 'CCAGCC', 'CCAGCT', 'CCAGGA', 'CCAGGG', 'CCCAAA', 'CCCACA', 'CCCACC', 'CCCAGG', 'CCCAGT', 'CCCATC', 'CCCCAC', 'CCCCAG', 'CCCCCG', 'CCCTCA', 'CCCTCT', 'CCCTGC', 'CCCTGG', 'CCCTGT', 'CCGGCT', 'CCTCAG', 'CCTCCC', 'CCTCCG', 'CCTCTC', 'CCTCTG', 'CCTGAA', 'CCTGAC', 'CCTGAT', 'CCTGCC', 'CCTGGA', 'CCTGGC', 'CCTGGG', 'CCTGTC', 'CCTTCA', 'CCTTCT', 'CCTTGA', 'CCTTGT', 'CTCAAG', 'CTCACT', 'CTCAGC', 'CTCAGG', 'CTCCAA', 'CTCCCA', 'CTCCCT', 'CTCCTG', 'CTCTCT', 'CTCTGC', 'CTCTGT', 'CTCTTT', 'CTGACA', 'CTGACC', 'CTGAGG', 'CTGCAG', 'CTGCCC', 'CTGCCT', 'CTGCTG', 'CTGGAA', 'CTGGAG', 'CTGGCC', 'CTGGGA', 'CTGGGC', 'CTGGGG', 'CTGGTG', 'CTGTCC', 'CTGTGC', 'CTGTGT', 'CTTCAG', 'CTTCTG', 'CTTGGA', 'CTTTCC', 'CTTTGG', 'GAAACA', 'GAAGGG', 'GACCAG', 'GACCCT', 'GACTCT', 'GAGACA', 'GAGACT', 'GAGCCA', 'GAGCGG', 'GAGCTG', 'GAGGAG', 'GAGGAT', 'GAGGCC', 'GAGGCG', 'GAGGTC', 'GAGGTG', 'GAGTCT', 'GATGAT', 'GCACTG', 'GCAGAG', 'GCAGCT', 'GCAGGT', 'GCAGTG', 'GCCACA', 'GCCAGG', 'GCCCCA', 'GCCCCC', 'GCCCTG', 'GCCCTT', 'GCCTCA', 'GCCTCC', 'GCCTGA', 'GCCTGG', 'GCCTTC', 'GCCTTG', 'GCGCGG', 'GCGGGG', 'GCTCAG', 'GCTCTG', 'GCTGAG', 'GCTGCA', 'GCTGCC', 'GCTGGA', 'GCTGGC', 'GCTGGG', 'GCTGTG', 'GGAAAG', 'GGAAGA', 'GGAAGG', 'GGACTC', 'GGAGAA', 'GGAGAT', 'GGAGCC', 'GGAGCG', 'GGAGGA', 'GGAGGC', 'GGAGTG', 'GGATCA', 'GGCAAA', 'GGCAGA', 'GGCCCC', 'GGCCCT', 'GGCCGG', 'GGCCTG', 'GGCGGG', 'GGCGTG', 'GGCTCC', 'GGCTGC', 'GGCTGG', 'GGGAAA', 'GGGAAG', 'GGGACT', 'GGGAGA', 'GGGAGC', 'GGGAGG', 'GGGAGT', 'GGGCAA', 'GGGCCT', 'GGGCGG', 'GGGCTG', 'GGGGCT', 'GGGGGC', 'GGGGGT', 'GGGTGG', 'GGGTTT', 'GGTGAA', 'GGTGGA', 'GGTGGG', 'GGTGGT', 'GGTGTT', 'GGTTTG', 'GTCAGG', 'GTCCAG', 'GTCCCA', 'GTCCTC', 'GTCTCA', 'GTCTGA', 'GTGCAG', 'GTGCTG', 'GTGGGA', 'GTGGGG', 'GTGGTG', 'GTGTGA', 'GTGTGG', 'GTTTGA', 'TACAGG', 'TCAGCA', 'TCAGCC', 'TCAGGA', 'TCAGGG', 'TCAGGT', 'TCAGTC', 'TCCAGC', 'TCCCAG', 'TCCCCA', 'TCCCTT', 'TCCTCC', 'TCTCCA', 'TCTCTT', 'TCTGAG', 'TCTGCC', 'TCTGGG', 'TCTGTC', 'TCTTCA', 'TCTTCC', 'TGAAGA', 'TGAAGC', 'TGAAGG', 'TGACTC', 'TGAGGA', 'TGCAGG', 'TGCAGT', 'TGCCCT', 'TGCTCT', 'TGCTGG', 'TGGAGC', 'TGGCCC', 'TGGCCT', 'TGGCTG', 'TGGGAA', 'TGGGAG', 'TGGGGG', 'TGGTGA', 'TGGTGG', 'TGTCTG', 'TGTGGG', 'TGTGTG', 'TTCACT', 'TTCAGC', 'TTCCAC', 'TTCCCA', 'TTCCCC', 'TTCCTG', 'TTCCTT', 'TTCTCC', 'TTCTCT', 'TTCTGC', 'TTGAAG', 'TTGGGA', 'TTGTCT', 'TTTCAG', 'TTTCCC', 'TTTCTC', 'TTTTCT', 'TTTTGT', 'TTTTTA']\n"
          ],
          "name": "stdout"
        }
      ]
    },
    {
      "cell_type": "code",
      "metadata": {
        "id": "ZADqdOuzSrSH",
        "colab_type": "code",
        "outputId": "f1576c4f-630a-49f9-cbc2-9bdbd9b3ef33",
        "colab": {
          "base_uri": "https://localhost:8080/",
          "height": 54
        }
      },
      "source": [
        "common_patterns_diff_lengths_among_all('/gdrive/My Drive/Genomics/job/data/DJ1',7)"
      ],
      "execution_count": 0,
      "outputs": [
        {
          "output_type": "stream",
          "text": [
            "13 : ['AAAAAAT', 'AGCCTCC', 'CAAAAAA', 'CCCACCT', 'CCTGGCC', 'CTCAGCC', 'CTCTGTC', 'GCTGGGA', 'GGGCTGG', 'GTGCTGG', 'TCCAGCC', 'TCCCAGG', 'TGCAGTG']\n"
          ],
          "name": "stdout"
        }
      ]
    },
    {
      "cell_type": "code",
      "metadata": {
        "id": "ZUlUJoqQSw8w",
        "colab_type": "code",
        "outputId": "d11663ef-cdd5-42f7-dd58-33c0dd551651",
        "colab": {
          "base_uri": "https://localhost:8080/",
          "height": 34
        }
      },
      "source": [
        "common_patterns_diff_lengths_among_all('/gdrive/My Drive/Genomics/job/data/DJ1',8)"
      ],
      "execution_count": 0,
      "outputs": [
        {
          "output_type": "stream",
          "text": [
            "0 : []\n"
          ],
          "name": "stdout"
        }
      ]
    },
    {
      "cell_type": "code",
      "metadata": {
        "id": "7p3xhnmUTEBJ",
        "colab_type": "code",
        "outputId": "baa9e8c2-3663-48bc-fceb-b72b8b61d6ce",
        "colab": {
          "base_uri": "https://localhost:8080/",
          "height": 34
        }
      },
      "source": [
        "common_patterns_diff_lengths_among_all('/gdrive/My Drive/Genomics/job/data/DJ1',9)"
      ],
      "execution_count": 0,
      "outputs": [
        {
          "output_type": "stream",
          "text": [
            "0 : []\n"
          ],
          "name": "stdout"
        }
      ]
    },
    {
      "cell_type": "markdown",
      "metadata": {
        "id": "Pp62ekDJ0IsI",
        "colab_type": "text"
      },
      "source": [
        "## YR DISTRIBUTION"
      ]
    },
    {
      "cell_type": "code",
      "metadata": {
        "id": "KQIf4zPm-CIl",
        "colab_type": "code",
        "outputId": "574e61db-5b54-4c2b-f239-34e959bad920",
        "colab": {
          "base_uri": "https://localhost:8080/",
          "height": 34
        }
      },
      "source": [
        "common_patterns_diff_lengths_among_all('/gdrive/My Drive/Genomics/job/data/DJ1',3,MODE='YR')"
      ],
      "execution_count": 0,
      "outputs": [
        {
          "output_type": "stream",
          "text": [
            "8 : ['RRR', 'RRY', 'RYR', 'RYY', 'YRR', 'YRY', 'YYR', 'YYY']\n"
          ],
          "name": "stdout"
        }
      ]
    },
    {
      "cell_type": "code",
      "metadata": {
        "id": "EcVS9VDf-HHw",
        "colab_type": "code",
        "outputId": "de0e9a22-6c92-4a81-f2a5-68c5ae73145b",
        "colab": {
          "base_uri": "https://localhost:8080/",
          "height": 54
        }
      },
      "source": [
        "common_patterns_diff_lengths_among_all('/gdrive/My Drive/Genomics/job/data/DJ1',4,MODE='YR')"
      ],
      "execution_count": 0,
      "outputs": [
        {
          "output_type": "stream",
          "text": [
            "16 : ['RRRR', 'RRRY', 'RRYR', 'RRYY', 'RYRR', 'RYRY', 'RYYR', 'RYYY', 'YRRR', 'YRRY', 'YRYR', 'YRYY', 'YYRR', 'YYRY', 'YYYR', 'YYYY']\n"
          ],
          "name": "stdout"
        }
      ]
    },
    {
      "cell_type": "code",
      "metadata": {
        "id": "dEFlQCia_99F",
        "colab_type": "code",
        "outputId": "35e56a95-b9f8-4786-b9aa-04140321327a",
        "colab": {
          "base_uri": "https://localhost:8080/",
          "height": 54
        }
      },
      "source": [
        "common_patterns_diff_lengths_among_all('/gdrive/My Drive/Genomics/job/data/DJ1',5,MODE='YR')"
      ],
      "execution_count": 0,
      "outputs": [
        {
          "output_type": "stream",
          "text": [
            "32 : ['RRRRR', 'RRRRY', 'RRRYR', 'RRRYY', 'RRYRR', 'RRYRY', 'RRYYR', 'RRYYY', 'RYRRR', 'RYRRY', 'RYRYR', 'RYRYY', 'RYYRR', 'RYYRY', 'RYYYR', 'RYYYY', 'YRRRR', 'YRRRY', 'YRRYR', 'YRRYY', 'YRYRR', 'YRYRY', 'YRYYR', 'YRYYY', 'YYRRR', 'YYRRY', 'YYRYR', 'YYRYY', 'YYYRR', 'YYYRY', 'YYYYR', 'YYYYY']\n"
          ],
          "name": "stdout"
        }
      ]
    },
    {
      "cell_type": "code",
      "metadata": {
        "id": "FI_S17H_ACMJ",
        "colab_type": "code",
        "outputId": "7fd6ab51-d2ef-403b-c79d-d457b6b4448f",
        "colab": {
          "base_uri": "https://localhost:8080/",
          "height": 54
        }
      },
      "source": [
        "common_patterns_diff_lengths_among_all('/gdrive/My Drive/Genomics/job/data/DJ1',6,MODE='YR')"
      ],
      "execution_count": 0,
      "outputs": [
        {
          "output_type": "stream",
          "text": [
            "64 : ['RRRRRR', 'RRRRRY', 'RRRRYR', 'RRRRYY', 'RRRYRR', 'RRRYRY', 'RRRYYR', 'RRRYYY', 'RRYRRR', 'RRYRRY', 'RRYRYR', 'RRYRYY', 'RRYYRR', 'RRYYRY', 'RRYYYR', 'RRYYYY', 'RYRRRR', 'RYRRRY', 'RYRRYR', 'RYRRYY', 'RYRYRR', 'RYRYRY', 'RYRYYR', 'RYRYYY', 'RYYRRR', 'RYYRRY', 'RYYRYR', 'RYYRYY', 'RYYYRR', 'RYYYRY', 'RYYYYR', 'RYYYYY', 'YRRRRR', 'YRRRRY', 'YRRRYR', 'YRRRYY', 'YRRYRR', 'YRRYRY', 'YRRYYR', 'YRRYYY', 'YRYRRR', 'YRYRRY', 'YRYRYR', 'YRYRYY', 'YRYYRR', 'YRYYRY', 'YRYYYR', 'YRYYYY', 'YYRRRR', 'YYRRRY', 'YYRRYR', 'YYRRYY', 'YYRYRR', 'YYRYRY', 'YYRYYR', 'YYRYYY', 'YYYRRR', 'YYYRRY', 'YYYRYR', 'YYYRYY', 'YYYYRR', 'YYYYRY', 'YYYYYR', 'YYYYYY']\n"
          ],
          "name": "stdout"
        }
      ]
    },
    {
      "cell_type": "code",
      "metadata": {
        "id": "7z-EKTAeAGIP",
        "colab_type": "code",
        "outputId": "74659647-5412-443a-d9be-f3c079dd6871",
        "colab": {
          "base_uri": "https://localhost:8080/",
          "height": 54
        }
      },
      "source": [
        "common_patterns_diff_lengths_among_all('/gdrive/My Drive/Genomics/job/data/DJ1',7,MODE='YR')"
      ],
      "execution_count": 0,
      "outputs": [
        {
          "output_type": "stream",
          "text": [
            "128 : ['RRRRRRR', 'RRRRRRY', 'RRRRRYR', 'RRRRRYY', 'RRRRYRR', 'RRRRYRY', 'RRRRYYR', 'RRRRYYY', 'RRRYRRR', 'RRRYRRY', 'RRRYRYR', 'RRRYRYY', 'RRRYYRR', 'RRRYYRY', 'RRRYYYR', 'RRRYYYY', 'RRYRRRR', 'RRYRRRY', 'RRYRRYR', 'RRYRRYY', 'RRYRYRR', 'RRYRYRY', 'RRYRYYR', 'RRYRYYY', 'RRYYRRR', 'RRYYRRY', 'RRYYRYR', 'RRYYRYY', 'RRYYYRR', 'RRYYYRY', 'RRYYYYR', 'RRYYYYY', 'RYRRRRR', 'RYRRRRY', 'RYRRRYR', 'RYRRRYY', 'RYRRYRR', 'RYRRYRY', 'RYRRYYR', 'RYRRYYY', 'RYRYRRR', 'RYRYRRY', 'RYRYRYR', 'RYRYRYY', 'RYRYYRR', 'RYRYYRY', 'RYRYYYR', 'RYRYYYY', 'RYYRRRR', 'RYYRRRY', 'RYYRRYR', 'RYYRRYY', 'RYYRYRR', 'RYYRYRY', 'RYYRYYR', 'RYYRYYY', 'RYYYRRR', 'RYYYRRY', 'RYYYRYR', 'RYYYRYY', 'RYYYYRR', 'RYYYYRY', 'RYYYYYR', 'RYYYYYY', 'YRRRRRR', 'YRRRRRY', 'YRRRRYR', 'YRRRRYY', 'YRRRYRR', 'YRRRYRY', 'YRRRYYR', 'YRRRYYY', 'YRRYRRR', 'YRRYRRY', 'YRRYRYR', 'YRRYRYY', 'YRRYYRR', 'YRRYYRY', 'YRRYYYR', 'YRRYYYY', 'YRYRRRR', 'YRYRRRY', 'YRYRRYR', 'YRYRRYY', 'YRYRYRR', 'YRYRYRY', 'YRYRYYR', 'YRYRYYY', 'YRYYRRR', 'YRYYRRY', 'YRYYRYR', 'YRYYRYY', 'YRYYYRR', 'YRYYYRY', 'YRYYYYR', 'YRYYYYY', 'YYRRRRR', 'YYRRRRY', 'YYRRRYR', 'YYRRRYY', 'YYRRYRR', 'YYRRYRY', 'YYRRYYR', 'YYRRYYY', 'YYRYRRR', 'YYRYRRY', 'YYRYRYR', 'YYRYRYY', 'YYRYYRR', 'YYRYYRY', 'YYRYYYR', 'YYRYYYY', 'YYYRRRR', 'YYYRRRY', 'YYYRRYR', 'YYYRRYY', 'YYYRYRR', 'YYYRYRY', 'YYYRYYR', 'YYYRYYY', 'YYYYRRR', 'YYYYRRY', 'YYYYRYR', 'YYYYRYY', 'YYYYYRR', 'YYYYYRY', 'YYYYYYR', 'YYYYYYY']\n"
          ],
          "name": "stdout"
        }
      ]
    },
    {
      "cell_type": "code",
      "metadata": {
        "id": "iIVCp3-cAJcs",
        "colab_type": "code",
        "outputId": "393fc2cb-6eaa-4bfa-ba81-d46a831c537d",
        "colab": {
          "base_uri": "https://localhost:8080/",
          "height": 54
        }
      },
      "source": [
        "common_patterns_diff_lengths_among_all('/gdrive/My Drive/Genomics/job/data/DJ1',8,MODE='YR')"
      ],
      "execution_count": 0,
      "outputs": [
        {
          "output_type": "stream",
          "text": [
            "255 : ['RRRRRRRR', 'RRRRRRRY', 'RRRRRRYR', 'RRRRRRYY', 'RRRRRYRR', 'RRRRRYRY', 'RRRRRYYR', 'RRRRRYYY', 'RRRRYRRR', 'RRRRYRRY', 'RRRRYRYR', 'RRRRYRYY', 'RRRRYYRR', 'RRRRYYRY', 'RRRRYYYR', 'RRRRYYYY', 'RRRYRRRR', 'RRRYRRRY', 'RRRYRRYR', 'RRRYRRYY', 'RRRYRYRR', 'RRRYRYRY', 'RRRYRYYR', 'RRRYRYYY', 'RRRYYRRR', 'RRRYYRRY', 'RRRYYRYR', 'RRRYYRYY', 'RRRYYYRR', 'RRRYYYRY', 'RRRYYYYR', 'RRRYYYYY', 'RRYRRRRR', 'RRYRRRRY', 'RRYRRRYR', 'RRYRRRYY', 'RRYRRYRR', 'RRYRRYRY', 'RRYRRYYR', 'RRYRRYYY', 'RRYRYRRR', 'RRYRYRRY', 'RRYRYRYR', 'RRYRYRYY', 'RRYRYYRR', 'RRYRYYRY', 'RRYRYYYR', 'RRYRYYYY', 'RRYYRRRR', 'RRYYRRRY', 'RRYYRRYR', 'RRYYRRYY', 'RRYYRYRR', 'RRYYRYRY', 'RRYYRYYR', 'RRYYRYYY', 'RRYYYRRR', 'RRYYYRRY', 'RRYYYRYR', 'RRYYYRYY', 'RRYYYYRR', 'RRYYYYRY', 'RRYYYYYR', 'RRYYYYYY', 'RYRRRRRR', 'RYRRRRRY', 'RYRRRRYR', 'RYRRRRYY', 'RYRRRYRR', 'RYRRRYRY', 'RYRRRYYR', 'RYRRRYYY', 'RYRRYRRR', 'RYRRYRRY', 'RYRRYRYR', 'RYRRYRYY', 'RYRRYYRR', 'RYRRYYRY', 'RYRRYYYR', 'RYRRYYYY', 'RYRYRRRR', 'RYRYRRRY', 'RYRYRRYR', 'RYRYRRYY', 'RYRYRYRR', 'RYRYRYRY', 'RYRYRYYR', 'RYRYRYYY', 'RYRYYRRR', 'RYRYYRRY', 'RYRYYRYR', 'RYRYYRYY', 'RYRYYYRR', 'RYRYYYRY', 'RYRYYYYR', 'RYRYYYYY', 'RYYRRRRR', 'RYYRRRRY', 'RYYRRRYR', 'RYYRRRYY', 'RYYRRYRR', 'RYYRRYRY', 'RYYRRYYR', 'RYYRRYYY', 'RYYRYRRR', 'RYYRYRRY', 'RYYRYRYR', 'RYYRYRYY', 'RYYRYYRR', 'RYYRYYRY', 'RYYRYYYR', 'RYYRYYYY', 'RYYYRRRR', 'RYYYRRRY', 'RYYYRRYR', 'RYYYRRYY', 'RYYYRYRR', 'RYYYRYRY', 'RYYYRYYR', 'RYYYRYYY', 'RYYYYRRR', 'RYYYYRRY', 'RYYYYRYR', 'RYYYYRYY', 'RYYYYYRR', 'RYYYYYRY', 'RYYYYYYR', 'RYYYYYYY', 'YRRRRRRR', 'YRRRRRRY', 'YRRRRRYR', 'YRRRRRYY', 'YRRRRYRR', 'YRRRRYRY', 'YRRRRYYR', 'YRRRRYYY', 'YRRRYRRR', 'YRRRYRRY', 'YRRRYRYR', 'YRRRYRYY', 'YRRRYYRR', 'YRRRYYRY', 'YRRRYYYR', 'YRRRYYYY', 'YRRYRRRR', 'YRRYRRRY', 'YRRYRRYR', 'YRRYRRYY', 'YRRYRYRR', 'YRRYRYRY', 'YRRYRYYR', 'YRRYRYYY', 'YRRYYRRR', 'YRRYYRRY', 'YRRYYRYR', 'YRRYYRYY', 'YRRYYYRR', 'YRRYYYRY', 'YRRYYYYR', 'YRRYYYYY', 'YRYRRRRR', 'YRYRRRRY', 'YRYRRRYR', 'YRYRRRYY', 'YRYRRYRR', 'YRYRRYRY', 'YRYRRYYR', 'YRYRRYYY', 'YRYRYRRR', 'YRYRYRRY', 'YRYRYRYY', 'YRYRYYRR', 'YRYRYYRY', 'YRYRYYYR', 'YRYRYYYY', 'YRYYRRRR', 'YRYYRRRY', 'YRYYRRYR', 'YRYYRRYY', 'YRYYRYRR', 'YRYYRYRY', 'YRYYRYYR', 'YRYYRYYY', 'YRYYYRRR', 'YRYYYRRY', 'YRYYYRYR', 'YRYYYRYY', 'YRYYYYRR', 'YRYYYYRY', 'YRYYYYYR', 'YRYYYYYY', 'YYRRRRRR', 'YYRRRRRY', 'YYRRRRYR', 'YYRRRRYY', 'YYRRRYRR', 'YYRRRYRY', 'YYRRRYYR', 'YYRRRYYY', 'YYRRYRRR', 'YYRRYRRY', 'YYRRYRYR', 'YYRRYRYY', 'YYRRYYRR', 'YYRRYYRY', 'YYRRYYYR', 'YYRRYYYY', 'YYRYRRRR', 'YYRYRRRY', 'YYRYRRYR', 'YYRYRRYY', 'YYRYRYRR', 'YYRYRYRY', 'YYRYRYYR', 'YYRYRYYY', 'YYRYYRRR', 'YYRYYRRY', 'YYRYYRYR', 'YYRYYRYY', 'YYRYYYRR', 'YYRYYYRY', 'YYRYYYYR', 'YYRYYYYY', 'YYYRRRRR', 'YYYRRRRY', 'YYYRRRYR', 'YYYRRRYY', 'YYYRRYRR', 'YYYRRYRY', 'YYYRRYYR', 'YYYRRYYY', 'YYYRYRRR', 'YYYRYRRY', 'YYYRYRYR', 'YYYRYRYY', 'YYYRYYRR', 'YYYRYYRY', 'YYYRYYYR', 'YYYRYYYY', 'YYYYRRRR', 'YYYYRRRY', 'YYYYRRYR', 'YYYYRRYY', 'YYYYRYRR', 'YYYYRYRY', 'YYYYRYYR', 'YYYYRYYY', 'YYYYYRRR', 'YYYYYRRY', 'YYYYYRYR', 'YYYYYRYY', 'YYYYYYRR', 'YYYYYYRY', 'YYYYYYYR', 'YYYYYYYY']\n"
          ],
          "name": "stdout"
        }
      ]
    },
    {
      "cell_type": "code",
      "metadata": {
        "id": "LLdwtzvHANKL",
        "colab_type": "code",
        "outputId": "1a063b82-5e40-4dfa-a6a3-ead2bb6545ee",
        "colab": {
          "base_uri": "https://localhost:8080/",
          "height": 54
        }
      },
      "source": [
        "common_patterns_diff_lengths_among_all('/gdrive/My Drive/Genomics/job/data/DJ1',9,MODE='YR')"
      ],
      "execution_count": 0,
      "outputs": [
        {
          "output_type": "stream",
          "text": [
            "480 : ['RRRRRRRRR', 'RRRRRRRRY', 'RRRRRRRYR', 'RRRRRRRYY', 'RRRRRRYRR', 'RRRRRRYRY', 'RRRRRRYYR', 'RRRRRRYYY', 'RRRRRYRRR', 'RRRRRYRRY', 'RRRRRYRYR', 'RRRRRYRYY', 'RRRRRYYRR', 'RRRRRYYRY', 'RRRRRYYYR', 'RRRRRYYYY', 'RRRRYRRRR', 'RRRRYRRRY', 'RRRRYRRYR', 'RRRRYRRYY', 'RRRRYRYRR', 'RRRRYRYRY', 'RRRRYRYYR', 'RRRRYRYYY', 'RRRRYYRRR', 'RRRRYYRRY', 'RRRRYYRYR', 'RRRRYYRYY', 'RRRRYYYRR', 'RRRRYYYRY', 'RRRRYYYYR', 'RRRRYYYYY', 'RRRYRRRRR', 'RRRYRRRRY', 'RRRYRRRYR', 'RRRYRRRYY', 'RRRYRRYRR', 'RRRYRRYRY', 'RRRYRRYYR', 'RRRYRRYYY', 'RRRYRYRRR', 'RRRYRYRRY', 'RRRYRYRYY', 'RRRYRYYRR', 'RRRYRYYRY', 'RRRYRYYYY', 'RRRYYRRRR', 'RRRYYRRRY', 'RRRYYRRYR', 'RRRYYRRYY', 'RRRYYRYRR', 'RRRYYRYRY', 'RRRYYRYYR', 'RRRYYRYYY', 'RRRYYYRRR', 'RRRYYYRRY', 'RRRYYYRYR', 'RRRYYYRYY', 'RRRYYYYRR', 'RRRYYYYRY', 'RRRYYYYYR', 'RRRYYYYYY', 'RRYRRRRRR', 'RRYRRRRRY', 'RRYRRRRYR', 'RRYRRRRYY', 'RRYRRRYRR', 'RRYRRRYRY', 'RRYRRRYYR', 'RRYRRRYYY', 'RRYRRYRRR', 'RRYRRYRRY', 'RRYRRYRYR', 'RRYRRYRYY', 'RRYRRYYRR', 'RRYRRYYRY', 'RRYRRYYYR', 'RRYRRYYYY', 'RRYRYRRRR', 'RRYRYRRRY', 'RRYRYRRYR', 'RRYRYRRYY', 'RRYRYRYRR', 'RRYRYRYRY', 'RRYRYRYYR', 'RRYRYRYYY', 'RRYRYYRRR', 'RRYRYYRRY', 'RRYRYYRYR', 'RRYRYYRYY', 'RRYRYYYRR', 'RRYRYYYRY', 'RRYRYYYYR', 'RRYRYYYYY', 'RRYYRRRRR', 'RRYYRRRRY', 'RRYYRRRYR', 'RRYYRRRYY', 'RRYYRRYRR', 'RRYYRRYRY', 'RRYYRRYYR', 'RRYYRRYYY', 'RRYYRYRRR', 'RRYYRYRRY', 'RRYYRYRYR', 'RRYYRYRYY', 'RRYYRYYRR', 'RRYYRYYRY', 'RRYYRYYYR', 'RRYYRYYYY', 'RRYYYRRRR', 'RRYYYRRRY', 'RRYYYRRYR', 'RRYYYRRYY', 'RRYYYRYRR', 'RRYYYRYYR', 'RRYYYRYYY', 'RRYYYYRRR', 'RRYYYYRRY', 'RRYYYYRYR', 'RRYYYYRYY', 'RRYYYYYRR', 'RRYYYYYRY', 'RRYYYYYYR', 'RRYYYYYYY', 'RYRRRRRRR', 'RYRRRRRRY', 'RYRRRRRYR', 'RYRRRRRYY', 'RYRRRRYRR', 'RYRRRRYRY', 'RYRRRRYYR', 'RYRRRRYYY', 'RYRRRYRRR', 'RYRRRYRYR', 'RYRRRYRYY', 'RYRRRYYRR', 'RYRRRYYRY', 'RYRRRYYYR', 'RYRRRYYYY', 'RYRRYRRRR', 'RYRRYRRRY', 'RYRRYRRYR', 'RYRRYRRYY', 'RYRRYRYRR', 'RYRRYRYYR', 'RYRRYRYYY', 'RYRRYYRRR', 'RYRRYYRRY', 'RYRRYYRYR', 'RYRRYYRYY', 'RYRRYYYRR', 'RYRRYYYRY', 'RYRRYYYYR', 'RYRRYYYYY', 'RYRYRRRRR', 'RYRYRRRRY', 'RYRYRRRYY', 'RYRYRRYRR', 'RYRYRRYYR', 'RYRYRRYYY', 'RYRYRYRRR', 'RYRYRYRYY', 'RYRYRYYYR', 'RYRYRYYYY', 'RYRYYRRRR', 'RYRYYRRRY', 'RYRYYRRYR', 'RYRYYRRYY', 'RYRYYRYRR', 'RYRYYRYRY', 'RYRYYRYYR', 'RYRYYRYYY', 'RYRYYYRRR', 'RYRYYYRRY', 'RYRYYYRYR', 'RYRYYYRYY', 'RYRYYYYRR', 'RYRYYYYRY', 'RYRYYYYYR', 'RYRYYYYYY', 'RYYRRRRRR', 'RYYRRRRRY', 'RYYRRRRYR', 'RYYRRRRYY', 'RYYRRRYRR', 'RYYRRRYRY', 'RYYRRRYYR', 'RYYRRRYYY', 'RYYRRYRRR', 'RYYRRYRRY', 'RYYRRYRYR', 'RYYRRYRYY', 'RYYRRYYRR', 'RYYRRYYRY', 'RYYRRYYYR', 'RYYRRYYYY', 'RYYRYRRRR', 'RYYRYRRRY', 'RYYRYRRYR', 'RYYRYRRYY', 'RYYRYRYRR', 'RYYRYRYYR', 'RYYRYRYYY', 'RYYRYYRRR', 'RYYRYYRRY', 'RYYRYYRYR', 'RYYRYYRYY', 'RYYRYYYRR', 'RYYRYYYRY', 'RYYRYYYYR', 'RYYRYYYYY', 'RYYYRRRRR', 'RYYYRRRRY', 'RYYYRRRYR', 'RYYYRRRYY', 'RYYYRRYRR', 'RYYYRRYRY', 'RYYYRRYYR', 'RYYYRRYYY', 'RYYYRYRRR', 'RYYYRYRRY', 'RYYYRYRYY', 'RYYYRYYRR', 'RYYYRYYRY', 'RYYYRYYYR', 'RYYYRYYYY', 'RYYYYRRRR', 'RYYYYRRRY', 'RYYYYRRYR', 'RYYYYRRYY', 'RYYYYRYRR', 'RYYYYRYRY', 'RYYYYRYYR', 'RYYYYRYYY', 'RYYYYYRRR', 'RYYYYYRRY', 'RYYYYYRYR', 'RYYYYYRYY', 'RYYYYYYRR', 'RYYYYYYRY', 'RYYYYYYYR', 'RYYYYYYYY', 'YRRRRRRRR', 'YRRRRRRRY', 'YRRRRRRYR', 'YRRRRRRYY', 'YRRRRRYRR', 'YRRRRRYRY', 'YRRRRRYYR', 'YRRRRRYYY', 'YRRRRYRRR', 'YRRRRYRYR', 'YRRRRYRYY', 'YRRRRYYRR', 'YRRRRYYRY', 'YRRRRYYYR', 'YRRRRYYYY', 'YRRRYRRRR', 'YRRRYRRRY', 'YRRRYRRYR', 'YRRRYRRYY', 'YRRRYRYRR', 'YRRRYRYRY', 'YRRRYRYYR', 'YRRRYRYYY', 'YRRRYYRRR', 'YRRRYYRRY', 'YRRRYYRYR', 'YRRRYYRYY', 'YRRRYYYRR', 'YRRRYYYRY', 'YRRRYYYYR', 'YRRRYYYYY', 'YRRYRRRRR', 'YRRYRRRRY', 'YRRYRRRYR', 'YRRYRRRYY', 'YRRYRRYRR', 'YRRYRRYRY', 'YRRYRRYYR', 'YRRYRRYYY', 'YRRYRYRRR', 'YRRYRYRRY', 'YRRYRYRYR', 'YRRYRYRYY', 'YRRYRYYRR', 'YRRYRYYRY', 'YRRYRYYYR', 'YRRYRYYYY', 'YRRYYRRRR', 'YRRYYRRRY', 'YRRYYRRYR', 'YRRYYRRYY', 'YRRYYRYRR', 'YRRYYRYYR', 'YRRYYRYYY', 'YRRYYYRRR', 'YRRYYYRRY', 'YRRYYYRYR', 'YRRYYYRYY', 'YRRYYYYRR', 'YRRYYYYRY', 'YRRYYYYYR', 'YRRYYYYYY', 'YRYRRRRRR', 'YRYRRRRRY', 'YRYRRRRYR', 'YRYRRRRYY', 'YRYRRRYRY', 'YRYRRRYYR', 'YRYRRRYYY', 'YRYRRYRRR', 'YRYRRYRRY', 'YRYRRYRYR', 'YRYRRYYRR', 'YRYRRYYRY', 'YRYRRYYYR', 'YRYRRYYYY', 'YRYRYRRRR', 'YRYRYRRYR', 'YRYRYRYYY', 'YRYRYYRRR', 'YRYRYYRYY', 'YRYRYYYRR', 'YRYRYYYRY', 'YRYRYYYYR', 'YRYRYYYYY', 'YRYYRRRRR', 'YRYYRRRRY', 'YRYYRRRYR', 'YRYYRRRYY', 'YRYYRRYRR', 'YRYYRRYYR', 'YRYYRRYYY', 'YRYYRYRRR', 'YRYYRYRYY', 'YRYYRYYRR', 'YRYYRYYRY', 'YRYYRYYYR', 'YRYYRYYYY', 'YRYYYRRRR', 'YRYYYRRRY', 'YRYYYRRYR', 'YRYYYRRYY', 'YRYYYRYRR', 'YRYYYRYYR', 'YRYYYRYYY', 'YRYYYYRRR', 'YRYYYYRRY', 'YRYYYYRYR', 'YRYYYYRYY', 'YRYYYYYRR', 'YRYYYYYRY', 'YRYYYYYYR', 'YRYYYYYYY', 'YYRRRRRRR', 'YYRRRRRRY', 'YYRRRRRYR', 'YYRRRRRYY', 'YYRRRRYRR', 'YYRRRRYRY', 'YYRRRRYYR', 'YYRRRRYYY', 'YYRRRYRRR', 'YYRRRYRRY', 'YYRRRYRYR', 'YYRRRYRYY', 'YYRRRYYRR', 'YYRRRYYRY', 'YYRRRYYYR', 'YYRRRYYYY', 'YYRRYRRRR', 'YYRRYRRRY', 'YYRRYRRYR', 'YYRRYRRYY', 'YYRRYRYRR', 'YYRRYRYRY', 'YYRRYRYYY', 'YYRRYYRRR', 'YYRRYYRRY', 'YYRRYYRYR', 'YYRRYYRYY', 'YYRRYYYRR', 'YYRRYYYRY', 'YYRRYYYYR', 'YYRRYYYYY', 'YYRYRRRRR', 'YYRYRRRRY', 'YYRYRRRYR', 'YYRYRRRYY', 'YYRYRRYRR', 'YYRYRRYRY', 'YYRYRRYYR', 'YYRYRRYYY', 'YYRYRYRRR', 'YYRYRYRRY', 'YYRYRYRYY', 'YYRYRYYRR', 'YYRYRYYRY', 'YYRYRYYYR', 'YYRYRYYYY', 'YYRYYRRRR', 'YYRYYRRRY', 'YYRYYRRYR', 'YYRYYRRYY', 'YYRYYRYRR', 'YYRYYRYRY', 'YYRYYRYYR', 'YYRYYRYYY', 'YYRYYYRRR', 'YYRYYYRRY', 'YYRYYYRYR', 'YYRYYYRYY', 'YYRYYYYRR', 'YYRYYYYRY', 'YYRYYYYYR', 'YYRYYYYYY', 'YYYRRRRRR', 'YYYRRRRRY', 'YYYRRRRYR', 'YYYRRRRYY', 'YYYRRRYRR', 'YYYRRRYRY', 'YYYRRRYYR', 'YYYRRRYYY', 'YYYRRYRRR', 'YYYRRYRRY', 'YYYRRYRYY', 'YYYRRYYRR', 'YYYRRYYRY', 'YYYRRYYYR', 'YYYRRYYYY', 'YYYRYRRRR', 'YYYRYRRRY', 'YYYRYRRYR', 'YYYRYRRYY', 'YYYRYRYRR', 'YYYRYRYYR', 'YYYRYRYYY', 'YYYRYYRRR', 'YYYRYYRRY', 'YYYRYYRYR', 'YYYRYYRYY', 'YYYRYYYRR', 'YYYRYYYRY', 'YYYRYYYYR', 'YYYRYYYYY', 'YYYYRRRRR', 'YYYYRRRRY', 'YYYYRRRYR', 'YYYYRRRYY', 'YYYYRRYRR', 'YYYYRRYRY', 'YYYYRRYYR', 'YYYYRRYYY', 'YYYYRYRRR', 'YYYYRYRRY', 'YYYYRYRYR', 'YYYYRYRYY', 'YYYYRYYRR', 'YYYYRYYRY', 'YYYYRYYYR', 'YYYYRYYYY', 'YYYYYRRRR', 'YYYYYRRRY', 'YYYYYRRYR', 'YYYYYRRYY', 'YYYYYRYRR', 'YYYYYRYRY', 'YYYYYRYYR', 'YYYYYRYYY', 'YYYYYYRRR', 'YYYYYYRRY', 'YYYYYYRYR', 'YYYYYYRYY', 'YYYYYYYRR', 'YYYYYYYRY', 'YYYYYYYYR', 'YYYYYYYYY']\n"
          ],
          "name": "stdout"
        }
      ]
    },
    {
      "cell_type": "code",
      "metadata": {
        "id": "yZhpqcX7ARgC",
        "colab_type": "code",
        "outputId": "2dac62f2-428d-4e01-8779-ac9792ff0618",
        "colab": {
          "base_uri": "https://localhost:8080/",
          "height": 54
        }
      },
      "source": [
        "common_patterns_diff_lengths_among_all('/gdrive/My Drive/Genomics/job/data/DJ1',10,MODE='YR')"
      ],
      "execution_count": 0,
      "outputs": [
        {
          "output_type": "stream",
          "text": [
            "736 : ['RRRRRRRRRR', 'RRRRRRRRRY', 'RRRRRRRRYR', 'RRRRRRRRYY', 'RRRRRRRYRR', 'RRRRRRRYRY', 'RRRRRRRYYR', 'RRRRRRRYYY', 'RRRRRRYRRR', 'RRRRRRYRRY', 'RRRRRRYRYR', 'RRRRRRYRYY', 'RRRRRRYYRR', 'RRRRRRYYRY', 'RRRRRRYYYR', 'RRRRRRYYYY', 'RRRRRYRRRR', 'RRRRRYRRRY', 'RRRRRYRRYR', 'RRRRRYRRYY', 'RRRRRYRYRR', 'RRRRRYRYRY', 'RRRRRYRYYR', 'RRRRRYRYYY', 'RRRRRYYRRR', 'RRRRRYYRRY', 'RRRRRYYRYR', 'RRRRRYYRYY', 'RRRRRYYYRR', 'RRRRRYYYRY', 'RRRRRYYYYR', 'RRRRRYYYYY', 'RRRRYRRRRR', 'RRRRYRRRRY', 'RRRRYRRRYR', 'RRRRYRRRYY', 'RRRRYRRYRR', 'RRRRYRRYRY', 'RRRRYRRYYR', 'RRRRYRYRRR', 'RRRRYRYRRY', 'RRRRYRYRYY', 'RRRRYRYYRR', 'RRRRYRYYYY', 'RRRRYYRRRR', 'RRRRYYRRRY', 'RRRRYYRRYR', 'RRRRYYRRYY', 'RRRRYYRYRR', 'RRRRYYRYRY', 'RRRRYYRYYR', 'RRRRYYRYYY', 'RRRRYYYRRR', 'RRRRYYYRYR', 'RRRRYYYRYY', 'RRRRYYYYRR', 'RRRRYYYYRY', 'RRRRYYYYYR', 'RRRRYYYYYY', 'RRRYRRRRRR', 'RRRYRRRRRY', 'RRRYRRRRYR', 'RRRYRRRRYY', 'RRRYRRRYRR', 'RRRYRRRYRY', 'RRRYRRRYYR', 'RRRYRRRYYY', 'RRRYRRYRRR', 'RRRYRRYRRY', 'RRRYRRYRYR', 'RRRYRRYRYY', 'RRRYRYRRRR', 'RRRYRYRRRY', 'RRRYRYRRYR', 'RRRYRYRRYY', 'RRRYRYRYYR', 'RRRYRYRYYY', 'RRRYRYYRRR', 'RRRYRYYRRY', 'RRRYRYYRYY', 'RRRYRYYYYR', 'RRRYRYYYYY', 'RRRYYRRRRR', 'RRRYYRRRRY', 'RRRYYRRRYR', 'RRRYYRRRYY', 'RRRYYRRYRR', 'RRRYYRRYRY', 'RRRYYRRYYR', 'RRRYYRRYYY', 'RRRYYRYRRR', 'RRRYYRYRRY', 'RRRYYRYRYR', 'RRRYYRYRYY', 'RRRYYRYYRY', 'RRRYYRYYYR', 'RRRYYRYYYY', 'RRRYYYRRRR', 'RRRYYYRRRY', 'RRRYYYRRYR', 'RRRYYYRRYY', 'RRRYYYRYRR', 'RRRYYYRYYY', 'RRRYYYYRRR', 'RRRYYYYRRY', 'RRRYYYYRYR', 'RRRYYYYRYY', 'RRRYYYYYRR', 'RRRYYYYYRY', 'RRRYYYYYYR', 'RRRYYYYYYY', 'RRYRRRRRRR', 'RRYRRRRRRY', 'RRYRRRRRYR', 'RRYRRRRRYY', 'RRYRRRRYRR', 'RRYRRRRYRY', 'RRYRRRRYYR', 'RRYRRRRYYY', 'RRYRRRYRRR', 'RRYRRRYRYR', 'RRYRRRYRYY', 'RRYRRRYYRR', 'RRYRRRYYRY', 'RRYRRRYYYR', 'RRYRRRYYYY', 'RRYRRYRRRR', 'RRYRRYRRRY', 'RRYRRYRRYR', 'RRYRRYRRYY', 'RRYRRYRYRR', 'RRYRRYRYYR', 'RRYRRYRYYY', 'RRYRRYYRRR', 'RRYRRYYRRY', 'RRYRRYYRYR', 'RRYRRYYYRR', 'RRYRRYYYRY', 'RRYRRYYYYY', 'RRYRYRRRRR', 'RRYRYRRRRY', 'RRYRYRRRYY', 'RRYRYRRYRR', 'RRYRYRRYYR', 'RRYRYRRYYY', 'RRYRYRYRRR', 'RRYRYRYYYR', 'RRYRYYRRRR', 'RRYRYYRRRY', 'RRYRYYRRYR', 'RRYRYYRRYY', 'RRYRYYRYYR', 'RRYRYYRYYY', 'RRYRYYYRRR', 'RRYRYYYRRY', 'RRYRYYYRYR', 'RRYRYYYRYY', 'RRYRYYYYRR', 'RRYRYYYYRY', 'RRYRYYYYYR', 'RRYRYYYYYY', 'RRYYRRRRRR', 'RRYYRRRRRY', 'RRYYRRRRYR', 'RRYYRRRRYY', 'RRYYRRRYRR', 'RRYYRRRYRY', 'RRYYRRRYYR', 'RRYYRRRYYY', 'RRYYRRYRRR', 'RRYYRRYRYR', 'RRYYRRYYRR', 'RRYYRRYYYR', 'RRYYRRYYYY', 'RRYYRYRRRR', 'RRYYRYRRRY', 'RRYYRYRRYR', 'RRYYRYRRYY', 'RRYYRYYRRR', 'RRYYRYYYRR', 'RRYYRYYYRY', 'RRYYRYYYYR', 'RRYYRYYYYY', 'RRYYYRRRRR', 'RRYYYRRRRY', 'RRYYYRRRYR', 'RRYYYRRRYY', 'RRYYYRRYRR', 'RRYYYRRYRY', 'RRYYYRRYYR', 'RRYYYRRYYY', 'RRYYYRYRRY', 'RRYYYRYYRR', 'RRYYYRYYYR', 'RRYYYRYYYY', 'RRYYYYRRRR', 'RRYYYYRRYR', 'RRYYYYRRYY', 'RRYYYYRYRR', 'RRYYYYRYYY', 'RRYYYYYRRR', 'RRYYYYYRRY', 'RRYYYYYRYR', 'RRYYYYYRYY', 'RRYYYYYYRR', 'RRYYYYYYYR', 'RRYYYYYYYY', 'RYRRRRRRRR', 'RYRRRRRRRY', 'RYRRRRRRYR', 'RYRRRRRRYY', 'RYRRRRRYRR', 'RYRRRRRYRY', 'RYRRRRRYYR', 'RYRRRRRYYY', 'RYRRRRYRRR', 'RYRRRRYRYR', 'RYRRRRYRYY', 'RYRRRRYYRR', 'RYRRRRYYRY', 'RYRRRRYYYR', 'RYRRRRYYYY', 'RYRRRYRRRR', 'RYRRRYRRRY', 'RYRRRYRYRR', 'RYRRRYRYYY', 'RYRRRYYRRR', 'RYRRRYYRYY', 'RYRRRYYYRR', 'RYRRRYYYYR', 'RYRRRYYYYY', 'RYRRYRRRRR', 'RYRRYRRRRY', 'RYRRYRRRYR', 'RYRRYRRRYY', 'RYRRYRRYRY', 'RYRRYRRYYY', 'RYRRYRYRRR', 'RYRRYRYRRY', 'RYRRYRYYRR', 'RYRRYRYYYY', 'RYRRYYRRRR', 'RYRRYYRRYR', 'RYRRYYRRYY', 'RYRRYYRYYR', 'RYRRYYRYYY', 'RYRRYYYRRR', 'RYRRYYYRYY', 'RYRRYYYYRR', 'RYRRYYYYRY', 'RYRRYYYYYR', 'RYRRYYYYYY', 'RYRYRRRRRR', 'RYRYRRRRRY', 'RYRYRRRRYY', 'RYRYRRYRRR', 'RYRYRRYYRR', 'RYRYRRYYYY', 'RYRYRYRRRR', 'RYRYRYRYYY', 'RYRYRYYYRY', 'RYRYYRRRRR', 'RYRYYRRRRY', 'RYRYYRRYRR', 'RYRYYRRYYR', 'RYRYYRYRYY', 'RYRYYRYYRR', 'RYRYYRYYRY', 'RYRYYRYYYR', 'RYRYYRYYYY', 'RYRYYYRRRR', 'RYRYYYRRYR', 'RYRYYYRRYY', 'RYRYYYRYRR', 'RYRYYYRYYR', 'RYRYYYRYYY', 'RYRYYYYRRR', 'RYRYYYYRRY', 'RYRYYYYRYY', 'RYRYYYYYRR', 'RYRYYYYYRY', 'RYRYYYYYYR', 'RYRYYYYYYY', 'RYYRRRRRRR', 'RYYRRRRRRY', 'RYYRRRRRYR', 'RYYRRRRRYY', 'RYYRRRRYRR', 'RYYRRRRYYR', 'RYYRRRRYYY', 'RYYRRRYRRR', 'RYYRRRYRRY', 'RYYRRRYYRY', 'RYYRRRYYYR', 'RYYRRRYYYY', 'RYYRRYRRRR', 'RYYRRYRRRY', 'RYYRRYRRYY', 'RYYRRYRYRR', 'RYYRRYRYYY', 'RYYRRYYRRR', 'RYYRRYYRRY', 'RYYRRYYRYR', 'RYYRRYYYRR', 'RYYRRYYYRY', 'RYYRRYYYYY', 'RYYRYRRRRR', 'RYYRYRRRRY', 'RYYRYRRYRR', 'RYYRYRRYYY', 'RYYRYRYYYY', 'RYYRYYRYRY', 'RYYRYYRYYR', 'RYYRYYRYYY', 'RYYRYYYRRR', 'RYYRYYYRYR', 'RYYRYYYYRR', 'RYYRYYYYRY', 'RYYRYYYYYR', 'RYYRYYYYYY', 'RYYYRRRRRR', 'RYYYRRRRRY', 'RYYYRRRRYY', 'RYYYRRRYRR', 'RYYYRRRYRY', 'RYYYRRRYYR', 'RYYYRRRYYY', 'RYYYRRYRRR', 'RYYYRRYRYY', 'RYYYRRYYRR', 'RYYYRRYYRY', 'RYYYRRYYYR', 'RYYYRRYYYY', 'RYYYRYRRRR', 'RYYYRYRRYR', 'RYYYRYRRYY', 'RYYYRYRYYY', 'RYYYRYYRRR', 'RYYYRYYRYY', 'RYYYRYYYRR', 'RYYYRYYYYR', 'RYYYRYYYYY', 'RYYYYRRRRR', 'RYYYYRRRRY', 'RYYYYRRRYY', 'RYYYYRRYRR', 'RYYYYRRYYR', 'RYYYYRRYYY', 'RYYYYRYRRY', 'RYYYYRYRYR', 'RYYYYRYRYY', 'RYYYYRYYRR', 'RYYYYRYYYR', 'RYYYYRYYYY', 'RYYYYYRRRR', 'RYYYYYRRRY', 'RYYYYYRRYR', 'RYYYYYRRYY', 'RYYYYYRYRY', 'RYYYYYRYYR', 'RYYYYYRYYY', 'RYYYYYYRRR', 'RYYYYYYRRY', 'RYYYYYYRYY', 'RYYYYYYYRR', 'RYYYYYYYRY', 'RYYYYYYYYR', 'RYYYYYYYYY', 'YRRRRRRRRR', 'YRRRRRRRRY', 'YRRRRRRRYR', 'YRRRRRRRYY', 'YRRRRRRYRR', 'YRRRRRRYRY', 'YRRRRRRYYR', 'YRRRRRRYYY', 'YRRRRRYRRR', 'YRRRRRYRRY', 'YRRRRRYRYR', 'YRRRRRYRYY', 'YRRRRRYYRR', 'YRRRRRYYRY', 'YRRRRRYYYR', 'YRRRRRYYYY', 'YRRRRYRRRR', 'YRRRRYRRRY', 'YRRRRYRYRR', 'YRRRRYRYYY', 'YRRRRYYRRY', 'YRRRRYYRYR', 'YRRRRYYRYY', 'YRRRRYYYRR', 'YRRRRYYYRY', 'YRRRRYYYYR', 'YRRRRYYYYY', 'YRRRYRRRRR', 'YRRRYRRRRY', 'YRRRYRRRYR', 'YRRRYRRRYY', 'YRRRYRRYRR', 'YRRRYRRYRY', 'YRRRYRYRRR', 'YRRRYRYRRY', 'YRRRYRYYRR', 'YRRRYRYYRY', 'YRRRYRYYYY', 'YRRRYYRRRR', 'YRRRYYRRRY', 'YRRRYYRRYY', 'YRRRYYRYRR', 'YRRRYYRYYR', 'YRRRYYRYYY', 'YRRRYYYRRR', 'YRRRYYYRRY', 'YRRRYYYRYR', 'YRRRYYYRYY', 'YRRRYYYYRR', 'YRRRYYYYRY', 'YRRRYYYYYR', 'YRRRYYYYYY', 'YRRYRRRRRR', 'YRRYRRRRRY', 'YRRYRRRRYR', 'YRRYRRRRYY', 'YRRYRRRYRR', 'YRRYRRRYRY', 'YRRYRRRYYR', 'YRRYRRRYYY', 'YRRYRRYRRR', 'YRRYRRYRRY', 'YRRYRRYRYR', 'YRRYRRYRYY', 'YRRYRRYYRR', 'YRRYRRYYYR', 'YRRYRRYYYY', 'YRRYRYRRRR', 'YRRYRYRRRY', 'YRRYRYRRYR', 'YRRYRYRRYY', 'YRRYRYRYRR', 'YRRYRYYRRR', 'YRRYRYYRRY', 'YRRYRYYRYY', 'YRRYRYYYRR', 'YRRYRYYYRY', 'YRRYRYYYYR', 'YRRYRYYYYY', 'YRRYYRRRRR', 'YRRYYRRRRY', 'YRRYYRRRYR', 'YRRYYRRRYY', 'YRRYYRRYYR', 'YRRYYRYRRR', 'YRRYYRYRRY', 'YRRYYRYYRY', 'YRRYYRYYYR', 'YRRYYRYYYY', 'YRRYYYRRRR', 'YRRYYYRRRY', 'YRRYYYRRYR', 'YRRYYYRRYY', 'YRRYYYRYRR', 'YRRYYYRYYR', 'YRRYYYRYYY', 'YRRYYYYRRR', 'YRRYYYYRRY', 'YRRYYYYRYR', 'YRRYYYYRYY', 'YRRYYYYYRR', 'YRRYYYYYRY', 'YRRYYYYYYR', 'YRRYYYYYYY', 'YRYRRRRRRR', 'YRYRRRRRRY', 'YRYRRRRRYR', 'YRYRRRRRYY', 'YRYRRRRYRR', 'YRYRRRRYRY', 'YRYRRRRYYR', 'YRYRRRRYYY', 'YRYRRRYYRY', 'YRYRRRYYYY', 'YRYRRYRRRR', 'YRYRRYRRYR', 'YRYRRYYRRR', 'YRYRRYYRYY', 'YRYRRYYYRR', 'YRYRRYYYYR', 'YRYRRYYYYY', 'YRYRYRRRRR', 'YRYRYRYYYR', 'YRYRYYRRRR', 'YRYRYYRYYY', 'YRYRYYYRRY', 'YRYRYYYRYR', 'YRYRYYYYRR', 'YRYRYYYYYR', 'YRYRYYYYYY', 'YRYYRRRRRR', 'YRYYRRRRRY', 'YRYYRRRRYR', 'YRYYRRRRYY', 'YRYYRRRYYY', 'YRYYRRYRRY', 'YRYYRRYYRR', 'YRYYRRYYRY', 'YRYYRRYYYR', 'YRYYRRYYYY', 'YRYYRYRRRR', 'YRYYRYRYYY', 'YRYYRYYRRY', 'YRYYRYYRYR', 'YRYYRYYYRR', 'YRYYRYYYRY', 'YRYYRYYYYR', 'YRYYRYYYYY', 'YRYYYRRRRR', 'YRYYYRRRRY', 'YRYYYRRYRR', 'YRYYYRRYRY', 'YRYYYRRYYR', 'YRYYYRRYYY', 'YRYYYRYRRR', 'YRYYYRYRRY', 'YRYYYRYYYR', 'YRYYYRYYYY', 'YRYYYYRRRR', 'YRYYYYRRYY', 'YRYYYYRYRY', 'YRYYYYRYYY', 'YRYYYYYRRR', 'YRYYYYYRRY', 'YRYYYYYRYY', 'YRYYYYYYRR', 'YRYYYYYYRY', 'YRYYYYYYYR', 'YRYYYYYYYY', 'YYRRRRRRRR', 'YYRRRRRRRY', 'YYRRRRRRYR', 'YYRRRRRRYY', 'YYRRRRRYRR', 'YYRRRRRYRY', 'YYRRRRRYYR', 'YYRRRRRYYY', 'YYRRRRYRRR', 'YYRRRRYRYR', 'YYRRRRYYRR', 'YYRRRRYYRY', 'YYRRRRYYYR', 'YYRRRRYYYY', 'YYRRRYRRYR', 'YYRRRYRYRR', 'YYRRRYRYRY', 'YYRRRYRYYR', 'YYRRRYRYYY', 'YYRRRYYRRR', 'YYRRRYYRRY', 'YYRRRYYRYR', 'YYRRRYYRYY', 'YYRRRYYYRR', 'YYRRRYYYRY', 'YYRRRYYYYR', 'YYRRRYYYYY', 'YYRRYRRRRR', 'YYRRYRRRRY', 'YYRRYRRRYR', 'YYRRYRRYRR', 'YYRRYRRYYR', 'YYRRYRRYYY', 'YYRRYRYRRY', 'YYRRYRYRYR', 'YYRRYRYYYR', 'YYRRYRYYYY', 'YYRRYYRRRR', 'YYRRYYRRRY', 'YYRRYYRRYY', 'YYRRYYRYRR', 'YYRRYYRYYY', 'YYRRYYYRRR', 'YYRRYYYRRY', 'YYRRYYYRYR', 'YYRRYYYRYY', 'YYRRYYYYRR', 'YYRRYYYYRY', 'YYRRYYYYYR', 'YYRRYYYYYY', 'YYRYRRRRRR', 'YYRYRRRRRY', 'YYRYRRRRYR', 'YYRYRRRRYY', 'YYRYRRRYRY', 'YYRYRRYRRR', 'YYRYRRYYRR', 'YYRYRRYYRY', 'YYRYRRYYYR', 'YYRYRRYYYY', 'YYRYRYRRRR', 'YYRYRYRRYR', 'YYRYRYRYYY', 'YYRYRYYRYY', 'YYRYRYYYRY', 'YYRYRYYYYY', 'YYRYYRRRRR', 'YYRYYRRRRY', 'YYRYYRRRYY', 'YYRYYRRYRR', 'YYRYYRRYYR', 'YYRYYRRYYY', 'YYRYYRYRRR', 'YYRYYRYRYY', 'YYRYYRYYRR', 'YYRYYRYYYR', 'YYRYYRYYYY', 'YYRYYYRRRR', 'YYRYYYRRRY', 'YYRYYYRYRR', 'YYRYYYRYYY', 'YYRYYYYRRR', 'YYRYYYYRRY', 'YYRYYYYRYR', 'YYRYYYYRYY', 'YYRYYYYYRR', 'YYRYYYYYRY', 'YYRYYYYYYR', 'YYRYYYYYYY', 'YYYRRRRRRR', 'YYYRRRRRRY', 'YYYRRRRRYR', 'YYYRRRRRYY', 'YYYRRRRYRR', 'YYYRRRRYRY', 'YYYRRRRYYR', 'YYYRRRRYYY', 'YYYRRRYRRR', 'YYYRRRYRRY', 'YYYRRRYRYR', 'YYYRRRYRYY', 'YYYRRRYYRR', 'YYYRRRYYRY', 'YYYRRRYYYR', 'YYYRRRYYYY', 'YYYRRYRRRR', 'YYYRRYRRRY', 'YYYRRYRRYR', 'YYYRRYRRYY', 'YYYRRYRYYY', 'YYYRRYYRRR', 'YYYRRYYRRY', 'YYYRRYYRYY', 'YYYRRYYYRR', 'YYYRRYYYRY', 'YYYRRYYYYR', 'YYYRRYYYYY', 'YYYRYRRRRR', 'YYYRYRRRRY', 'YYYRYRRYRR', 'YYYRYRRYRY', 'YYYRYRRYYR', 'YYYRYRRYYY', 'YYYRYRYRRR', 'YYYRYRYRRY', 'YYYRYRYYRR', 'YYYRYRYYYR', 'YYYRYRYYYY', 'YYYRYYRRRR', 'YYYRYYRRRY', 'YYYRYYRRYR', 'YYYRYYRYRR', 'YYYRYYRYYR', 'YYYRYYRYYY', 'YYYRYYYRRR', 'YYYRYYYRRY', 'YYYRYYYRYR', 'YYYRYYYRYY', 'YYYRYYYYRR', 'YYYRYYYYRY', 'YYYRYYYYYR', 'YYYRYYYYYY', 'YYYYRRRRRR', 'YYYYRRRRRY', 'YYYYRRRRYY', 'YYYYRRRYRY', 'YYYYRRRYYR', 'YYYYRRRYYY', 'YYYYRRYRRR', 'YYYYRRYRRY', 'YYYYRRYRYY', 'YYYYRRYYRR', 'YYYYRRYYRY', 'YYYYRRYYYR', 'YYYYRRYYYY', 'YYYYRYRRRR', 'YYYYRYRRRY', 'YYYYRYRRYY', 'YYYYRYRYRR', 'YYYYRYRYYR', 'YYYYRYRYYY', 'YYYYRYYRRR', 'YYYYRYYRRY', 'YYYYRYYRYY', 'YYYYRYYYRY', 'YYYYRYYYYR', 'YYYYRYYYYY', 'YYYYYRRRRR', 'YYYYYRRRRY', 'YYYYYRRRYR', 'YYYYYRRRYY', 'YYYYYRRYRR', 'YYYYYRRYRY', 'YYYYYRRYYR', 'YYYYYRRYYY', 'YYYYYRYRRR', 'YYYYYRYRRY', 'YYYYYRYRYR', 'YYYYYRYRYY', 'YYYYYRYYRR', 'YYYYYRYYRY', 'YYYYYRYYYR', 'YYYYYRYYYY', 'YYYYYYRRRR', 'YYYYYYRRRY', 'YYYYYYRRYR', 'YYYYYYRRYY', 'YYYYYYRYRR', 'YYYYYYRYRY', 'YYYYYYRYYR', 'YYYYYYRYYY', 'YYYYYYYRRR', 'YYYYYYYRRY', 'YYYYYYYRYR', 'YYYYYYYRYY', 'YYYYYYYYRR', 'YYYYYYYYRY', 'YYYYYYYYYR', 'YYYYYYYYYY']\n"
          ],
          "name": "stdout"
        }
      ]
    },
    {
      "cell_type": "code",
      "metadata": {
        "id": "MmW8RNzCAXFQ",
        "colab_type": "code",
        "outputId": "876fe8eb-bfda-41b7-dab9-c7d72ba9a9ad",
        "colab": {
          "base_uri": "https://localhost:8080/",
          "height": 54
        }
      },
      "source": [
        "common_patterns_diff_lengths_among_all('/gdrive/My Drive/Genomics/job/data/DJ1',11,MODE='YR')"
      ],
      "execution_count": 0,
      "outputs": [
        {
          "output_type": "stream",
          "text": [
            "672 : ['RRRRRRRRRRR', 'RRRRRRRRRRY', 'RRRRRRRRRYR', 'RRRRRRRRRYY', 'RRRRRRRRYRR', 'RRRRRRRRYRY', 'RRRRRRRRYYR', 'RRRRRRRRYYY', 'RRRRRRRYRRR', 'RRRRRRRYRRY', 'RRRRRRRYRYR', 'RRRRRRRYYRR', 'RRRRRRRYYRY', 'RRRRRRRYYYR', 'RRRRRRRYYYY', 'RRRRRRYRRRR', 'RRRRRRYRRRY', 'RRRRRRYRRYR', 'RRRRRRYRYRR', 'RRRRRRYRYRY', 'RRRRRRYRYYY', 'RRRRRRYYRRR', 'RRRRRRYYRRY', 'RRRRRRYYRYY', 'RRRRRRYYYRR', 'RRRRRRYYYYR', 'RRRRRRYYYYY', 'RRRRRYRRRRR', 'RRRRRYRRRYR', 'RRRRRYRRYRR', 'RRRRRYRRYRY', 'RRRRRYRRYYR', 'RRRRRYRYRRR', 'RRRRRYRYRRY', 'RRRRRYRYYRR', 'RRRRRYYRRRR', 'RRRRRYYRRRY', 'RRRRRYYRRYR', 'RRRRRYYRRYY', 'RRRRRYYRYYY', 'RRRRRYYYRRR', 'RRRRRYYYRYY', 'RRRRRYYYYRR', 'RRRRRYYYYRY', 'RRRRRYYYYYR', 'RRRRRYYYYYY', 'RRRRYRRRRRR', 'RRRRYRRRRRY', 'RRRRYRRRRYY', 'RRRRYRRRYRR', 'RRRRYRRYRRR', 'RRRRYRYRRRR', 'RRRRYRYRRRY', 'RRRRYRYRRYR', 'RRRRYRYYRRY', 'RRRRYRYYYYY', 'RRRRYYRRRRR', 'RRRRYYRRRYY', 'RRRRYYRRYRR', 'RRRRYYRRYRY', 'RRRRYYRRYYR', 'RRRRYYRRYYY', 'RRRRYYRYRYY', 'RRRRYYRYYRY', 'RRRRYYRYYYR', 'RRRRYYRYYYY', 'RRRRYYYRRRR', 'RRRRYYYRYRR', 'RRRRYYYRYYY', 'RRRRYYYYRRR', 'RRRRYYYYRYY', 'RRRRYYYYYRR', 'RRRRYYYYYRY', 'RRRRYYYYYYR', 'RRRRYYYYYYY', 'RRRYRRRRRRY', 'RRRYRRRRRYR', 'RRRYRRRRRYY', 'RRRYRRRRYYR', 'RRRYRRRYRRR', 'RRRYRRRYRYY', 'RRRYRRRYYRR', 'RRRYRRRYYRY', 'RRRYRRRYYYY', 'RRRYRRYRRRR', 'RRRYRRYRRRY', 'RRRYRRYRYRR', 'RRRYRRYRYYR', 'RRRYRYRRRRR', 'RRRYRYRRRRY', 'RRRYRYRRRYY', 'RRRYRYRRYRR', 'RRRYRYRRYYR', 'RRRYRYRRYYY', 'RRRYRYRYYYR', 'RRRYRYYRRRR', 'RRRYRYYRRRY', 'RRRYRYYRRYY', 'RRRYRYYRYYR', 'RRRYRYYYYYY', 'RRRYYRRRRRR', 'RRRYYRRRRYY', 'RRRYYRRRYRR', 'RRRYYRRRYYR', 'RRRYYRRRYYY', 'RRRYYRRYRRR', 'RRRYYRRYYYR', 'RRRYYRRYYYY', 'RRRYYRYRRRR', 'RRRYYRYRRYR', 'RRRYYRYYYRR', 'RRRYYRYYYRY', 'RRRYYRYYYYY', 'RRRYYYRRRRR', 'RRRYYYRRRRY', 'RRRYYYRRYRR', 'RRRYYYRRYYR', 'RRRYYYRRYYY', 'RRRYYYRYRRY', 'RRRYYYRYYYY', 'RRRYYYYRRRR', 'RRRYYYYRRYY', 'RRRYYYYRYRR', 'RRRYYYYRYYY', 'RRRYYYYYRRR', 'RRRYYYYYRRY', 'RRRYYYYYRYY', 'RRRYYYYYYRR', 'RRRYYYYYYYR', 'RRRYYYYYYYY', 'RRYRRRRRRRR', 'RRYRRRRRRRY', 'RRYRRRRRRYR', 'RRYRRRRRRYY', 'RRYRRRRRYRR', 'RRYRRRRRYRY', 'RRYRRRRRYYR', 'RRYRRRRRYYY', 'RRYRRRRYRRR', 'RRYRRRRYYRR', 'RRYRRRRYYYR', 'RRYRRRRYYYY', 'RRYRRRYRRRR', 'RRYRRRYRRRY', 'RRYRRRYRYRR', 'RRYRRRYRYYY', 'RRYRRRYYYYY', 'RRYRRYRRRRR', 'RRYRRYRRRRY', 'RRYRRYRYRRY', 'RRYRRYRYYYY', 'RRYRRYYRRRR', 'RRYRRYYYRRR', 'RRYRRYYYYYR', 'RRYRYRRRRRR', 'RRYRYRRRRYY', 'RRYRYRRYRRR', 'RRYRYRRYYRR', 'RRYRYRRYYYY', 'RRYRYRYRRRR', 'RRYRYYRRRRR', 'RRYRYYRRRRY', 'RRYRYYRRYRR', 'RRYRYYRRYYR', 'RRYRYYYRYRR', 'RRYRYYYYRRY', 'RRYRYYYYYYR', 'RRYRYYYYYYY', 'RRYYRRRRRRR', 'RRYYRRRRRYR', 'RRYYRRRRRYY', 'RRYYRRRRYRR', 'RRYYRRRRYYY', 'RRYYRRRYRRR', 'RRYYRRRYYRY', 'RRYYRRRYYYR', 'RRYYRRRYYYY', 'RRYYRRYRRRR', 'RRYYRRYRYRR', 'RRYYRYRRRRR', 'RRYYRYRRYRR', 'RRYYRYRRYYY', 'RRYYRYYYRRR', 'RRYYRYYYYRR', 'RRYYRYYYYYR', 'RRYYYRRRRRR', 'RRYYYRRRRRY', 'RRYYYRRRRYY', 'RRYYYRRRYRR', 'RRYYYRRYYYY', 'RRYYYRYRRYR', 'RRYYYRYRRYY', 'RRYYYRYYYRR', 'RRYYYRYYYYR', 'RRYYYYRRRRR', 'RRYYYYRRRRY', 'RRYYYYRRYRR', 'RRYYYYRRYYY', 'RRYYYYRYYYR', 'RRYYYYRYYYY', 'RRYYYYYRRRR', 'RRYYYYYRRYY', 'RRYYYYYRYYR', 'RRYYYYYYRRR', 'RRYYYYYYRRY', 'RRYYYYYYYRR', 'RRYYYYYYYYR', 'RRYYYYYYYYY', 'RYRRRRRRRRR', 'RYRRRRRRRRY', 'RYRRRRRRRYR', 'RYRRRRRRRYY', 'RYRRRRRRYRR', 'RYRRRRRRYRY', 'RYRRRRRRYYR', 'RYRRRRRRYYY', 'RYRRRRRYRRR', 'RYRRRRRYRYR', 'RYRRRRRYRYY', 'RYRRRRRYYYY', 'RYRRRRYRRRR', 'RYRRRRYRRRY', 'RYRRRRYRYYY', 'RYRRRRYYYYY', 'RYRRRYRRRYY', 'RYRRRYYYYRY', 'RYRRRYYYYYY', 'RYRRYRRRRRR', 'RYRRYRRRRYR', 'RYRRYRRRRYY', 'RYRRYRRRYRY', 'RYRRYRRRYYY', 'RYRRYRRYRYY', 'RYRRYRRYYYR', 'RYRRYRRYYYY', 'RYRRYRYRRYY', 'RYRRYRYYYYR', 'RYRRYRYYYYY', 'RYRRYYRRRRY', 'RYRRYYRYYYR', 'RYRRYYYRRRY', 'RYRRYYYYRRY', 'RYRRYYYYYRY', 'RYRYRRRRRRR', 'RYRYRRRRRRY', 'RYRYRRRRYYR', 'RYRYRRYRRRR', 'RYRYRRYYYYY', 'RYRYRYRRRRR', 'RYRYYRRRRRY', 'RYRYYRRYYRR', 'RYRYYRYYYRR', 'RYRYYRYYYYR', 'RYRYYYRRRRY', 'RYRYYYYRRRR', 'RYRYYYYRYYY', 'RYRYYYYYRRY', 'RYRYYYYYRYY', 'RYRYYYYYYRY', 'RYRYYYYYYYR', 'RYRYYYYYYYY', 'RYYRRRRRRRR', 'RYYRRRRRRRY', 'RYYRRRRRRYR', 'RYYRRRRRYRY', 'RYYRRRRYRRR', 'RYYRRRRYYRY', 'RYYRRRYRRYR', 'RYYRRRYYYRR', 'RYYRRRYYYRY', 'RYYRRRYYYYR', 'RYYRRYRRRRY', 'RYYRRYRRRYR', 'RYYRRYYRRRR', 'RYYRRYYYRRY', 'RYYRYRRRRRY', 'RYYRYRRYRRR', 'RYYRYYRYRYY', 'RYYRYYRYYRR', 'RYYRYYRYYYY', 'RYYRYYYRRRR', 'RYYRYYYYRRR', 'RYYRYYYYYRY', 'RYYRYYYYYYR', 'RYYRYYYYYYY', 'RYYYRRRRRRR', 'RYYYRRRRRRY', 'RYYYRRRRRYR', 'RYYYRRRRYYY', 'RYYYRRRYRRR', 'RYYYRRRYRRY', 'RYYYRRRYRYY', 'RYYYRRRYYRR', 'RYYYRRYRYYY', 'RYYYRRYYRYY', 'RYYYRRYYYRY', 'RYYYRRYYYYY', 'RYYYRYRRRRR', 'RYYYRYRRRRY', 'RYYYRYRRYYR', 'RYYYRYRRYYY', 'RYYYRYYRRRR', 'RYYYRYYYRRR', 'RYYYRYYYYRR', 'RYYYRYYYYRY', 'RYYYRYYYYYY', 'RYYYYRRRRRR', 'RYYYYRRRRRY', 'RYYYYRRRRYY', 'RYYYYRRRYYR', 'RYYYYRRYRRR', 'RYYYYRRYYRR', 'RYYYYRRYYYY', 'RYYYYRYRRYY', 'RYYYYRYRYYY', 'RYYYYRYYYRY', 'RYYYYRYYYYR', 'RYYYYRYYYYY', 'RYYYYYRRRRR', 'RYYYYYRRRYY', 'RYYYYYRRYRR', 'RYYYYYRRYYY', 'RYYYYYRYYRY', 'RYYYYYRYYYY', 'RYYYYYYRRRR', 'RYYYYYYRRRY', 'RYYYYYYRRYR', 'RYYYYYYRRYY', 'RYYYYYYRYYR', 'RYYYYYYRYYY', 'RYYYYYYYRRR', 'RYYYYYYYRRY', 'RYYYYYYYYRR', 'RYYYYYYYYRY', 'RYYYYYYYYYR', 'RYYYYYYYYYY', 'YRRRRRRRRRR', 'YRRRRRRRRRY', 'YRRRRRRRRYR', 'YRRRRRRRRYY', 'YRRRRRRRYRR', 'YRRRRRRRYYR', 'YRRRRRRRYYY', 'YRRRRRRYRRR', 'YRRRRRRYRYR', 'YRRRRRRYYRR', 'YRRRRRRYYRY', 'YRRRRRRYYYR', 'YRRRRRRYYYY', 'YRRRRRYRRRY', 'YRRRRRYRRYY', 'YRRRRRYRYRR', 'YRRRRRYRYYR', 'YRRRRRYRYYY', 'YRRRRRYYRRY', 'YRRRRRYYRYR', 'YRRRRRYYYRR', 'YRRRRRYYYYR', 'YRRRRRYYYYY', 'YRRRRYRRRRR', 'YRRRRYRRRRY', 'YRRRRYRRRYR', 'YRRRRYRYRRR', 'YRRRRYRYYYY', 'YRRRRYYRRYY', 'YRRRRYYRYYR', 'YRRRRYYRYYY', 'YRRRRYYYYRR', 'YRRRRYYYYYR', 'YRRRRYYYYYY', 'YRRRYRRRRRR', 'YRRRYRRRRRY', 'YRRRYRRRRYR', 'YRRRYRRRRYY', 'YRRRYRRRYYR', 'YRRRYRRYRRR', 'YRRRYRRYRRY', 'YRRRYRRYRYR', 'YRRRYRYRRRR', 'YRRRYRYRRYY', 'YRRRYRYYRRR', 'YRRRYRYYYYR', 'YRRRYRYYYYY', 'YRRRYYRRRRY', 'YRRRYYRRRYY', 'YRRRYYRYRRR', 'YRRRYYYRRRR', 'YRRRYYYRRYY', 'YRRRYYYRYRR', 'YRRRYYYYRRY', 'YRRRYYYYYRR', 'YRRYRRRRRRR', 'YRRYRRRRRYR', 'YRRYRRRRRYY', 'YRRYRRRRYRR', 'YRRYRRRRYYY', 'YRRYRRRYRRR', 'YRRYRRRYYRY', 'YRRYRRRYYYY', 'YRRYRRYRRRR', 'YRRYRRYRRYR', 'YRRYRRYRYYY', 'YRRYRRYYRRY', 'YRRYRRYYYRY', 'YRRYRRYYYYY', 'YRRYRYRRYYY', 'YRRYRYYRRRR', 'YRRYRYYRYYR', 'YRRYRYYYRYY', 'YRRYRYYYYRR', 'YRRYRYYYYRY', 'YRRYRYYYYYR', 'YRRYRYYYYYY', 'YRRYYRRRRRR', 'YRRYYRRRRRY', 'YRRYYRYRRRR', 'YRRYYRYRRYY', 'YRRYYRYYYYY', 'YRRYYYRRRRR', 'YRRYYYRRRYR', 'YRRYYYRRYRY', 'YRRYYYRRYYR', 'YRRYYYRYYYR', 'YRRYYYYRRRR', 'YRRYYYYRRYR', 'YRRYYYYYRRR', 'YRRYYYYYRRY', 'YRRYYYYYRYR', 'YRRYYYYYRYY', 'YRRYYYYYYYR', 'YRRYYYYYYYY', 'YRYRRRRRRRR', 'YRYRRRRRRRY', 'YRYRRRRRRYR', 'YRYRRRRRRYY', 'YRYRRRRRYRY', 'YRYRRRRYRRR', 'YRYRRRRYYRR', 'YRYRRRRYYYY', 'YRYRRRYYYYR', 'YRYRRYRRRRR', 'YRYRRYRRYRY', 'YRYRRYYRRRR', 'YRYRRYYYRRR', 'YRYRRYYYYRR', 'YRYRRYYYYYR', 'YRYRRYYYYYY', 'YRYRYRRRRRR', 'YRYRYYRYYYY', 'YRYRYYYRYRR', 'YRYRYYYYYRY', 'YRYRYYYYYYR', 'YRYYRRRRRRR', 'YRYYRRRRRYR', 'YRYYRRRRYRR', 'YRYYRRRRYYR', 'YRYYRRYYRRR', 'YRYYRRYYYRR', 'YRYYRRYYYYY', 'YRYYRYRYYYY', 'YRYYRYYYYRR', 'YRYYRYYYYYY', 'YRYYYRRRRRR', 'YRYYYRRRRRY', 'YRYYYRRRRYY', 'YRYYYRRYYRY', 'YRYYYRRYYYR', 'YRYYYRYRRRR', 'YRYYYRYRRYY', 'YRYYYRYYYRR', 'YRYYYRYYYYR', 'YRYYYRYYYYY', 'YRYYYYRRRRR', 'YRYYYYRRRRY', 'YRYYYYRRYYY', 'YRYYYYRYYYY', 'YRYYYYYRRRR', 'YRYYYYYRRYR', 'YRYYYYYRRYY', 'YRYYYYYRYYR', 'YRYYYYYYRRR', 'YRYYYYYYRRY', 'YRYYYYYYRYY', 'YRYYYYYYYRR', 'YRYYYYYYYYR', 'YRYYYYYYYYY', 'YYRRRRRRRRR', 'YYRRRRRRRRY', 'YYRRRRRRRYR', 'YYRRRRRRRYY', 'YYRRRRRRYRR', 'YYRRRRRRYRY', 'YYRRRRRRYYR', 'YYRRRRRRYYY', 'YYRRRRRYRYY', 'YYRRRRRYYYR', 'YYRRRRYRRRR', 'YYRRRRYRRRY', 'YYRRRRYRYRR', 'YYRRRRYYRRY', 'YYRRRRYYRYY', 'YYRRRRYYYRY', 'YYRRRRYYYYR', 'YYRRRRYYYYY', 'YYRRRYRRYRR', 'YYRRRYRYRRR', 'YYRRRYRYYRR', 'YYRRRYRYYYY', 'YYRRRYYRRRR', 'YYRRRYYYRRR', 'YYRRRYYYRRY', 'YYRRRYYYYRY', 'YYRRYRRRYRR', 'YYRRYRRYRRR', 'YYRRYRRYYYY', 'YYRRYRYYYRY', 'YYRRYRYYYYR', 'YYRRYRYYYYY', 'YYRRYYRRRRR', 'YYRRYYRRRRY', 'YYRRYYRYRRR', 'YYRRYYYRRRR', 'YYRRYYYRRYY', 'YYRRYYYRYRR', 'YYRRYYYRYYY', 'YYRRYYYYRRR', 'YYRRYYYYRRY', 'YYRRYYYYRYY', 'YYRRYYYYYRR', 'YYRRYYYYYRY', 'YYRRYYYYYYR', 'YYRRYYYYYYY', 'YYRYRRRRRRR', 'YYRYRRRRRRY', 'YYRYRRRRRYR', 'YYRYRRRRYYR', 'YYRYRRYYYYR', 'YYRYRRYYYYY', 'YYRYRYRRRRR', 'YYRYRYYRYYY', 'YYRYRYYYRYR', 'YYRYRYYYYYR', 'YYRYRYYYYYY', 'YYRYYRRRRYY', 'YYRYYRYRYYY', 'YYRYYRYYYYY', 'YYRYYYRRRRR', 'YYRYYYRYYYR', 'YYRYYYRYYYY', 'YYRYYYYRRRR', 'YYRYYYYRRYY', 'YYRYYYYRYYY', 'YYRYYYYYRRR', 'YYRYYYYYRRY', 'YYRYYYYYRYY', 'YYRYYYYYYRR', 'YYRYYYYYYRY', 'YYRYYYYYYYR', 'YYRYYYYYYYY', 'YYYRRRRRRRR', 'YYYRRRRRRRY', 'YYYRRRRRRYR', 'YYYRRRRRRYY', 'YYYRRRRRYRR', 'YYYRRRRRYYR', 'YYYRRRRYRRR', 'YYYRRRRYYRR', 'YYYRRRRYYYR', 'YYYRRRRYYYY', 'YYYRRRYRRYR', 'YYYRRRYYRRR', 'YYYRRRYYYRR', 'YYYRRRYYYYY', 'YYYRRYRRRRR', 'YYYRRYRRYRR', 'YYYRRYRRYYR', 'YYYRRYRYYYR', 'YYYRRYRYYYY', 'YYYRRYYRRRR', 'YYYRRYYRYYY', 'YYYRRYYYRRR', 'YYYRRYYYRRY', 'YYYRRYYYRYY', 'YYYRRYYYYRR', 'YYYRRYYYYRY', 'YYYRRYYYYYR', 'YYYRRYYYYYY', 'YYYRYRRRRRR', 'YYYRYRRRRYR', 'YYYRYRRYYRY', 'YYYRYRRYYYR', 'YYYRYRRYYYY', 'YYYRYRYYYYY', 'YYYRYYRRRRR', 'YYYRYYRYYYY', 'YYYRYYYRRRY', 'YYYRYYYRYRR', 'YYYRYYYRYYY', 'YYYRYYYYRYY', 'YYYRYYYYYRR', 'YYYRYYYYYYR', 'YYYRYYYYYYY', 'YYYYRRRRRRR', 'YYYYRRRRRRY', 'YYYYRRRRRYR', 'YYYYRRRRRYY', 'YYYYRRRRYYR', 'YYYYRRRRYYY', 'YYYYRRRYRYR', 'YYYYRRRYRYY', 'YYYYRRRYYRR', 'YYYYRRRYYYR', 'YYYYRRRYYYY', 'YYYYRRYRRRY', 'YYYYRRYRRYY', 'YYYYRRYYRYY', 'YYYYRRYYYRR', 'YYYYRRYYYRY', 'YYYYRRYYYYR', 'YYYYRRYYYYY', 'YYYYRYRRRRR', 'YYYYRYRRYYY', 'YYYYRYRYRRY', 'YYYYRYRYYRR', 'YYYYRYRYYYR', 'YYYYRYYRYYR', 'YYYYRYYRYYY', 'YYYYRYYYRYR', 'YYYYRYYYYRR', 'YYYYRYYYYRY', 'YYYYRYYYYYR', 'YYYYRYYYYYY', 'YYYYYRRRRRR', 'YYYYYRRRRRY', 'YYYYYRRRRYY', 'YYYYYRRRYRY', 'YYYYYRRRYYY', 'YYYYYRRYYRR', 'YYYYYRRYYRY', 'YYYYYRRYYYR', 'YYYYYRRYYYY', 'YYYYYRYRRRR', 'YYYYYRYRRYY', 'YYYYYRYRYYY', 'YYYYYRYYRYY', 'YYYYYRYYYRY', 'YYYYYRYYYYR', 'YYYYYRYYYYY', 'YYYYYYRRRRR', 'YYYYYYRRRYR', 'YYYYYYRRRYY', 'YYYYYYRRYRY', 'YYYYYYRRYYR', 'YYYYYYRYRRY', 'YYYYYYRYRYY', 'YYYYYYRYYRR', 'YYYYYYRYYRY', 'YYYYYYRYYYR', 'YYYYYYRYYYY', 'YYYYYYYRRRR', 'YYYYYYYRRRY', 'YYYYYYYRRYY', 'YYYYYYYRYRR', 'YYYYYYYRYYR', 'YYYYYYYRYYY', 'YYYYYYYYRRR', 'YYYYYYYYRYR', 'YYYYYYYYRYY', 'YYYYYYYYYRR', 'YYYYYYYYYRY', 'YYYYYYYYYYR', 'YYYYYYYYYYY']\n"
          ],
          "name": "stdout"
        }
      ]
    },
    {
      "cell_type": "code",
      "metadata": {
        "id": "IbQno-E7AbNE",
        "colab_type": "code",
        "outputId": "40f9991b-f95e-4013-eec8-b45228bccd65",
        "colab": {
          "base_uri": "https://localhost:8080/",
          "height": 54
        }
      },
      "source": [
        "common_patterns_diff_lengths_among_all('/gdrive/My Drive/Genomics/job/data/DJ1',12,MODE='YR')"
      ],
      "execution_count": 0,
      "outputs": [
        {
          "output_type": "stream",
          "text": [
            "319 : ['RRRRRRRRRRRY', 'RRRRRRRRRRYR', 'RRRRRRRRRRYY', 'RRRRRRRRRYRR', 'RRRRRRRRRYRY', 'RRRRRRRRRYYR', 'RRRRRRRRRYYY', 'RRRRRRRRYRRR', 'RRRRRRRRYYRR', 'RRRRRRRRYYYR', 'RRRRRRRRYYYY', 'RRRRRRRYRRRR', 'RRRRRRRYRRYR', 'RRRRRRRYYRYY', 'RRRRRRRYYYRR', 'RRRRRRRYYYYY', 'RRRRRRYRRRRR', 'RRRRRRYRRRYR', 'RRRRRRYRRYRY', 'RRRRRRYYRRRR', 'RRRRRRYYRYYY', 'RRRRRRYYYRRR', 'RRRRRRYYYYRY', 'RRRRRRYYYYYR', 'RRRRRRYYYYYY', 'RRRRRYRRRRRY', 'RRRRRYRRYRRR', 'RRRRRYRYRRRR', 'RRRRRYYRRRRR', 'RRRRRYYRRYRR', 'RRRRRYYRYYYR', 'RRRRRYYYRRRR', 'RRRRRYYYYYRR', 'RRRRRYYYYYYY', 'RRRRYRRRRRRY', 'RRRRYRRRRRYR', 'RRRRYRRRRYYR', 'RRRRYRRRYRRR', 'RRRRYRRYRRRR', 'RRRRYRYRRRRR', 'RRRRYRYRRRYY', 'RRRRYRYYYYYY', 'RRRRYYRRRRRR', 'RRRRYYRRYRRR', 'RRRRYYRRYYYR', 'RRRRYYRYYYRR', 'RRRRYYRYYYYY', 'RRRRYYYRRRRY', 'RRRRYYYRYRRY', 'RRRRYYYRYYYY', 'RRRRYYYYRRRR', 'RRRRYYYYRYYY', 'RRRRYYYYYYYR', 'RRRRYYYYYYYY', 'RRRYRRRRRRYY', 'RRRYRRRRRYYR', 'RRRYRRRYRRRR', 'RRRYRRYRRRRY', 'RRRYRYRRRRRR', 'RRRYRYYRRRRR', 'RRRYRYYRRRRY', 'RRRYRYYYYYYY', 'RRRYYRRRRYYY', 'RRRYYRRYRRRR', 'RRRYYRYYYRRR', 'RRRYYRYYYYYR', 'RRRYYYRRRRRY', 'RRRYYYRRYYYY', 'RRRYYYRYYYYR', 'RRRYYYYRRRRR', 'RRRYYYYRRYYY', 'RRRYYYYRYYYY', 'RRRYYYYYRRRR', 'RRRYYYYYRRYY', 'RRRYYYYYYRRR', 'RRRYYYYYYYRR', 'RRRYYYYYYYYR', 'RRYRRRRRRRRR', 'RRYRRRRRRRRY', 'RRYRRRRRRYYR', 'RRYRRRRRYRRR', 'RRYRRRRRYYYY', 'RRYRRRRYRRRR', 'RRYRRRRYYYYY', 'RRYRRRYRRRYY', 'RRYRRYRRRRYR', 'RRYRRYRYYYYR', 'RRYRRYRYYYYY', 'RRYRYRRRRRRR', 'RRYRYRRYRRRR', 'RRYRYYYYYYYR', 'RRYYRRRRRRRY', 'RRYYRYRRRRRY', 'RRYYRYRRYRRR', 'RRYYRYYYRRRR', 'RRYYYRRRRYYY', 'RRYYYRRRYRRR', 'RRYYYRRRYRRY', 'RRYYYRRYYYYY', 'RRYYYRYRRYYR', 'RRYYYRYYYRRR', 'RRYYYYRRRRYY', 'RRYYYYRYYYRY', 'RRYYYYRYYYYY', 'RRYYYYYRRRRR', 'RRYYYYYRRYYY', 'RRYYYYYYRRRY', 'RRYYYYYYYRRR', 'RRYYYYYYYYRR', 'RRYYYYYYYYYY', 'RYRRRRRRRRRR', 'RYRRRRRRRRYR', 'RYRRRRRRRYYR', 'RYRRRRRYRRRY', 'RYRRRRRYYYYR', 'RYRRRRRYYYYY', 'RYRRRRYRRRRR', 'RYRRRRYRYYYY', 'RYRRYRRRRRRR', 'RYRRYRRRRYRR', 'RYRRYRRRRYYY', 'RYRYRRRRRRRR', 'RYRYRRRRRRRY', 'RYRYRRYRRRRR', 'RYRYYYYRRRRR', 'RYRYYYYYYYRR', 'RYRYYYYYYYYR', 'RYYRRRRRRRRR', 'RYYRRRRRRRYY', 'RYYRRRRRRYRR', 'RYYRRRRYRRRR', 'RYYRRRYRRYRR', 'RYYRYRRRRRYR', 'RYYRYYRYYYYY', 'RYYRYYYRRRRR', 'RYYYRRRRRYRR', 'RYYYRRRRYYYY', 'RYYYRRYRYYYR', 'RYYYRRYYYYYY', 'RYYYRYYYYRYY', 'RYYYYRRRRRRY', 'RYYYYRRRRYYY', 'RYYYYRRYYYYR', 'RYYYYRRYYYYY', 'RYYYYRYYYRYR', 'RYYYYRYYYYYR', 'RYYYYRYYYYYY', 'RYYYYYRRRRRY', 'RYYYYYRRRYYY', 'RYYYYYRRYYYR', 'RYYYYYRRYYYY', 'RYYYYYRYYYYR', 'RYYYYYRYYYYY', 'RYYYYYYRRRRR', 'RYYYYYYRRRYY', 'RYYYYYYRYYYY', 'RYYYYYYYRRRY', 'RYYYYYYYYRRR', 'RYYYYYYYYRYY', 'RYYYYYYYYYRR', 'RYYYYYYYYYRY', 'RYYYYYYYYYYR', 'RYYYYYYYYYYY', 'YRRRRRRRRRRR', 'YRRRRRRRRRRY', 'YRRRRRRRRRYR', 'YRRRRRRRRRYY', 'YRRRRRRRRYRR', 'YRRRRRRRRYYY', 'YRRRRRRYRRRY', 'YRRRRRRYRYRR', 'YRRRRRRYYRYY', 'YRRRRRYRRRYR', 'YRRRRRYRYRRR', 'YRRRRRYYYYRR', 'YRRRRYRRRRRR', 'YRRRRYRRRRRY', 'YRRRRYRRRYRR', 'YRRRRYRYYYYY', 'YRRRRYYYYRRR', 'YRRRRYYYYYYY', 'YRRRYRRYRYRR', 'YRRRYRYRRYYY', 'YRRRYRYYRRRR', 'YRRRYYRYRRRR', 'YRRRYYYRRRRR', 'YRRRYYYRRYYY', 'YRRRYYYYYRRY', 'YRRYRRRRYYYY', 'YRRYRRRYYYYY', 'YRRYRRYYYYYR', 'YRRYRYRRYYYY', 'YRRYYRYRRYYY', 'YRRYYYRRRYRR', 'YRRYYYYYRRYY', 'YRRYYYYYYYYY', 'YRYRRRRYRRRR', 'YRYRRYYYYRRY', 'YRYYRRRRRYRY', 'YRYYYRYRRYYY', 'YRYYYRYYYYRY', 'YRYYYYRRRRRR', 'YRYYYYRYYYYY', 'YRYYYYYRRRRR', 'YRYYYYYRRYYY', 'YRYYYYYYRRRY', 'YRYYYYYYRYYY', 'YRYYYYYYYRRR', 'YRYYYYYYYYRY', 'YRYYYYYYYYYR', 'YYRRRRRRRRRR', 'YYRRRRRRRRRY', 'YYRRRRRRRYRR', 'YYRRRRRRYRRR', 'YYRRRRRRYYRR', 'YYRRRRRYRYYR', 'YYRRRRYRRRRR', 'YYRRRRYRRRYR', 'YYRRRRYYYYRR', 'YYRRRYRRYRRR', 'YYRRRYRRYRRY', 'YYRRRYRYRRRR', 'YYRRRYYYRRRR', 'YYRRRYYYRRYY', 'YYRRYRYYYYYY', 'YYRRYYRRRRRR', 'YYRRYYRYRRRR', 'YYRRYYYYYRRR', 'YYRRYYYYYYYR', 'YYRYRRRRRRYR', 'YYRYRRRRYYRR', 'YYRYRRYYYYRR', 'YYRYRRYYYYYR', 'YYRYRYYRYYYY', 'YYRYRYYYYYRY', 'YYRYYRYRYYYY', 'YYRYYRYYYYYY', 'YYRYYYRYYYRR', 'YYRYYYRYYYYY', 'YYRYYYYRRRRY', 'YYRYYYYRRYYY', 'YYRYYYYYRRRR', 'YYRYYYYYRRYY', 'YYRYYYYYYRYY', 'YYRYYYYYYYYY', 'YYYRRRRRRRRR', 'YYYRRRRRRRRY', 'YYYRRRRRRYYR', 'YYYRRRRRRYYY', 'YYYRRRRYYRRY', 'YYYRRRRYYYYR', 'YYYRRRYRRYRR', 'YYYRRRYYYRRR', 'YYYRRYYRRRRR', 'YYYRRYYYRRYY', 'YYYRRYYYRYYY', 'YYYRRYYYYRRR', 'YYYRRYYYYRRY', 'YYYRRYYYYYRR', 'YYYRRYYYYYYY', 'YYYRYRRYYYYR', 'YYYRYRYYYYYY', 'YYYRYYYRYYYY', 'YYYRYYYYRYYY', 'YYYRYYYYYRRR', 'YYYRYYYYYRRY', 'YYYRYYYYYYRR', 'YYYRYYYYYYRY', 'YYYRYYYYYYYY', 'YYYYRRRRRRRR', 'YYYYRRRRRRRY', 'YYYYRRRRRRYR', 'YYYYRRRRRRYY', 'YYYYRRRRYYYR', 'YYYYRRRRYYYY', 'YYYYRRRYYRRR', 'YYYYRRRYYYRR', 'YYYYRRYYRYYY', 'YYYYRRYYYRRY', 'YYYYRRYYYYRR', 'YYYYRRYYYYYR', 'YYYYRRYYYYYY', 'YYYYRYRRRRRR', 'YYYYRYYRYYYY', 'YYYYRYYYYRYY', 'YYYYRYYYYYRR', 'YYYYRYYYYYYR', 'YYYYRYYYYYYY', 'YYYYYRRRRRRR', 'YYYYYRRRRRYR', 'YYYYYRRRRRYY', 'YYYYYRRRRYYR', 'YYYYYRRRRYYY', 'YYYYYRRRYYYY', 'YYYYYRRYYYRR', 'YYYYYRRYYYRY', 'YYYYYRRYYYYY', 'YYYYYRYRRRRR', 'YYYYYRYYRYYR', 'YYYYYRYYYYRY', 'YYYYYRYYYYYR', 'YYYYYRYYYYYY', 'YYYYYYRRRRRR', 'YYYYYYRRRYYY', 'YYYYYYRYYYYY', 'YYYYYYYRRRRR', 'YYYYYYYRRRYR', 'YYYYYYYRRRYY', 'YYYYYYYRRYYR', 'YYYYYYYRYYRY', 'YYYYYYYRYYYR', 'YYYYYYYYRRRR', 'YYYYYYYYRRRY', 'YYYYYYYYRYRR', 'YYYYYYYYRYYY', 'YYYYYYYYYRRR', 'YYYYYYYYYRYR', 'YYYYYYYYYYRR', 'YYYYYYYYYYYR']\n"
          ],
          "name": "stdout"
        }
      ]
    },
    {
      "cell_type": "code",
      "metadata": {
        "id": "a4ss47uuAlvH",
        "colab_type": "code",
        "outputId": "7004aea8-87e8-402f-e35d-b59e78d6d741",
        "colab": {
          "base_uri": "https://localhost:8080/",
          "height": 54
        }
      },
      "source": [
        "common_patterns_diff_lengths_among_all('/gdrive/My Drive/Genomics/job/data/DJ1',13,MODE='YR')"
      ],
      "execution_count": 0,
      "outputs": [
        {
          "output_type": "stream",
          "text": [
            "97 : ['RRRRRRRRRRYYY', 'RRRRRRRRRYRRR', 'RRRRRRRRRYYRR', 'RRRRRRRRYRRRR', 'RRRRRRRYYYRRR', 'RRRRRRRYYYYYY', 'RRRRRRYRRRRRY', 'RRRRRRYYRYYYR', 'RRRRRRYYYRRRR', 'RRRRRYRRYRRRR', 'RRRRRYRYRRRRR', 'RRRRRYYRRRRRR', 'RRRRRYYRYYYRR', 'RRRRRYYYRRRRY', 'RRRRYRRRRRRYY', 'RRRRYRRRYRRRR', 'RRRRYRYRRRRRR', 'RRRRYRYYYYYYY', 'RRRRYYYRYYYYR', 'RRRRYYYYRYYYY', 'RRRYRYRRRRRRR', 'RRRYYYYRYYYYY', 'RRRYYYYYRRRRR', 'RRRYYYYYRRYYY', 'RRRYYYYYYYRRR', 'RRYRRRRRYYYYR', 'RRYRRYRRRRYRR', 'RRYYRYYYRRRRR', 'RRYYYYRYYYYYR', 'RRYYYYYRRYYYY', 'RRYYYYYYYYRRR', 'RRYYYYYYYYYYY', 'RYRRRRRRRRRRR', 'RYRRYRRRRYYYY', 'RYRYYYYRRRRRR', 'RYYRRRRRRRRRY', 'RYYYYRRRRRRYY', 'RYYYYRRYYYYYY', 'RYYYYYRRRRRYY', 'RYYYYYRRRYYYY', 'RYYYYYRRYYYYY', 'RYYYYYRYYYYYY', 'RYYYYYYRRRRRR', 'RYYYYYYYRRRYY', 'RYYYYYYYYRYYY', 'RYYYYYYYYYRRR', 'YRRRRRRRRRRYY', 'YRRRRRRRRRYYY', 'YRRRRRYRYRRRR', 'YRRRRYRRRRRRY', 'YRRRRYRRRYRRR', 'YRRRYYYRRYYYY', 'YRRYYYYYYYYYY', 'YRYYYYRYYYYYY', 'YRYYYYYYRRRYY', 'YRYYYYYYRYYYY', 'YRYYYYYYYYRYY', 'YRYYYYYYYYYRY', 'YYRRRRRRRRRRY', 'YYRRRRRRRRRYY', 'YYRRRRYRRRYRR', 'YYRRRYYYRRRRR', 'YYRYRRYYYYRRY', 'YYRYYYYYRRYYY', 'YYRYYYYYYRYYY', 'YYRYYYYYYYYYR', 'YYYRRRRRRRRRR', 'YYYRRRRRRRRRY', 'YYYRRRRYYYYRR', 'YYYRRRYYYRRRR', 'YYYRRYYYYYRRR', 'YYYRRYYYYYYYR', 'YYYRYRRYYYYRR', 'YYYRYYYYYRRRR', 'YYYRYYYYYYRYY', 'YYYRYYYYYYYYY', 'YYYYRRRRRRRRR', 'YYYYRRRRRRYYY', 'YYYYRRRRYYYYR', 'YYYYRRYYYYYYY', 'YYYYRYYYYYRRY', 'YYYYRYYYYYYRR', 'YYYYRYYYYYYYY', 'YYYYYRRRRRRRR', 'YYYYYRRRRRRRY', 'YYYYYRYRRRRRR', 'YYYYYRYYYYRYY', 'YYYYYYRRRRRRR', 'YYYYYYRRRYYYY', 'YYYYYYRYYYYYR', 'YYYYYYYRRRRRR', 'YYYYYYYRRRYYY', 'YYYYYYYYYRRRR', 'YYYYYYYYYRRRY', 'YYYYYYYYYRYRR', 'YYYYYYYYYYRRR', 'YYYYYYYYYYYRR']\n"
          ],
          "name": "stdout"
        }
      ]
    },
    {
      "cell_type": "code",
      "metadata": {
        "id": "OT5S8HS8AqDE",
        "colab_type": "code",
        "outputId": "0665427b-8dd1-4d0c-a3b7-29f55f060c91",
        "colab": {
          "base_uri": "https://localhost:8080/",
          "height": 54
        }
      },
      "source": [
        "common_patterns_diff_lengths_among_all('/gdrive/My Drive/Genomics/job/data/DJ1',14,MODE='YR')"
      ],
      "execution_count": 0,
      "outputs": [
        {
          "output_type": "stream",
          "text": [
            "13 : ['RRRRRRRRRYRRRR', 'RRRRRRYYRYYYRR', 'RRRRRYRYRRRRRR', 'RRRRYRYRRRRRRR', 'YRRRRRYRYRRRRR', 'YRYYYYYYYYRYYY', 'YYRYYYYYYRYYYY', 'YYYRYRRYYYYRRY', 'YYYYRRRRRRRRRR', 'YYYYRYYYYYYYYY', 'YYYYYRRRRRRRRR', 'YYYYYYRRRRRRRR', 'YYYYYYYYYYYRRR']\n"
          ],
          "name": "stdout"
        }
      ]
    },
    {
      "cell_type": "code",
      "metadata": {
        "id": "UiBEQJipAuuX",
        "colab_type": "code",
        "outputId": "4029f385-d493-468b-f497-c2480c448fd5",
        "colab": {
          "base_uri": "https://localhost:8080/",
          "height": 34
        }
      },
      "source": [
        "common_patterns_diff_lengths_among_all('/gdrive/My Drive/Genomics/job/data/DJ1',15,MODE='YR')"
      ],
      "execution_count": 0,
      "outputs": [
        {
          "output_type": "stream",
          "text": [
            "0 : []\n"
          ],
          "name": "stdout"
        }
      ]
    },
    {
      "cell_type": "code",
      "metadata": {
        "id": "azKFYmOXAyya",
        "colab_type": "code",
        "outputId": "12f84795-4c8d-4f8f-90ef-a48b47d3619b",
        "colab": {
          "base_uri": "https://localhost:8080/",
          "height": 34
        }
      },
      "source": [
        "common_patterns_diff_lengths_among_all('/gdrive/My Drive/Genomics/job/data/DJ1',16,MODE='YR')"
      ],
      "execution_count": 0,
      "outputs": [
        {
          "output_type": "stream",
          "text": [
            "0 : []\n"
          ],
          "name": "stdout"
        }
      ]
    },
    {
      "cell_type": "markdown",
      "metadata": {
        "id": "p4kAiQ8fy455",
        "colab_type": "text"
      },
      "source": [
        "## RESULT\n"
      ]
    },
    {
      "cell_type": "code",
      "metadata": {
        "id": "qZZM_e6_BS1X",
        "colab_type": "code",
        "outputId": "811334f6-b63d-49df-b082-36e918cac665",
        "colab": {
          "base_uri": "https://localhost:8080/",
          "height": 441
        }
      },
      "source": [
        "\n",
        "# YR distribution plot\n",
        "yr_data = np.array([8,16,32,64,128,255,480,736,672,319,97,13,0])\n",
        "yr_x_axis = range(3,16)\n",
        "\n",
        "atcg_data = [64,253,620,342,13,0,0]\n",
        "atcg_x_axis = range(3,10)\n",
        "\n",
        "fig,ax = plt.subplots(nrows=1,ncols=2,figsize=(10,6))\n",
        "\n",
        "ax[0].bar(atcg_x_axis,atcg_data,color='m')\n",
        "ax[0].plot(atcg_x_axis,atcg_data,color='k')\n",
        "ax[0].set_title('Common ATCG distribution over the genes')\n",
        "ax[0].set_xlabel(\"Length of pattern\")\n",
        "ax[0].set_ylabel(\"Count of pattern\")\n",
        "\n",
        "\n",
        "ax[1].bar(yr_x_axis,yr_data,color='r')\n",
        "ax[1].set_title('Common YR distribution over the genes')\n",
        "ax[1].plot(yr_x_axis,yr_data,color='k')\n",
        "ax[1].set_xlabel(\"Length of pattern\")\n",
        "ax[1].set_ylabel(\"Count of pattern\")\n",
        "fig.tight_layout()"
      ],
      "execution_count": 0,
      "outputs": [
        {
          "output_type": "display_data",
          "data": {
            "image/png": "[encoded data removed]",
            "text/plain": [
              "<Figure size 720x432 with 2 Axes>"
            ]
          },
          "metadata": {
            "tags": []
          }
        }
      ]
    },
    {
      "cell_type": "markdown",
      "metadata": {
        "id": "YZlwlY2xsYSd",
        "colab_type": "text"
      },
      "source": [
        "# FINDING PATTERNS FOR PARKIN"
      ]
    },
    {
      "cell_type": "markdown",
      "metadata": {
        "id": "ClEfnYsrzt-N",
        "colab_type": "text"
      },
      "source": [
        "## ATCG DISTRIBUTION"
      ]
    },
    {
      "cell_type": "code",
      "metadata": {
        "id": "bCstkikCrFPJ",
        "colab_type": "code",
        "outputId": "1690756d-e178-4844-cf94-e1f4d925baad",
        "colab": {
          "base_uri": "https://localhost:8080/",
          "height": 54
        }
      },
      "source": [
        "common_patterns_diff_lengths_among_all('/gdrive/My Drive/Genomics/job/data/PARKIN',3)"
      ],
      "execution_count": 0,
      "outputs": [
        {
          "output_type": "stream",
          "text": [
            "64 : ['AAA', 'AAC', 'AAG', 'AAT', 'ACA', 'ACC', 'ACG', 'ACT', 'AGA', 'AGC', 'AGG', 'AGT', 'ATA', 'ATC', 'ATG', 'ATT', 'CAA', 'CAC', 'CAG', 'CAT', 'CCA', 'CCC', 'CCG', 'CCT', 'CGA', 'CGC', 'CGG', 'CGT', 'CTA', 'CTC', 'CTG', 'CTT', 'GAA', 'GAC', 'GAG', 'GAT', 'GCA', 'GCC', 'GCG', 'GCT', 'GGA', 'GGC', 'GGG', 'GGT', 'GTA', 'GTC', 'GTG', 'GTT', 'TAA', 'TAC', 'TAG', 'TAT', 'TCA', 'TCC', 'TCG', 'TCT', 'TGA', 'TGC', 'TGG', 'TGT', 'TTA', 'TTC', 'TTG', 'TTT']\n"
          ],
          "name": "stdout"
        }
      ]
    },
    {
      "cell_type": "code",
      "metadata": {
        "id": "qGdn5rCqrRQn",
        "colab_type": "code",
        "outputId": "af5bfe15-1873-41a8-a5e3-983d48a920bb",
        "colab": {
          "base_uri": "https://localhost:8080/",
          "height": 54
        }
      },
      "source": [
        "common_patterns_diff_lengths_among_all('/gdrive/My Drive/Genomics/job/data/PARKIN',4)"
      ],
      "execution_count": 0,
      "outputs": [
        {
          "output_type": "stream",
          "text": [
            "241 : ['AAAA', 'AAAC', 'AAAG', 'AAAT', 'AACA', 'AACC', 'AACG', 'AACT', 'AAGA', 'AAGC', 'AAGG', 'AAGT', 'AATA', 'AATC', 'AATG', 'AATT', 'ACAA', 'ACAC', 'ACAG', 'ACAT', 'ACCA', 'ACCC', 'ACCG', 'ACCT', 'ACGA', 'ACGC', 'ACGT', 'ACTA', 'ACTC', 'ACTG', 'ACTT', 'AGAA', 'AGAC', 'AGAG', 'AGAT', 'AGCA', 'AGCC', 'AGCG', 'AGCT', 'AGGA', 'AGGC', 'AGGG', 'AGGT', 'AGTA', 'AGTC', 'AGTG', 'AGTT', 'ATAA', 'ATAC', 'ATAG', 'ATCA', 'ATCC', 'ATCG', 'ATCT', 'ATGA', 'ATGC', 'ATGG', 'ATGT', 'ATTA', 'ATTC', 'ATTG', 'ATTT', 'CAAA', 'CAAC', 'CAAG', 'CAAT', 'CACC', 'CACG', 'CACT', 'CAGA', 'CAGC', 'CAGG', 'CAGT', 'CATA', 'CATC', 'CATG', 'CATT', 'CCAA', 'CCAG', 'CCAT', 'CCCA', 'CCCC', 'CCCG', 'CCCT', 'CCGA', 'CCGC', 'CCGG', 'CCTA', 'CCTC', 'CCTG', 'CCTT', 'CGAC', 'CGAG', 'CGAT', 'CGCA', 'CGCC', 'CGCG', 'CGCT', 'CGGA', 'CGGC', 'CGGG', 'CGGT', 'CGTC', 'CGTG', 'CTAA', 'CTAC', 'CTAG', 'CTAT', 'CTCA', 'CTCC', 'CTCG', 'CTCT', 'CTGA', 'CTGC', 'CTGG', 'CTGT', 'CTTA', 'CTTC', 'CTTG', 'CTTT', 'GAAA', 'GAAC', 'GAAG', 'GAAT', 'GACA', 'GACC', 'GACG', 'GACT', 'GAGA', 'GAGC', 'GAGG', 'GAGT', 'GATA', 'GATC', 'GATG', 'GATT', 'GCAA', 'GCAC', 'GCAG', 'GCAT', 'GCCA', 'GCCC', 'GCCG', 'GCCT', 'GCGA', 'GCGC', 'GCGG', 'GCGT', 'GCTA', 'GCTC', 'GCTG', 'GCTT', 'GGAA', 'GGAC', 'GGAG', 'GGAT', 'GGCA', 'GGCC', 'GGCG', 'GGCT', 'GGGA', 'GGGC', 'GGGG', 'GGGT', 'GGTC', 'GGTG', 'GGTT', 'GTAA', 'GTAC', 'GTAT', 'GTCA', 'GTCC', 'GTCG', 'GTCT', 'GTGA', 'GTGC', 'GTGG', 'GTGT', 'GTTA', 'GTTC', 'GTTG', 'GTTT', 'TAAA', 'TAAG', 'TAAT', 'TACA', 'TACC', 'TACG', 'TACT', 'TAGA', 'TAGC', 'TAGG', 'TAGT', 'TATC', 'TATG', 'TATT', 'TCAA', 'TCAC', 'TCAG', 'TCAT', 'TCCA', 'TCCC', 'TCCG', 'TCCT', 'TCGA', 'TCGC', 'TCGG', 'TCTA', 'TCTC', 'TCTG', 'TCTT', 'TGAA', 'TGAC', 'TGAG', 'TGAT', 'TGCA', 'TGCC', 'TGCG', 'TGCT', 'TGGA', 'TGGC', 'TGGG', 'TGGT', 'TGTA', 'TGTC', 'TGTG', 'TGTT', 'TTAC', 'TTAG', 'TTAT', 'TTCA', 'TTCC', 'TTCT', 'TTGA', 'TTGC', 'TTGG', 'TTGT', 'TTTA', 'TTTC', 'TTTG', 'TTTT']\n"
          ],
          "name": "stdout"
        }
      ]
    },
    {
      "cell_type": "code",
      "metadata": {
        "id": "3qJvjtv1rfS1",
        "colab_type": "code",
        "outputId": "f0da9723-91cf-4a1c-afe0-9c39a5bb733b",
        "colab": {
          "base_uri": "https://localhost:8080/",
          "height": 54
        }
      },
      "source": [
        "common_patterns_diff_lengths_among_all('/gdrive/My Drive/Genomics/job/data/PARKIN',5)"
      ],
      "execution_count": 0,
      "outputs": [
        {
          "output_type": "stream",
          "text": [
            "402 : ['AAAAG', 'AAAAT', 'AAACC', 'AAACT', 'AAAGC', 'AAATG', 'AACAG', 'AACCC', 'AACTC', 'AACTG', 'AACTT', 'AAGAA', 'AAGAG', 'AAGCA', 'AAGCC', 'AAGCT', 'AAGGA', 'AAGGC', 'AAGGG', 'AAGGT', 'AAGTG', 'AAGTT', 'AATCC', 'AATGG', 'AATGT', 'AATTC', 'ACAAC', 'ACAAG', 'ACACC', 'ACAGG', 'ACATC', 'ACCAG', 'ACCCT', 'ACCGG', 'ACCTG', 'ACGCA', 'ACGTG', 'ACTAC', 'ACTCA', 'ACTCT', 'ACTGC', 'ACTGG', 'ACTTC', 'ACTTT', 'AGAAA', 'AGAAG', 'AGAGA', 'AGAGC', 'AGAGG', 'AGAGT', 'AGATC', 'AGATT', 'AGCAG', 'AGCCA', 'AGCCC', 'AGCCG', 'AGCCT', 'AGCTG', 'AGCTT', 'AGGAA', 'AGGAG', 'AGGCC', 'AGGCG', 'AGGCT', 'AGGGA', 'AGGGC', 'AGGGG', 'AGGTC', 'AGGTG', 'AGGTT', 'AGTCT', 'AGTGA', 'AGTGG', 'AGTGT', 'AGTTT', 'ATAAA', 'ATCAC', 'ATCCA', 'ATCCC', 'ATCCT', 'ATGAG', 'ATGAT', 'ATGCA', 'ATGGC', 'ATGGT', 'ATGTG', 'ATGTT', 'ATTGG', 'ATTTT', 'CAAGA', 'CAAGC', 'CAAGG', 'CAAGT', 'CACCA', 'CACCC', 'CACCT', 'CACGC', 'CACTC', 'CAGAA', 'CAGAG', 'CAGAT', 'CAGCA', 'CAGCC', 'CAGCT', 'CAGGA', 'CAGGC', 'CAGGT', 'CAGTA', 'CAGTC', 'CAGTG', 'CATCA', 'CATCC', 'CATCT', 'CATGG', 'CATTT', 'CCAAC', 'CCAAG', 'CCAGA', 'CCAGC', 'CCAGG', 'CCAGT', 'CCATC', 'CCCAA', 'CCCAG', 'CCCCA', 'CCCCC', 'CCCCG', 'CCCCT', 'CCCGC', 'CCCTC', 'CCCTG', 'CCCTT', 'CCGCC', 'CCGGA', 'CCGGC', 'CCGGG', 'CCTCT', 'CCTGA', 'CCTGC', 'CCTGG', 'CCTGT', 'CCTTC', 'CCTTG', 'CCTTT', 'CGCAG', 'CGCCA', 'CGCGG', 'CGCTC', 'CGCTG', 'CGGAA', 'CGGAG', 'CGGCA', 'CGGCT', 'CGGGA', 'CGGGG', 'CGTCT', 'CGTGC', 'CGTGG', 'CTACT', 'CTATG', 'CTCAA', 'CTCAG', 'CTCCC', 'CTCGG', 'CTCTC', 'CTCTG', 'CTCTT', 'CTGAA', 'CTGAC', 'CTGAG', 'CTGAT', 'CTGCA', 'CTGCC', 'CTGCG', 'CTGGA', 'CTGGC', 'CTGGG', 'CTGGT', 'CTGTC', 'CTGTG', 'CTGTT', 'CTTAC', 'CTTCA', 'CTTCT', 'CTTGA', 'CTTGC', 'CTTGG', 'CTTGT', 'CTTTG', 'CTTTT', 'GAAAA', 'GAAAG', 'GAAAT', 'GAACC', 'GAACT', 'GAAGA', 'GAAGC', 'GAAGG', 'GAAGT', 'GAATC', 'GAATG', 'GACAC', 'GACAG', 'GACCC', 'GACTA', 'GAGAA', 'GAGAC', 'GAGAG', 'GAGCA', 'GAGCC', 'GAGCG', 'GAGCT', 'GAGGA', 'GAGGC', 'GAGGG', 'GAGGT', 'GATAA', 'GATCC', 'GATGG', 'GATTG', 'GATTT', 'GCAAG', 'GCACC', 'GCACT', 'GCAGA', 'GCAGC', 'GCAGG', 'GCAGT', 'GCATC', 'GCATT', 'GCCAA', 'GCCAG', 'GCCAT', 'GCCCC', 'GCCCG', 'GCCGC', 'GCCTC', 'GCCTG', 'GCCTT', 'GCGCA', 'GCGCG', 'GCGGC', 'GCGGG', 'GCGTC', 'GCGTG', 'GCTCC', 'GCTCT', 'GCTGA', 'GCTGG', 'GCTGT', 'GCTTC', 'GCTTG', 'GGAAA', 'GGAAC', 'GGAAG', 'GGAAT', 'GGACA', 'GGAGA', 'GGAGC', 'GGAGG', 'GGCAA', 'GGCAG', 'GGCAT', 'GGCCC', 'GGCCG', 'GGCCT', 'GGCGC', 'GGCGG', 'GGCGT', 'GGCTA', 'GGCTC', 'GGCTG', 'GGCTT', 'GGGAA', 'GGGAC', 'GGGAG', 'GGGAT', 'GGGCC', 'GGGCT', 'GGGGA', 'GGGGC', 'GGGGG', 'GGGGT', 'GGGTG', 'GGTCA', 'GGTCC', 'GGTGA', 'GGTGC', 'GGTGG', 'GGTGT', 'GGTTG', 'GTAAT', 'GTACT', 'GTCAA', 'GTCAT', 'GTCCC', 'GTCCT', 'GTCTG', 'GTGAA', 'GTGAC', 'GTGAG', 'GTGAT', 'GTGCC', 'GTGCT', 'GTGGA', 'GTGGC', 'GTGGG', 'GTGGT', 'GTGTA', 'GTGTC', 'GTGTG', 'GTGTT', 'GTTGG', 'GTTTA', 'GTTTC', 'GTTTT', 'TAAAA', 'TAATT', 'TACAA', 'TACTG', 'TAGCC', 'TATGT', 'TCAAG', 'TCACC', 'TCACT', 'TCAGC', 'TCATG', 'TCCAG', 'TCCCA', 'TCCCC', 'TCCCG', 'TCCCT', 'TCCTG', 'TCGAG', 'TCGGC', 'TCGGG', 'TCTGA', 'TCTGC', 'TCTGG', 'TCTGT', 'TCTTC', 'TCTTG', 'TGAAC', 'TGAAG', 'TGAAT', 'TGACA', 'TGACC', 'TGAGA', 'TGAGC', 'TGAGG', 'TGATC', 'TGATG', 'TGATT', 'TGCAG', 'TGCAT', 'TGCCC', 'TGCGG', 'TGCTA', 'TGGAA', 'TGGAC', 'TGGAG', 'TGGAT', 'TGGCA', 'TGGCC', 'TGGCG', 'TGGCT', 'TGGGA', 'TGGGC', 'TGGGG', 'TGGGT', 'TGGTG', 'TGGTT', 'TGTCC', 'TGTGA', 'TGTGG', 'TGTGT', 'TGTTA', 'TGTTC', 'TGTTG', 'TGTTT', 'TTATG', 'TTATT', 'TTCAG', 'TTCCC', 'TTCCT', 'TTCTG', 'TTCTT', 'TTGAC', 'TTGCC', 'TTGCT', 'TTGGA', 'TTGGC', 'TTGGG', 'TTGTG', 'TTTAT', 'TTTCC', 'TTTCT', 'TTTGA', 'TTTGG', 'TTTGT', 'TTTTC', 'TTTTT']\n"
          ],
          "name": "stdout"
        }
      ]
    },
    {
      "cell_type": "code",
      "metadata": {
        "id": "bVwalpSirn6q",
        "colab_type": "code",
        "outputId": "151a58c1-a3a7-4f4d-e99d-9e8c5284ce51",
        "colab": {
          "base_uri": "https://localhost:8080/",
          "height": 54
        }
      },
      "source": [
        "common_patterns_diff_lengths_among_all('/gdrive/My Drive/Genomics/job/data/PARKIN',6)"
      ],
      "execution_count": 0,
      "outputs": [
        {
          "output_type": "stream",
          "text": [
            "100 : ['AAGAGG', 'AAGCAG', 'AAGGAG', 'AAGGTG', 'ACACCA', 'ACCTGT', 'ACTCTG', 'AGAAGG', 'AGAGGA', 'AGCAGC', 'AGCTGG', 'AGGAAG', 'AGGAGA', 'AGGAGC', 'AGGGGA', 'AGGTGG', 'AGTGGA', 'AGTGGG', 'CAGAAG', 'CAGCAG', 'CAGCTG', 'CAGTGG', 'CATGGT', 'CCAGGA', 'CCCTGC', 'CCTCTC', 'CCTGAC', 'CCTGGA', 'CGGGAG', 'CTCTGC', 'CTGACC', 'CTGAGG', 'CTGGAA', 'CTGGAG', 'CTGGCC', 'CTGGGC', 'CTTGTG', 'GAAAAG', 'GAAGAA', 'GAAGAG', 'GAAGCC', 'GAAGGA', 'GAAGTG', 'GAGAAG', 'GAGGAA', 'GAGGAG', 'GAGGTG', 'GCAGGC', 'GCAGTG', 'GCTCTG', 'GCTGAG', 'GCTGGA', 'GCTGGG', 'GGAAGA', 'GGAAGC', 'GGAAGG', 'GGAAGT', 'GGAGCA', 'GGAGCC', 'GGAGGC', 'GGAGGT', 'GGGAAG', 'GGGAGG', 'GGGCCT', 'GGGGAG', 'GGGGCT', 'GGGGGA', 'GGGTGG', 'GGTGGA', 'GGTGGG', 'GTCCTG', 'GTGAGA', 'GTGGAG', 'GTGGGG', 'GTGGGT', 'GTGGTT', 'GTGTGA', 'GTGTGG', 'GTTGGG', 'TAAAAT', 'TCCCTG', 'TCCTGG', 'TCTGAC', 'TCTGAG', 'TGAAGG', 'TGAGGA', 'TGCCCC', 'TGGAAG', 'TGGAGC', 'TGGCTG', 'TGGGAT', 'TGGGCC', 'TGGGGG', 'TGTGGA', 'TTCAGC', 'TTCCCC', 'TTGGCT', 'TTTCTT', 'TTTTCT', 'TTTTTT']\n"
          ],
          "name": "stdout"
        }
      ]
    },
    {
      "cell_type": "code",
      "metadata": {
        "id": "hXu3u7Wjrwuw",
        "colab_type": "code",
        "outputId": "a29f95e6-3f5e-402c-dfd7-0d556f67f1fb",
        "colab": {
          "base_uri": "https://localhost:8080/",
          "height": 34
        }
      },
      "source": [
        "common_patterns_diff_lengths_among_all('/gdrive/My Drive/Genomics/job/data/PARKIN',7)"
      ],
      "execution_count": 0,
      "outputs": [
        {
          "output_type": "stream",
          "text": [
            "2 : ['CCTGACC', 'GGAGGTG']\n"
          ],
          "name": "stdout"
        }
      ]
    },
    {
      "cell_type": "code",
      "metadata": {
        "id": "iEk24t9Tr69Z",
        "colab_type": "code",
        "outputId": "1372400e-dabe-4ed5-b656-b865353b2cab",
        "colab": {
          "base_uri": "https://localhost:8080/",
          "height": 34
        }
      },
      "source": [
        "common_patterns_diff_lengths_among_all('/gdrive/My Drive/Genomics/job/data/PARKIN',8)"
      ],
      "execution_count": 0,
      "outputs": [
        {
          "output_type": "stream",
          "text": [
            "0 : []\n"
          ],
          "name": "stdout"
        }
      ]
    },
    {
      "cell_type": "markdown",
      "metadata": {
        "id": "3hfgUu4nzmbz",
        "colab_type": "text"
      },
      "source": [
        "## YR DISTRIBUTION"
      ]
    },
    {
      "cell_type": "code",
      "metadata": {
        "id": "3K3EJTtHsxlp",
        "colab_type": "code",
        "outputId": "346df384-b633-4b5d-c8ee-22951c71c8a7",
        "colab": {
          "base_uri": "https://localhost:8080/",
          "height": 34
        }
      },
      "source": [
        "common_patterns_diff_lengths_among_all('/gdrive/My Drive/Genomics/job/data/PARKIN',3,MODE='YR')"
      ],
      "execution_count": 0,
      "outputs": [
        {
          "output_type": "stream",
          "text": [
            "8 : ['RRR', 'RRY', 'RYR', 'RYY', 'YRR', 'YRY', 'YYR', 'YYY']\n"
          ],
          "name": "stdout"
        }
      ]
    },
    {
      "cell_type": "code",
      "metadata": {
        "id": "QP8o6CcLs4GF",
        "colab_type": "code",
        "outputId": "37e7f7cc-4f5d-42dd-ee36-278eafb68699",
        "colab": {
          "base_uri": "https://localhost:8080/",
          "height": 54
        }
      },
      "source": [
        "common_patterns_diff_lengths_among_all('/gdrive/My Drive/Genomics/job/data/PARKIN',4,MODE='YR')"
      ],
      "execution_count": 0,
      "outputs": [
        {
          "output_type": "stream",
          "text": [
            "16 : ['RRRR', 'RRRY', 'RRYR', 'RRYY', 'RYRR', 'RYRY', 'RYYR', 'RYYY', 'YRRR', 'YRRY', 'YRYR', 'YRYY', 'YYRR', 'YYRY', 'YYYR', 'YYYY']\n"
          ],
          "name": "stdout"
        }
      ]
    },
    {
      "cell_type": "code",
      "metadata": {
        "id": "7Aawv-zOtCHN",
        "colab_type": "code",
        "outputId": "e86dbebd-cbe7-444e-c59c-28aeffbdb45f",
        "colab": {
          "base_uri": "https://localhost:8080/",
          "height": 54
        }
      },
      "source": [
        "common_patterns_diff_lengths_among_all('/gdrive/My Drive/Genomics/job/data/PARKIN',5,MODE='YR')"
      ],
      "execution_count": 0,
      "outputs": [
        {
          "output_type": "stream",
          "text": [
            "32 : ['RRRRR', 'RRRRY', 'RRRYR', 'RRRYY', 'RRYRR', 'RRYRY', 'RRYYR', 'RRYYY', 'RYRRR', 'RYRRY', 'RYRYR', 'RYRYY', 'RYYRR', 'RYYRY', 'RYYYR', 'RYYYY', 'YRRRR', 'YRRRY', 'YRRYR', 'YRRYY', 'YRYRR', 'YRYRY', 'YRYYR', 'YRYYY', 'YYRRR', 'YYRRY', 'YYRYR', 'YYRYY', 'YYYRR', 'YYYRY', 'YYYYR', 'YYYYY']\n"
          ],
          "name": "stdout"
        }
      ]
    },
    {
      "cell_type": "code",
      "metadata": {
        "id": "kfZ0Yd0itE29",
        "colab_type": "code",
        "outputId": "14c2a732-c11f-402a-b9f0-d66e938861d8",
        "colab": {
          "base_uri": "https://localhost:8080/",
          "height": 54
        }
      },
      "source": [
        "common_patterns_diff_lengths_among_all('/gdrive/My Drive/Genomics/job/data/PARKIN',6,MODE='YR')"
      ],
      "execution_count": 0,
      "outputs": [
        {
          "output_type": "stream",
          "text": [
            "64 : ['RRRRRR', 'RRRRRY', 'RRRRYR', 'RRRRYY', 'RRRYRR', 'RRRYRY', 'RRRYYR', 'RRRYYY', 'RRYRRR', 'RRYRRY', 'RRYRYR', 'RRYRYY', 'RRYYRR', 'RRYYRY', 'RRYYYR', 'RRYYYY', 'RYRRRR', 'RYRRRY', 'RYRRYR', 'RYRRYY', 'RYRYRR', 'RYRYRY', 'RYRYYR', 'RYRYYY', 'RYYRRR', 'RYYRRY', 'RYYRYR', 'RYYRYY', 'RYYYRR', 'RYYYRY', 'RYYYYR', 'RYYYYY', 'YRRRRR', 'YRRRRY', 'YRRRYR', 'YRRRYY', 'YRRYRR', 'YRRYRY', 'YRRYYR', 'YRRYYY', 'YRYRRR', 'YRYRRY', 'YRYRYR', 'YRYRYY', 'YRYYRR', 'YRYYRY', 'YRYYYR', 'YRYYYY', 'YYRRRR', 'YYRRRY', 'YYRRYR', 'YYRRYY', 'YYRYRR', 'YYRYRY', 'YYRYYR', 'YYRYYY', 'YYYRRR', 'YYYRRY', 'YYYRYR', 'YYYRYY', 'YYYYRR', 'YYYYRY', 'YYYYYR', 'YYYYYY']\n"
          ],
          "name": "stdout"
        }
      ]
    },
    {
      "cell_type": "code",
      "metadata": {
        "id": "LVBWsA-Hthz_",
        "colab_type": "code",
        "outputId": "08bb794d-5488-46be-80e8-240782941681",
        "colab": {
          "base_uri": "https://localhost:8080/",
          "height": 54
        }
      },
      "source": [
        "common_patterns_diff_lengths_among_all('/gdrive/My Drive/Genomics/job/data/PARKIN',7,MODE='YR')"
      ],
      "execution_count": 0,
      "outputs": [
        {
          "output_type": "stream",
          "text": [
            "128 : ['RRRRRRR', 'RRRRRRY', 'RRRRRYR', 'RRRRRYY', 'RRRRYRR', 'RRRRYRY', 'RRRRYYR', 'RRRRYYY', 'RRRYRRR', 'RRRYRRY', 'RRRYRYR', 'RRRYRYY', 'RRRYYRR', 'RRRYYRY', 'RRRYYYR', 'RRRYYYY', 'RRYRRRR', 'RRYRRRY', 'RRYRRYR', 'RRYRRYY', 'RRYRYRR', 'RRYRYRY', 'RRYRYYR', 'RRYRYYY', 'RRYYRRR', 'RRYYRRY', 'RRYYRYR', 'RRYYRYY', 'RRYYYRR', 'RRYYYRY', 'RRYYYYR', 'RRYYYYY', 'RYRRRRR', 'RYRRRRY', 'RYRRRYR', 'RYRRRYY', 'RYRRYRR', 'RYRRYRY', 'RYRRYYR', 'RYRRYYY', 'RYRYRRR', 'RYRYRRY', 'RYRYRYR', 'RYRYRYY', 'RYRYYRR', 'RYRYYRY', 'RYRYYYR', 'RYRYYYY', 'RYYRRRR', 'RYYRRRY', 'RYYRRYR', 'RYYRRYY', 'RYYRYRR', 'RYYRYRY', 'RYYRYYR', 'RYYRYYY', 'RYYYRRR', 'RYYYRRY', 'RYYYRYR', 'RYYYRYY', 'RYYYYRR', 'RYYYYRY', 'RYYYYYR', 'RYYYYYY', 'YRRRRRR', 'YRRRRRY', 'YRRRRYR', 'YRRRRYY', 'YRRRYRR', 'YRRRYRY', 'YRRRYYR', 'YRRRYYY', 'YRRYRRR', 'YRRYRRY', 'YRRYRYR', 'YRRYRYY', 'YRRYYRR', 'YRRYYRY', 'YRRYYYR', 'YRRYYYY', 'YRYRRRR', 'YRYRRRY', 'YRYRRYR', 'YRYRRYY', 'YRYRYRR', 'YRYRYRY', 'YRYRYYR', 'YRYRYYY', 'YRYYRRR', 'YRYYRRY', 'YRYYRYR', 'YRYYRYY', 'YRYYYRR', 'YRYYYRY', 'YRYYYYR', 'YRYYYYY', 'YYRRRRR', 'YYRRRRY', 'YYRRRYR', 'YYRRRYY', 'YYRRYRR', 'YYRRYRY', 'YYRRYYR', 'YYRRYYY', 'YYRYRRR', 'YYRYRRY', 'YYRYRYR', 'YYRYRYY', 'YYRYYRR', 'YYRYYRY', 'YYRYYYR', 'YYRYYYY', 'YYYRRRR', 'YYYRRRY', 'YYYRRYR', 'YYYRRYY', 'YYYRYRR', 'YYYRYRY', 'YYYRYYR', 'YYYRYYY', 'YYYYRRR', 'YYYYRRY', 'YYYYRYR', 'YYYYRYY', 'YYYYYRR', 'YYYYYRY', 'YYYYYYR', 'YYYYYYY']\n"
          ],
          "name": "stdout"
        }
      ]
    },
    {
      "cell_type": "code",
      "metadata": {
        "id": "HiaXwilLt2um",
        "colab_type": "code",
        "outputId": "9d9a62db-10a9-45a3-cf2e-61297e6137db",
        "colab": {
          "base_uri": "https://localhost:8080/",
          "height": 54
        }
      },
      "source": [
        "common_patterns_diff_lengths_among_all('/gdrive/My Drive/Genomics/job/data/PARKIN',8,MODE='YR')"
      ],
      "execution_count": 0,
      "outputs": [
        {
          "output_type": "stream",
          "text": [
            "254 : ['RRRRRRRR', 'RRRRRRRY', 'RRRRRRYR', 'RRRRRRYY', 'RRRRRYRR', 'RRRRRYRY', 'RRRRRYYR', 'RRRRRYYY', 'RRRRYRRR', 'RRRRYRRY', 'RRRRYRYR', 'RRRRYRYY', 'RRRRYYRR', 'RRRRYYRY', 'RRRRYYYR', 'RRRRYYYY', 'RRRYRRRR', 'RRRYRRRY', 'RRRYRRYR', 'RRRYRRYY', 'RRRYRYRR', 'RRRYRYRY', 'RRRYRYYR', 'RRRYRYYY', 'RRRYYRRR', 'RRRYYRRY', 'RRRYYRYR', 'RRRYYRYY', 'RRRYYYRR', 'RRRYYYRY', 'RRRYYYYR', 'RRRYYYYY', 'RRYRRRRR', 'RRYRRRRY', 'RRYRRRYR', 'RRYRRRYY', 'RRYRRYRR', 'RRYRRYRY', 'RRYRRYYR', 'RRYRRYYY', 'RRYRYRRR', 'RRYRYRRY', 'RRYRYRYR', 'RRYRYRYY', 'RRYRYYRR', 'RRYRYYRY', 'RRYRYYYR', 'RRYRYYYY', 'RRYYRRRR', 'RRYYRRRY', 'RRYYRRYR', 'RRYYRRYY', 'RRYYRYRR', 'RRYYRYRY', 'RRYYRYYR', 'RRYYRYYY', 'RRYYYRRR', 'RRYYYRRY', 'RRYYYRYR', 'RRYYYRYY', 'RRYYYYRR', 'RRYYYYRY', 'RRYYYYYR', 'RRYYYYYY', 'RYRRRRRR', 'RYRRRRRY', 'RYRRRRYR', 'RYRRRRYY', 'RYRRRYRR', 'RYRRRYRY', 'RYRRRYYR', 'RYRRRYYY', 'RYRRYRRR', 'RYRRYRRY', 'RYRRYRYR', 'RYRRYRYY', 'RYRRYYRR', 'RYRRYYRY', 'RYRRYYYR', 'RYRRYYYY', 'RYRYRRRR', 'RYRYRRRY', 'RYRYRRYR', 'RYRYRRYY', 'RYRYRYRR', 'RYRYRYRY', 'RYRYRYYR', 'RYRYRYYY', 'RYRYYRRR', 'RYRYYRRY', 'RYRYYRYR', 'RYRYYRYY', 'RYRYYYRR', 'RYRYYYRY', 'RYRYYYYR', 'RYRYYYYY', 'RYYRRRRR', 'RYYRRRRY', 'RYYRRRYR', 'RYYRRRYY', 'RYYRRYRR', 'RYYRRYRY', 'RYYRRYYR', 'RYYRRYYY', 'RYYRYRRR', 'RYYRYRRY', 'RYYRYRYR', 'RYYRYRYY', 'RYYRYYRR', 'RYYRYYRY', 'RYYRYYYR', 'RYYRYYYY', 'RYYYRRRR', 'RYYYRRRY', 'RYYYRRYR', 'RYYYRRYY', 'RYYYRYRR', 'RYYYRYRY', 'RYYYRYYR', 'RYYYRYYY', 'RYYYYRRR', 'RYYYYRRY', 'RYYYYRYR', 'RYYYYRYY', 'RYYYYYRR', 'RYYYYYRY', 'RYYYYYYR', 'RYYYYYYY', 'YRRRRRRR', 'YRRRRRRY', 'YRRRRRYR', 'YRRRRRYY', 'YRRRRYRR', 'YRRRRYRY', 'YRRRRYYR', 'YRRRRYYY', 'YRRRYRRR', 'YRRRYRRY', 'YRRRYRYR', 'YRRRYRYY', 'YRRRYYRR', 'YRRRYYRY', 'YRRRYYYR', 'YRRRYYYY', 'YRRYRRRR', 'YRRYRRRY', 'YRRYRRYR', 'YRRYRRYY', 'YRRYRYRR', 'YRRYRYRY', 'YRRYRYYR', 'YRRYRYYY', 'YRRYYRRR', 'YRRYYRRY', 'YRRYYRYR', 'YRRYYRYY', 'YRRYYYRR', 'YRRYYYRY', 'YRRYYYYR', 'YRRYYYYY', 'YRYRRRRR', 'YRYRRRRY', 'YRYRRRYR', 'YRYRRRYY', 'YRYRRYRR', 'YRYRRYRY', 'YRYRRYYR', 'YRYRRYYY', 'YRYRYRRR', 'YRYRYRRY', 'YRYRYRYR', 'YRYRYRYY', 'YRYRYYRR', 'YRYRYYRY', 'YRYRYYYR', 'YRYRYYYY', 'YRYYRRRR', 'YRYYRRRY', 'YRYYRRYR', 'YRYYRRYY', 'YRYYRYRR', 'YRYYRYRY', 'YRYYRYYR', 'YRYYRYYY', 'YRYYYRRR', 'YRYYYRRY', 'YRYYYRYR', 'YRYYYRYY', 'YRYYYYRR', 'YRYYYYRY', 'YRYYYYYR', 'YRYYYYYY', 'YYRRRRRR', 'YYRRRRRY', 'YYRRRRYR', 'YYRRRRYY', 'YYRRRYRR', 'YYRRRYRY', 'YYRRRYYR', 'YYRRRYYY', 'YYRRYRRR', 'YYRRYRRY', 'YYRRYRYR', 'YYRRYRYY', 'YYRRYYRY', 'YYRRYYYR', 'YYRRYYYY', 'YYRYRRRR', 'YYRYRRRY', 'YYRYRRYR', 'YYRYRRYY', 'YYRYRYRR', 'YYRYRYYR', 'YYRYRYYY', 'YYRYYRRR', 'YYRYYRRY', 'YYRYYRYR', 'YYRYYRYY', 'YYRYYYRR', 'YYRYYYRY', 'YYRYYYYR', 'YYRYYYYY', 'YYYRRRRR', 'YYYRRRRY', 'YYYRRRYR', 'YYYRRRYY', 'YYYRRYRR', 'YYYRRYRY', 'YYYRRYYR', 'YYYRRYYY', 'YYYRYRRR', 'YYYRYRRY', 'YYYRYRYR', 'YYYRYRYY', 'YYYRYYRR', 'YYYRYYRY', 'YYYRYYYR', 'YYYRYYYY', 'YYYYRRRR', 'YYYYRRRY', 'YYYYRRYR', 'YYYYRRYY', 'YYYYRYRR', 'YYYYRYRY', 'YYYYRYYR', 'YYYYRYYY', 'YYYYYRRR', 'YYYYYRRY', 'YYYYYRYR', 'YYYYYRYY', 'YYYYYYRR', 'YYYYYYRY', 'YYYYYYYR', 'YYYYYYYY']\n"
          ],
          "name": "stdout"
        }
      ]
    },
    {
      "cell_type": "code",
      "metadata": {
        "id": "gFe9HcnduBvu",
        "colab_type": "code",
        "outputId": "380cb2d2-1a6b-46e8-a21f-34155bc84b02",
        "colab": {
          "base_uri": "https://localhost:8080/",
          "height": 54
        }
      },
      "source": [
        "common_patterns_diff_lengths_among_all('/gdrive/My Drive/Genomics/job/data/PARKIN',9,MODE='YR')"
      ],
      "execution_count": 0,
      "outputs": [
        {
          "output_type": "stream",
          "text": [
            "448 : ['RRRRRRRRR', 'RRRRRRRRY', 'RRRRRRRYR', 'RRRRRRRYY', 'RRRRRRYRR', 'RRRRRRYRY', 'RRRRRRYYR', 'RRRRRRYYY', 'RRRRRYRRR', 'RRRRRYRRY', 'RRRRRYRYR', 'RRRRRYRYY', 'RRRRRYYRR', 'RRRRRYYRY', 'RRRRRYYYR', 'RRRRRYYYY', 'RRRRYRRRR', 'RRRRYRRRY', 'RRRRYRRYR', 'RRRRYRRYY', 'RRRRYRYRR', 'RRRRYRYRY', 'RRRRYRYYR', 'RRRRYRYYY', 'RRRRYYRRR', 'RRRRYYRRY', 'RRRRYYRYR', 'RRRRYYRYY', 'RRRRYYYRR', 'RRRRYYYRY', 'RRRRYYYYR', 'RRRRYYYYY', 'RRRYRRRRR', 'RRRYRRRRY', 'RRRYRRRYR', 'RRRYRRRYY', 'RRRYRRYRR', 'RRRYRRYRY', 'RRRYRRYYR', 'RRRYRRYYY', 'RRRYRYRRR', 'RRRYRYRRY', 'RRRYRYRYR', 'RRRYRYYRR', 'RRRYRYYYR', 'RRRYRYYYY', 'RRRYYRRRR', 'RRRYYRRRY', 'RRRYYRRYR', 'RRRYYRRYY', 'RRRYYRYRR', 'RRRYYRYYR', 'RRRYYRYYY', 'RRRYYYRRR', 'RRRYYYRRY', 'RRRYYYRYR', 'RRRYYYRYY', 'RRRYYYYRR', 'RRRYYYYRY', 'RRRYYYYYR', 'RRRYYYYYY', 'RRYRRRRRR', 'RRYRRRRRY', 'RRYRRRRYR', 'RRYRRRRYY', 'RRYRRRYRR', 'RRYRRRYRY', 'RRYRRRYYR', 'RRYRRRYYY', 'RRYRRYRRR', 'RRYRRYRRY', 'RRYRRYRYR', 'RRYRRYRYY', 'RRYRRYYRR', 'RRYRRYYRY', 'RRYRRYYYR', 'RRYRRYYYY', 'RRYRYRRRR', 'RRYRYRRRY', 'RRYRYRRYR', 'RRYRYRRYY', 'RRYRYRYRR', 'RRYRYRYRY', 'RRYRYRYYY', 'RRYRYYRRR', 'RRYRYYRRY', 'RRYRYYRYR', 'RRYRYYRYY', 'RRYRYYYRR', 'RRYRYYYRY', 'RRYRYYYYR', 'RRYRYYYYY', 'RRYYRRRRR', 'RRYYRRRRY', 'RRYYRRRYR', 'RRYYRRRYY', 'RRYYRRYRR', 'RRYYRRYRY', 'RRYYRRYYR', 'RRYYRRYYY', 'RRYYRYRRR', 'RRYYRYRRY', 'RRYYRYRYY', 'RRYYRYYRR', 'RRYYRYYRY', 'RRYYRYYYR', 'RRYYRYYYY', 'RRYYYRRRR', 'RRYYYRRRY', 'RRYYYRRYR', 'RRYYYRRYY', 'RRYYYRYRR', 'RRYYYRYRY', 'RRYYYRYYY', 'RRYYYYRRR', 'RRYYYYRRY', 'RRYYYYRYR', 'RRYYYYRYY', 'RRYYYYYRR', 'RRYYYYYRY', 'RRYYYYYYR', 'RRYYYYYYY', 'RYRRRRRRR', 'RYRRRRRRY', 'RYRRRRRYR', 'RYRRRRRYY', 'RYRRRRYRR', 'RYRRRRYRY', 'RYRRRRYYR', 'RYRRRRYYY', 'RYRRRYRRR', 'RYRRRYRRY', 'RYRRRYRYR', 'RYRRRYRYY', 'RYRRRYYRR', 'RYRRRYYRY', 'RYRRRYYYR', 'RYRRRYYYY', 'RYRRYRRRY', 'RYRRYRRYR', 'RYRRYRRYY', 'RYRRYRYRR', 'RYRRYRYYR', 'RYRRYRYYY', 'RYRRYYRRR', 'RYRRYYRRY', 'RYRRYYRYR', 'RYRRYYRYY', 'RYRRYYYRR', 'RYRRYYYRY', 'RYRRYYYYR', 'RYRRYYYYY', 'RYRYRRRRR', 'RYRYRRYRR', 'RYRYRRYRY', 'RYRYRRYYR', 'RYRYRRYYY', 'RYRYRYRYR', 'RYRYRYRYY', 'RYRYRYYYR', 'RYRYYRRRR', 'RYRYYRRRY', 'RYRYYRRYR', 'RYRYYRRYY', 'RYRYYRYRR', 'RYRYYRYRY', 'RYRYYRYYY', 'RYRYYYRRR', 'RYRYYYRRY', 'RYRYYYRYR', 'RYRYYYRYY', 'RYRYYYYRR', 'RYRYYYYRY', 'RYRYYYYYR', 'RYRYYYYYY', 'RYYRRRRRR', 'RYYRRRRRY', 'RYYRRRRYR', 'RYYRRRRYY', 'RYYRRRYRR', 'RYYRRRYRY', 'RYYRRRYYR', 'RYYRRRYYY', 'RYYRRYRRR', 'RYYRRYRRY', 'RYYRRYRYR', 'RYYRRYRYY', 'RYYRRYYYR', 'RYYRRYYYY', 'RYYRYRRRR', 'RYYRYRRRY', 'RYYRYRRYR', 'RYYRYRRYY', 'RYYRYRYRR', 'RYYRYYRRR', 'RYYRYYYRY', 'RYYRYYYYR', 'RYYRYYYYY', 'RYYYRRRRR', 'RYYYRRRRY', 'RYYYRRRYR', 'RYYYRRRYY', 'RYYYRRYRR', 'RYYYRRYRY', 'RYYYRRYYY', 'RYYYRYRRR', 'RYYYRYRRY', 'RYYYRYRYR', 'RYYYRYRYY', 'RYYYRYYRR', 'RYYYRYYRY', 'RYYYRYYYR', 'RYYYRYYYY', 'RYYYYRRRR', 'RYYYYRRRY', 'RYYYYRRYR', 'RYYYYRRYY', 'RYYYYRYRR', 'RYYYYRYRY', 'RYYYYRYYR', 'RYYYYRYYY', 'RYYYYYRRR', 'RYYYYYRRY', 'RYYYYYRYR', 'RYYYYYRYY', 'RYYYYYYRR', 'RYYYYYYRY', 'RYYYYYYYR', 'RYYYYYYYY', 'YRRRRRRRR', 'YRRRRRRRY', 'YRRRRRRYR', 'YRRRRRRYY', 'YRRRRRYRR', 'YRRRRRYRY', 'YRRRRRYYR', 'YRRRRRYYY', 'YRRRRYRRR', 'YRRRRYRRY', 'YRRRRYRYR', 'YRRRRYRYY', 'YRRRRYYRR', 'YRRRRYYRY', 'YRRRRYYYR', 'YRRRRYYYY', 'YRRRYRRRR', 'YRRRYRRRY', 'YRRRYRRYY', 'YRRRYRYRR', 'YRRRYRYYR', 'YRRRYRYYY', 'YRRRYYRRR', 'YRRRYYRYY', 'YRRRYYYRR', 'YRRRYYYRY', 'YRRRYYYYR', 'YRRRYYYYY', 'YRRYRRRRR', 'YRRYRRRRY', 'YRRYRRRYR', 'YRRYRRRYY', 'YRRYRRYRR', 'YRRYRRYRY', 'YRRYRRYYR', 'YRRYRRYYY', 'YRRYRYRRR', 'YRRYRYRRY', 'YRRYRYRYR', 'YRRYRYYRR', 'YRRYRYYRY', 'YRRYRYYYR', 'YRRYYRRRR', 'YRRYYRRRY', 'YRRYYRRYR', 'YRRYYRYRR', 'YRRYYRYRY', 'YRRYYRYYR', 'YRRYYRYYY', 'YRRYYYRRR', 'YRRYYYRRY', 'YRRYYYRYR', 'YRRYYYRYY', 'YRRYYYYRR', 'YRRYYYYRY', 'YRRYYYYYR', 'YRRYYYYYY', 'YRYRRRRRR', 'YRYRRRRRY', 'YRYRRRRYR', 'YRYRRRYRR', 'YRYRRRYRY', 'YRYRRRYYY', 'YRYRRYRRR', 'YRYRRYRRY', 'YRYRRYRYY', 'YRYRRYYRR', 'YRYRRYYRY', 'YRYRRYYYY', 'YRYRYRRRR', 'YRYRYRRYR', 'YRYRYRRYY', 'YRYRYYRRR', 'YRYRYYRRY', 'YRYRYYRYR', 'YRYRYYYRR', 'YRYRYYYRY', 'YRYRYYYYR', 'YRYRYYYYY', 'YRYYRRRRR', 'YRYYRRRRY', 'YRYYRRRYR', 'YRYYRRRYY', 'YRYYRRYRR', 'YRYYRRYYY', 'YRYYRYRYR', 'YRYYRYRYY', 'YRYYRYYRR', 'YRYYRYYYY', 'YRYYYRRRR', 'YRYYYRRRY', 'YRYYYRRYR', 'YRYYYRRYY', 'YRYYYRYRR', 'YRYYYRYRY', 'YRYYYRYYR', 'YRYYYRYYY', 'YRYYYYRRR', 'YRYYYYRRY', 'YRYYYYRYR', 'YRYYYYRYY', 'YRYYYYYRR', 'YRYYYYYRY', 'YRYYYYYYR', 'YRYYYYYYY', 'YYRRRRRRR', 'YYRRRRRRY', 'YYRRRRRYR', 'YYRRRRRYY', 'YYRRRRYRR', 'YYRRRRYRY', 'YYRRRRYYR', 'YYRRRRYYY', 'YYRRRYRRR', 'YYRRRYRYR', 'YYRRRYRYY', 'YYRRRYYRR', 'YYRRRYYRY', 'YYRRRYYYR', 'YYRRRYYYY', 'YYRRYRRRR', 'YYRRYRRRY', 'YYRRYRRYR', 'YYRRYRRYY', 'YYRRYRYRY', 'YYRRYRYYR', 'YYRRYRYYY', 'YYRRYYRYR', 'YYRRYYYRY', 'YYRRYYYYR', 'YYRRYYYYY', 'YYRYRRRRR', 'YYRYRRRRY', 'YYRYRRRYR', 'YYRYRRRYY', 'YYRYRRYRR', 'YYRYRRYRY', 'YYRYRRYYR', 'YYRYRYRRR', 'YYRYRYRRY', 'YYRYRYYRR', 'YYRYRYYRY', 'YYRYRYYYR', 'YYRYRYYYY', 'YYRYYRRRR', 'YYRYYRRRY', 'YYRYYRRYR', 'YYRYYRRYY', 'YYRYYRYRY', 'YYRYYRYYR', 'YYRYYRYYY', 'YYRYYYRRR', 'YYRYYYRRY', 'YYRYYYRYR', 'YYRYYYRYY', 'YYRYYYYRR', 'YYRYYYYRY', 'YYRYYYYYR', 'YYRYYYYYY', 'YYYRRRRRR', 'YYYRRRRRY', 'YYYRRRRYR', 'YYYRRRRYY', 'YYYRRRYRR', 'YYYRRRYRY', 'YYYRRRYYR', 'YYYRRRYYY', 'YYYRRYRRR', 'YYYRRYRRY', 'YYYRRYRYR', 'YYYRRYRYY', 'YYYRRYYRY', 'YYYRRYYYR', 'YYYRRYYYY', 'YYYRYRRRR', 'YYYRYRRRY', 'YYYRYRRYR', 'YYYRYRRYY', 'YYYRYRYRR', 'YYYRYRYYR', 'YYYRYRYYY', 'YYYRYYRRR', 'YYYRYYRRY', 'YYYRYYRYR', 'YYYRYYRYY', 'YYYRYYYRR', 'YYYRYYYRY', 'YYYRYYYYR', 'YYYRYYYYY', 'YYYYRRRRR', 'YYYYRRRRY', 'YYYYRRRYR', 'YYYYRRRYY', 'YYYYRRYRR', 'YYYYRRYRY', 'YYYYRRYYR', 'YYYYRRYYY', 'YYYYRYRRR', 'YYYYRYRRY', 'YYYYRYRYY', 'YYYYRYYRR', 'YYYYRYYRY', 'YYYYRYYYY', 'YYYYYRRRR', 'YYYYYRRRY', 'YYYYYRRYR', 'YYYYYRRYY', 'YYYYYRYRR', 'YYYYYRYRY', 'YYYYYRYYR', 'YYYYYRYYY', 'YYYYYYRRR', 'YYYYYYRRY', 'YYYYYYRYR', 'YYYYYYRYY', 'YYYYYYYRR', 'YYYYYYYRY', 'YYYYYYYYR', 'YYYYYYYYY']\n"
          ],
          "name": "stdout"
        }
      ]
    },
    {
      "cell_type": "code",
      "metadata": {
        "id": "IgBowm2BuMSA",
        "colab_type": "code",
        "outputId": "b4625829-56da-4bb4-971c-cecb7e847bcb",
        "colab": {
          "base_uri": "https://localhost:8080/",
          "height": 54
        }
      },
      "source": [
        "common_patterns_diff_lengths_among_all('/gdrive/My Drive/Genomics/job/data/PARKIN',10,MODE='YR')"
      ],
      "execution_count": 0,
      "outputs": [
        {
          "output_type": "stream",
          "text": [
            "534 : ['RRRRRRRRRR', 'RRRRRRRRRY', 'RRRRRRRRYR', 'RRRRRRRRYY', 'RRRRRRRYRR', 'RRRRRRRYRY', 'RRRRRRRYYR', 'RRRRRRRYYY', 'RRRRRRYRRR', 'RRRRRRYRRY', 'RRRRRRYRYR', 'RRRRRRYRYY', 'RRRRRRYYRR', 'RRRRRRYYRY', 'RRRRRRYYYR', 'RRRRRRYYYY', 'RRRRRYRRRR', 'RRRRRYRRRY', 'RRRRRYRRYR', 'RRRRRYRRYY', 'RRRRRYRYRR', 'RRRRRYRYRY', 'RRRRRYRYYR', 'RRRRRYRYYY', 'RRRRRYYRRR', 'RRRRRYYRRY', 'RRRRRYYRYR', 'RRRRRYYYRR', 'RRRRRYYYYR', 'RRRRRYYYYY', 'RRRRYRRRRR', 'RRRRYRRRRY', 'RRRRYRRRYR', 'RRRRYRRRYY', 'RRRRYRRYRR', 'RRRRYRRYRY', 'RRRRYRRYYY', 'RRRRYRYRRR', 'RRRRYRYRRY', 'RRRRYRYYRR', 'RRRRYRYYYR', 'RRRRYRYYYY', 'RRRRYYRRRR', 'RRRRYYRRRY', 'RRRRYYRRYR', 'RRRRYYRRYY', 'RRRRYYRYRR', 'RRRRYYYRRR', 'RRRRYYYRRY', 'RRRRYYYRYR', 'RRRRYYYRYY', 'RRRRYYYYRR', 'RRRRYYYYRY', 'RRRRYYYYYR', 'RRRRYYYYYY', 'RRRYRRRRRR', 'RRRYRRRRRY', 'RRRYRRRRYR', 'RRRYRRRRYY', 'RRRYRRRYRR', 'RRRYRRRYRY', 'RRRYRRRYYR', 'RRRYRRRYYY', 'RRRYRRYRRR', 'RRRYRRYRYR', 'RRRYRRYRYY', 'RRRYRRYYRR', 'RRRYRRYYRY', 'RRRYRRYYYY', 'RRRYRYRRRR', 'RRRYRYRRRY', 'RRRYRYYRRR', 'RRRYRYYRRY', 'RRRYRYYYRR', 'RRRYRYYYYY', 'RRRYYRRRRR', 'RRRYYRRRRY', 'RRRYYRRRYR', 'RRRYYRRRYY', 'RRRYYRRYRR', 'RRRYYRRYYY', 'RRRYYRYRRR', 'RRRYYRYYRR', 'RRRYYRYYRY', 'RRRYYRYYYY', 'RRRYYYRRRR', 'RRRYYYRRRY', 'RRRYYYRRYR', 'RRRYYYRRYY', 'RRRYYYRYRR', 'RRRYYYRYRY', 'RRRYYYRYYY', 'RRRYYYYRRR', 'RRRYYYYRRY', 'RRRYYYYRYR', 'RRRYYYYRYY', 'RRRYYYYYRR', 'RRRYYYYYRY', 'RRRYYYYYYR', 'RRRYYYYYYY', 'RRYRRRRRRR', 'RRYRRRRRRY', 'RRYRRRRRYR', 'RRYRRRRRYY', 'RRYRRRRYRR', 'RRYRRRRYYR', 'RRYRRRRYYY', 'RRYRRRYRRR', 'RRYRRRYRRY', 'RRYRRRYRYR', 'RRYRRRYRYY', 'RRYRRRYYRR', 'RRYRRRYYRY', 'RRYRRRYYYR', 'RRYRRRYYYY', 'RRYRRYRRYR', 'RRYRRYRRYY', 'RRYRRYRYRR', 'RRYRRYRYYR', 'RRYRRYRYYY', 'RRYRRYYRRR', 'RRYRRYYRRY', 'RRYRRYYRYR', 'RRYRRYYYRY', 'RRYRYRRRRR', 'RRYRYRRYRR', 'RRYRYRRYYR', 'RRYRYYRRRR', 'RRYRYYRRRY', 'RRYRYYRRYR', 'RRYRYYRRYY', 'RRYRYYRYYY', 'RRYRYYYRRR', 'RRYRYYYRYY', 'RRYRYYYYYY', 'RRYYRRRRRR', 'RRYYRRRRYR', 'RRYYRRRRYY', 'RRYYRRRYRR', 'RRYYRRRYRY', 'RRYYRRRYYR', 'RRYYRRRYYY', 'RRYYRRYRRY', 'RRYYRRYRYR', 'RRYYRRYYYY', 'RRYYRYRRRR', 'RRYYRYRRRY', 'RRYYRYRRYR', 'RRYYRYYRRR', 'RRYYRYYYRY', 'RRYYRYYYYY', 'RRYYYRRRRR', 'RRYYYRRRRY', 'RRYYYRRRYR', 'RRYYYRRRYY', 'RRYYYRRYYY', 'RRYYYRYRRR', 'RRYYYRYRRY', 'RRYYYRYRYY', 'RRYYYRYYYY', 'RRYYYYRRRR', 'RRYYYYRRRY', 'RRYYYYRRYR', 'RRYYYYRRYY', 'RRYYYYRYRR', 'RRYYYYRYYR', 'RRYYYYYRRR', 'RRYYYYYRYR', 'RRYYYYYRYY', 'RRYYYYYYRR', 'RRYYYYYYYY', 'RYRRRRRRRR', 'RYRRRRRRRY', 'RYRRRRRRYR', 'RYRRRRRRYY', 'RYRRRRRYRR', 'RYRRRRRYYR', 'RYRRRRRYYY', 'RYRRRRYRRY', 'RYRRRRYYRR', 'RYRRRRYYYY', 'RYRRRYRRRR', 'RYRRRYRRYY', 'RYRRRYRYRR', 'RYRRRYRYYR', 'RYRRRYRYYY', 'RYRRRYYRRR', 'RYRRRYYYRR', 'RYRRRYYYRY', 'RYRRRYYYYR', 'RYRRYRRRYR', 'RYRRYRRYYR', 'RYRRYRRYYY', 'RYRRYRYRRY', 'RYRRYRYYRR', 'RYRRYRYYYR', 'RYRRYYRRRR', 'RYRRYYRRRY', 'RYRRYYRRYR', 'RYRRYYRYRR', 'RYRRYYYRRY', 'RYRRYYYYRY', 'RYRYRRRRRR', 'RYRYRRRRRY', 'RYRYRRYRRR', 'RYRYRRYRYY', 'RYRYRRYYRR', 'RYRYRRYYYY', 'RYRYRYYYRY', 'RYRYYRRRRY', 'RYRYYRRYRR', 'RYRYYRRYYY', 'RYRYYRYYYY', 'RYRYYYRRRR', 'RYRYYYRRYY', 'RYRYYYRYRR', 'RYRYYYRYYR', 'RYRYYYYRRR', 'RYRYYYYRYY', 'RYRYYYYYRY', 'RYRYYYYYYY', 'RYYRRRRRRR', 'RYYRRRRRRY', 'RYYRRRRRYR', 'RYYRRRRYRR', 'RYYRRRRYRY', 'RYYRRRRYYY', 'RYYRRRYRRR', 'RYYRRRYYRR', 'RYYRRRYYYR', 'RYYRRRYYYY', 'RYYRRYRRRR', 'RYYRRYRRRY', 'RYYRRYRRYY', 'RYYRRYRYRY', 'RYYRRYYYRY', 'RYYRRYYYYR', 'RYYRRYYYYY', 'RYYRYRRRRR', 'RYYRYRRRYR', 'RYYRYRRRYY', 'RYYRYRRYRR', 'RYYRYRYRRY', 'RYYRYYRRRR', 'RYYRYYYRYY', 'RYYRYYYYRR', 'RYYRYYYYYR', 'RYYRYYYYYY', 'RYYYRRRRRR', 'RYYYRRRRRY', 'RYYYRRRRYY', 'RYYYRRRYRY', 'RYYYRRRYYR', 'RYYYRRRYYY', 'RYYYRRYRRY', 'RYYYRRYRYY', 'RYYYRRYYYY', 'RYYYRYRRRR', 'RYYYRYRRYR', 'RYYYRYRRYY', 'RYYYRYRYRR', 'RYYYRYRYYY', 'RYYYRYYRYR', 'RYYYRYYYRY', 'RYYYRYYYYY', 'RYYYYRRRRR', 'RYYYYRRRRY', 'RYYYYRRRYR', 'RYYYYRRRYY', 'RYYYYRRYRR', 'RYYYYRRYYY', 'RYYYYRYRRR', 'RYYYYRYRYY', 'RYYYYRYYRR', 'RYYYYRYYYY', 'RYYYYYRRRR', 'RYYYYYRRRY', 'RYYYYYRRYY', 'RYYYYYRYYR', 'RYYYYYRYYY', 'RYYYYYYRRR', 'RYYYYYYRRY', 'RYYYYYYRYY', 'RYYYYYYYRR', 'RYYYYYYYYR', 'RYYYYYYYYY', 'YRRRRRRRRR', 'YRRRRRRRRY', 'YRRRRRRRYR', 'YRRRRRRRYY', 'YRRRRRRYRR', 'YRRRRRRYRY', 'YRRRRRRYYR', 'YRRRRRRYYY', 'YRRRRRYRRR', 'YRRRRRYRRY', 'YRRRRRYYRR', 'YRRRRRYYRY', 'YRRRRRYYYR', 'YRRRRRYYYY', 'YRRRRYRRRR', 'YRRRRYRRRY', 'YRRRRYRRYR', 'YRRRRYRYRR', 'YRRRRYYRYY', 'YRRRRYYYRR', 'YRRRRYYYYR', 'YRRRRYYYYY', 'YRRRYRRRRY', 'YRRRYRRRYR', 'YRRRYRRRYY', 'YRRRYRYRRR', 'YRRRYRYYRR', 'YRRRYRYYYR', 'YRRRYYRRRR', 'YRRRYYRRRY', 'YRRRYYRYYR', 'YRRRYYRYYY', 'YRRRYYYRRR', 'YRRRYYYRRY', 'YRRRYYYRYY', 'YRRRYYYYRR', 'YRRRYYYYRY', 'YRRRYYYYYR', 'YRRRYYYYYY', 'YRRYRRRRRY', 'YRRYRRRYRR', 'YRRYRRRYRY', 'YRRYRRRYYR', 'YRRYRRRYYY', 'YRRYRRYRRY', 'YRRYRRYYRR', 'YRRYRRYYYY', 'YRRYRYRYRR', 'YRRYRYYRRR', 'YRRYRYYRYR', 'YRRYRYYRYY', 'YRRYYRRRRR', 'YRRYYRRRYY', 'YRRYYRRYRR', 'YRRYYRYRRR', 'YRRYYRYYRR', 'YRRYYRYYYR', 'YRRYYYRRRR', 'YRRYYYRRYY', 'YRRYYYRYRR', 'YRRYYYRYYY', 'YRRYYYYRRR', 'YRRYYYYRYR', 'YRRYYYYRYY', 'YRRYYYYYYR', 'YRRYYYYYYY', 'YRYRRRRRRR', 'YRYRRRRRYY', 'YRYRRRYRYY', 'YRYRRRYYYR', 'YRYRRRYYYY', 'YRYRRYRRRY', 'YRYRRYRRYR', 'YRYRRYRYYR', 'YRYRRYRYYY', 'YRYRRYYRYY', 'YRYRRYYYYY', 'YRYRYRRRRR', 'YRYRYRRYRR', 'YRYRYRRYYY', 'YRYRYYYRRR', 'YRYRYYYRRY', 'YRYRYYYYRR', 'YRYRYYYYRY', 'YRYRYYYYYR', 'YRYRYYYYYY', 'YRYYRRRRRR', 'YRYYRRRRRY', 'YRYYRRRRYY', 'YRYYRRRYRY', 'YRYYRRRYYY', 'YRYYRRYRRR', 'YRYYRRYYYY', 'YRYYRYRYRR', 'YRYYRYYRRR', 'YRYYRYYYYY', 'YRYYYRRRRR', 'YRYYYRRRYY', 'YRYYYRRYRR', 'YRYYYRRYRY', 'YRYYYRRYYY', 'YRYYYRYRRY', 'YRYYYRYRYR', 'YRYYYRYYRR', 'YRYYYRYYYR', 'YRYYYRYYYY', 'YRYYYYRRYY', 'YRYYYYRYRY', 'YRYYYYRYYR', 'YRYYYYRYYY', 'YRYYYYYRRR', 'YRYYYYYRRY', 'YRYYYYYYYR', 'YRYYYYYYYY', 'YYRRRRRRRR', 'YYRRRRRRRY', 'YYRRRRRRYR', 'YYRRRRRRYY', 'YYRRRRRYRR', 'YYRRRRRYRY', 'YYRRRRRYYY', 'YYRRRRYRRR', 'YYRRRRYRRY', 'YYRRRRYRYR', 'YYRRRRYYRR', 'YYRRRRYYYR', 'YYRRRRYYYY', 'YYRRRYRRRY', 'YYRRRYRYRR', 'YYRRRYRYYY', 'YYRRRYYRRR', 'YYRRRYYRYY', 'YYRRRYYYRR', 'YYRRRYYYRY', 'YYRRRYYYYY', 'YYRRYRRRRY', 'YYRRYRRRYR', 'YYRRYRRYRR', 'YYRRYRRYRY', 'YYRRYRRYYR', 'YYRRYRRYYY', 'YYRRYRYRYR', 'YYRRYRYYRR', 'YYRRYRYYRY', 'YYRRYYRYRR', 'YYRRYYYYRR', 'YYRRYYYYRY', 'YYRRYYYYYY', 'YYRYRRRRRR', 'YYRYRRRRRY', 'YYRYRRRRYR', 'YYRYRRRYRR', 'YYRYRRRYRY', 'YYRYRRRYYY', 'YYRYRRYYRY', 'YYRYRYRRRR', 'YYRYRYRRYR', 'YYRYRYRRYY', 'YYRYRYYYRR', 'YYRYRYYYYR', 'YYRYRYYYYY', 'YYRYYRRRRR', 'YYRYYRRRYY', 'YYRYYRRYRR', 'YYRYYRRYYY', 'YYRYYRYRYR', 'YYRYYRYYRR', 'YYRYYYRRRR', 'YYRYYYRRYR', 'YYRYYYRYRY', 'YYRYYYRYYY', 'YYRYYYYRRR', 'YYRYYYYRRY', 'YYRYYYYRYR', 'YYRYYYYYRR', 'YYRYYYYYRY', 'YYYRRRRRRR', 'YYYRRRRRRY', 'YYYRRRRRYR', 'YYYRRRRRYY', 'YYYRRRRYRR', 'YYYRRRRYRY', 'YYYRRRRYYR', 'YYYRRRRYYY', 'YYYRRRYYRR', 'YYYRRRYYRY', 'YYYRRRYYYR', 'YYYRRRYYYY', 'YYYRRYRRYR', 'YYYRRYRYYR', 'YYYRRYRYYY', 'YYYRRYYYRY', 'YYYRRYYYYR', 'YYYRYRRRRR', 'YYYRYRRRRY', 'YYYRYRRRYR', 'YYYRYRRRYY', 'YYYRYRYRRR', 'YYYRYRYRRY', 'YYYRYRYYRR', 'YYYRYRYYYY', 'YYYRYYRRRY', 'YYYRYYRRYR', 'YYYRYYRYRY', 'YYYRYYRYYR', 'YYYRYYYRRY', 'YYYRYYYRYR', 'YYYRYYYYRR', 'YYYRYYYYRY', 'YYYRYYYYYR', 'YYYYRRRRRY', 'YYYYRRRRYR', 'YYYYRRRRYY', 'YYYYRRRYRR', 'YYYYRRRYYR', 'YYYYRRRYYY', 'YYYYRRYRYY', 'YYYYRRYYRY', 'YYYYRRYYYR', 'YYYYRYRRRR', 'YYYYRYRRRY', 'YYYYRYRRYY', 'YYYYRYYRRR', 'YYYYRYYRRY', 'YYYYRYYRYR', 'YYYYRYYRYY', 'YYYYRYYYYR', 'YYYYRYYYYY', 'YYYYYRRRRR', 'YYYYYRRRRY', 'YYYYYRRRYY', 'YYYYYRRYYR', 'YYYYYRRYYY', 'YYYYYRYRRR', 'YYYYYRYRYY', 'YYYYYRYYRR', 'YYYYYRYYRY', 'YYYYYRYYYY', 'YYYYYYRRRR', 'YYYYYYRRYY', 'YYYYYYRYRR', 'YYYYYYRYYR', 'YYYYYYYRRR', 'YYYYYYYRRY', 'YYYYYYYRYR', 'YYYYYYYYRR', 'YYYYYYYYRY', 'YYYYYYYYYR']\n"
          ],
          "name": "stdout"
        }
      ]
    },
    {
      "cell_type": "code",
      "metadata": {
        "id": "4-tjLO7MuWL6",
        "colab_type": "code",
        "outputId": "68d7988c-a1d6-4709-ca68-953556445b8e",
        "colab": {
          "base_uri": "https://localhost:8080/",
          "height": 54
        }
      },
      "source": [
        "common_patterns_diff_lengths_among_all('/gdrive/My Drive/Genomics/job/data/PARKIN',11,MODE='YR')"
      ],
      "execution_count": 0,
      "outputs": [
        {
          "output_type": "stream",
          "text": [
            "344 : ['RRRRRRRRRRR', 'RRRRRRRRRRY', 'RRRRRRRRRYR', 'RRRRRRRRYRR', 'RRRRRRRRYRY', 'RRRRRRRRYYR', 'RRRRRRRRYYY', 'RRRRRRRYRRR', 'RRRRRRRYRRY', 'RRRRRRRYRYY', 'RRRRRRRYYRR', 'RRRRRRRYYRY', 'RRRRRRRYYYR', 'RRRRRRRYYYY', 'RRRRRRYRRRR', 'RRRRRRYRRRY', 'RRRRRRYRRYR', 'RRRRRRYRYYR', 'RRRRRRYRYYY', 'RRRRRRYYRRR', 'RRRRRRYYRYR', 'RRRRRRYYYRR', 'RRRRRYRRRRR', 'RRRRRYRRRYR', 'RRRRRYRRYRR', 'RRRRRYRRYRY', 'RRRRRYRRYYY', 'RRRRRYRYRRR', 'RRRRRYYRRRR', 'RRRRRYYRRRY', 'RRRRRYYRRYY', 'RRRRRYYRYRR', 'RRRRRYYYRRR', 'RRRRRYYYYRR', 'RRRRRYYYYRY', 'RRRRRYYYYYR', 'RRRRYRRRRRR', 'RRRRYRRRRRY', 'RRRRYRRRRYY', 'RRRRYRRRYRR', 'RRRRYRRYRRR', 'RRRRYRRYRYY', 'RRRRYRRYYYY', 'RRRRYRYRRRR', 'RRRRYRYRRRY', 'RRRRYRYYRRY', 'RRRRYRYYYYY', 'RRRRYYRRYYY', 'RRRRYYRYRRR', 'RRRRYYYRRRR', 'RRRRYYYRRYY', 'RRRRYYYYRRR', 'RRRRYYYYYRR', 'RRRRYYYYYRY', 'RRRRYYYYYYR', 'RRRYRRRRRRY', 'RRRYRRRRRYR', 'RRRYRRRRYYR', 'RRRYRRRYRRR', 'RRRYRRRYRRY', 'RRRYRRRYYRR', 'RRRYRRRYYRY', 'RRRYRRYRYRR', 'RRRYRRYRYYY', 'RRRYRRYYRRR', 'RRRYRYRRRRR', 'RRRYRYYRRRY', 'RRRYRYYRRYR', 'RRRYRYYRRYY', 'RRRYYRRRRRR', 'RRRYYRRRRYY', 'RRRYYRRRYRR', 'RRRYYRRRYYR', 'RRRYYRRYYYY', 'RRRYYRYRRRY', 'RRRYYYRRRRR', 'RRRYYYRRRRY', 'RRRYYYRRRYR', 'RRRYYYRRYYY', 'RRRYYYRYRYY', 'RRRYYYYRRRY', 'RRRYYYYRRYR', 'RRRYYYYRRYY', 'RRRYYYYRYRR', 'RRRYYYYRYYR', 'RRRYYYYYRRR', 'RRRYYYYYYYY', 'RRYRRRRRRRR', 'RRYRRRRRRYR', 'RRYRRRRRYRR', 'RRYRRRRRYYR', 'RRYRRRRRYYY', 'RRYRRRRYYRR', 'RRYRRRRYYYY', 'RRYRRRYRRRR', 'RRYRRRYRRYY', 'RRYRRRYRYRR', 'RRYRRRYRYYY', 'RRYRRRYYYYR', 'RRYRRYRRYYR', 'RRYRRYRYRRY', 'RRYRRYYRRRR', 'RRYRRYYRRRY', 'RRYRRYYRRYR', 'RRYRYRRRRRR', 'RRYRYYRRYRR', 'RRYRYYRRYYY', 'RRYRYYYRYYR', 'RRYRYYYYYYY', 'RRYYRRRRRRR', 'RRYYRRRRRRY', 'RRYYRRRRYRR', 'RRYYRRRRYRY', 'RRYYRRRYRRR', 'RRYYRRRYYRR', 'RRYYRRRYYYR', 'RRYYRRYRRYY', 'RRYYRYRRRRR', 'RRYYRYRRRYR', 'RRYYRYRRYRR', 'RRYYYRRRRRR', 'RRYYYRRRRRY', 'RRYYYRRRRYY', 'RRYYYRRRYRY', 'RRYYYRRRYYR', 'RRYYYRRYYYY', 'RRYYYRYRRYY', 'RRYYYRYRYYY', 'RRYYYRYYYYY', 'RRYYYYRRRRR', 'RRYYYYRRRRY', 'RRYYYYRRRYR', 'RRYYYYYRRRR', 'RRYYYYYYRRR', 'RRYYYYYYRRY', 'RYRRRRRRRRR', 'RYRRRRRRRRY', 'RYRRRRRRRYR', 'RYRRRRRRYRR', 'RYRRRRRYYRR', 'RYRRRRRYYYY', 'RYRRRRYYYYY', 'RYRRRYRYYRR', 'RYRRRYYYYRR', 'RYRRYRRYYRR', 'RYRRYRYYRRR', 'RYRRYYRRRRR', 'RYRRYYRYRRR', 'RYRRYYYRRYY', 'RYRYRRRRRRR', 'RYRYRRRRRYY', 'RYRYRRYRRRY', 'RYRYRRYRYYR', 'RYRYYRRRRYY', 'RYRYYYRRRRR', 'RYRYYYRRYYY', 'RYRYYYRYYRR', 'RYRYYYYRYYR', 'RYRYYYYYYYY', 'RYYRRRRRRRR', 'RYYRRRRRRRY', 'RYYRRRRRRYR', 'RYYRRRRRRYY', 'RYYRRRRRYRY', 'RYYRRRRYRRR', 'RYYRRRRYRYR', 'RYYRRRRYYYY', 'RYYRRRYYRRR', 'RYYRRRYYYRY', 'RYYRRYRRRYR', 'RYYRRYRRYYR', 'RYYRRYYYYRR', 'RYYRYRRRRRR', 'RYYRYRRRYRY', 'RYYRYRRRYYY', 'RYYRYYYRYYY', 'RYYYRRRRRRR', 'RYYYRRRRRRY', 'RYYYRRRRRYR', 'RYYYRRRRRYY', 'RYYYRRRYYYR', 'RYYYRYYYYYR', 'RYYYYRRRRRY', 'RYYYYRRRRYR', 'RYYYYRRRRYY', 'RYYYYRRRYRR', 'RYYYYRYYRRR', 'RYYYYYRRRRR', 'RYYYYYRRRYY', 'RYYYYYRRYYY', 'RYYYYYRYYRR', 'RYYYYYRYYYY', 'RYYYYYYRRYY', 'RYYYYYYYRRR', 'RYYYYYYYYRR', 'RYYYYYYYYRY', 'RYYYYYYYYYR', 'YRRRRRRRRRR', 'YRRRRRRRRYR', 'YRRRRRRRRYY', 'YRRRRRRRYRR', 'YRRRRRRRYRY', 'YRRRRRRRYYY', 'YRRRRRRYRYY', 'YRRRRRRYYYR', 'YRRRRRYRRYR', 'YRRRRRYRRYY', 'YRRRRRYYRRY', 'YRRRRRYYRYR', 'YRRRRRYYYYR', 'YRRRRRYYYYY', 'YRRRRYRRRRY', 'YRRRRYRRRYY', 'YRRRRYRRYRY', 'YRRRRYYYYRR', 'YRRRRYYYYYR', 'YRRRYRRRRYY', 'YRRRYRRRYRR', 'YRRRYRYRRRR', 'YRRRYYRRRRY', 'YRRRYYRRRYY', 'YRRRYYRYYRR', 'YRRRYYRYYYY', 'YRRRYYYRRRR', 'YRRRYYYRYYY', 'YRRRYYYYRRY', 'YRRRYYYYRYY', 'YRRRYYYYYYY', 'YRRYRRRRRYY', 'YRRYRRRYRYY', 'YRRYRRYRRYR', 'YRRYRRYYRRR', 'YRRYRYYRRRR', 'YRRYYRRRRRR', 'YRRYYRYRRRR', 'YRRYYYRRRRR', 'YRRYYYRRRRY', 'YRRYYYRRYYY', 'YRRYYYYRRRR', 'YRRYYYYYYRR', 'YRYRRRRRRRR', 'YRYRRRRRYYR', 'YRYRRRRRYYY', 'YRYRRRYYYRY', 'YRYRYRRRRRR', 'YRYYRRRRRRR', 'YRYYRRRRYYY', 'YRYYRRRYYYY', 'YRYYRRYRRRY', 'YRYYRRYYYYY', 'YRYYYRRRRRY', 'YRYYYRRRYYY', 'YRYYYRRYRYY', 'YRYYYRRYYYY', 'YRYYYYRRYYY', 'YRYYYYRYYYY', 'YRYYYYYRRRR', 'YRYYYYYRRYY', 'YRYYYYYYYRR', 'YRYYYYYYYYR', 'YRYYYYYYYYY', 'YYRRRRRRRRY', 'YYRRRRRRRYR', 'YYRRRRRRRYY', 'YYRRRRRRYRR', 'YYRRRRRRYRY', 'YYRRRRRRYYR', 'YYRRRRRYRRY', 'YYRRRRRYYYY', 'YYRRRRYRRRY', 'YYRRRRYRRYR', 'YYRRRRYYYRR', 'YYRRRRYYYYY', 'YYRRRYRYYYR', 'YYRRRYYRRRR', 'YYRRRYYRRRY', 'YYRRRYYYRRR', 'YYRRRYYYYYY', 'YYRRYRRRYRY', 'YYRRYYYYRRR', 'YYRRYYYYRYY', 'YYRRYYYYYYR', 'YYRYRRRRRRR', 'YYRYRRRYYYR', 'YYRYRYRRRRR', 'YYRYRYRRYRR', 'YYRYRYYYRRY', 'YYRYYRRRRRY', 'YYRYYRRRYYY', 'YYRYYRRYRRR', 'YYRYYYYRRYY', 'YYRYYYYRYRY', 'YYRYYYYYRRR', 'YYRYYYYYRRY', 'YYYRRRRRRRR', 'YYYRRRRRRYR', 'YYYRRRRRYRR', 'YYYRRRRRYYY', 'YYYRRRRYYRR', 'YYYRRRRYYYR', 'YYYRRRRYYYY', 'YYYRRRYYRYY', 'YYYRRRYYYRR', 'YYYRRYYYYRY', 'YYYRYRRRRRR', 'YYYRYRRRRYR', 'YYYRYRYRRRR', 'YYYRYRYYYYY', 'YYYRYYRRRYY', 'YYYRYYRYYRR', 'YYYRYYYRRYR', 'YYYRYYYRYRY', 'YYYRYYYYRYR', 'YYYRYYYYYRR', 'YYYYRRRRRYR', 'YYYYRRRRRYY', 'YYYYRRRRYRR', 'YYYYRRRRYYR', 'YYYYRRRRYYY', 'YYYYRRRYYRR', 'YYYYRRRYYYY', 'YYYYRRYYYRY', 'YYYYRYRRRRR', 'YYYYRYYRRYR', 'YYYYRYYYYRR', 'YYYYRYYYYRY', 'YYYYYRRRRRY', 'YYYYYRRRRYR', 'YYYYYRRRRYY', 'YYYYYRRRYYR', 'YYYYYRRYYRY', 'YYYYYRRYYYR', 'YYYYYRYRRRR', 'YYYYYRYYRYY', 'YYYYYRYYYYR', 'YYYYYYRRRRY', 'YYYYYYRRYYY', 'YYYYYYRYYRY', 'YYYYYYYRRRR', 'YYYYYYYRRYY', 'YYYYYYYRYRR', 'YYYYYYYYRRY', 'YYYYYYYYRYR', 'YYYYYYYYYRY']\n"
          ],
          "name": "stdout"
        }
      ]
    },
    {
      "cell_type": "code",
      "metadata": {
        "id": "ckbOOrFluf0k",
        "colab_type": "code",
        "outputId": "66297fc9-5c59-4279-8dd7-57c8f17baa3b",
        "colab": {
          "base_uri": "https://localhost:8080/",
          "height": 54
        }
      },
      "source": [
        "common_patterns_diff_lengths_among_all('/gdrive/My Drive/Genomics/job/data/PARKIN',12,MODE='YR')"
      ],
      "execution_count": 0,
      "outputs": [
        {
          "output_type": "stream",
          "text": [
            "110 : ['RRRRRRRRRRRY', 'RRRRRRRRRRYR', 'RRRRRRRRRYRR', 'RRRRRRRRRYRY', 'RRRRRRRRYRRR', 'RRRRRRRRYYRR', 'RRRRRRRRYYRY', 'RRRRRRRRYYYR', 'RRRRRRRYRRRR', 'RRRRRRRYYYRR', 'RRRRRRYRRRRR', 'RRRRRRYRRYRR', 'RRRRRRYRRYRY', 'RRRRRRYYRRRY', 'RRRRRRYYRYRR', 'RRRRRRYYYRRR', 'RRRRRYRRRRRY', 'RRRRRYRRYRRR', 'RRRRRYRYRRRR', 'RRRRRYYYRRRR', 'RRRRYRRRRRRY', 'RRRRYRRRRRYR', 'RRRRYRRRYRRR', 'RRRRYRYRRRRR', 'RRRRYRYYRRYR', 'RRRRYYRRYYYY', 'RRRRYYYYRRRY', 'RRRRYYYYYRRR', 'RRRYRRRYRRRR', 'RRRYRYYRRYRR', 'RRRYYRRRYRRR', 'RRRYYRRRYYRR', 'RRRYYYRRRRRY', 'RRRYYYRRRYRY', 'RRRYYYRRYYYY', 'RRRYYYRYRYYY', 'RRRYYYYYRRRR', 'RRYRRRRRRRRR', 'RRYRRRRRYYRR', 'RRYRRRRRYYYY', 'RRYRRRRYYYYY', 'RRYRRYRRYYRR', 'RRYRRYYRRRRR', 'RRYRYRRRRRRR', 'RRYRYYYRYYRR', 'RRYYRRRRRRYR', 'RRYYRRRRRRYY', 'RRYYRYRRRYRY', 'RRYYYRRRRRYY', 'RRYYYYRRRYRR', 'RYRRRRRRRRRR', 'RYRRRRRRRRYY', 'RYRRRRRYYYYR', 'RYRRYYRRRRRR', 'RYRYRRRRRRRR', 'RYRYRRRRRYYR', 'RYRYYYRRRRRY', 'RYYRRRRRRYRR', 'RYYYRRRRRYRR', 'RYYYRRRYYYRR', 'RYYYYRRRRRYR', 'RYYYYRRRRYRR', 'RYYYYYRRRRRY', 'RYYYYYRYYYYR', 'RYYYYYYYYYRY', 'YRRRRRRRRRRR', 'YRRRRRRRRRRY', 'YRRRRRRRRYRR', 'YRRRRRYYYYYR', 'YRRRRYYYYYRR', 'YRRRYYRRRRYY', 'YRRRYYYRRRRR', 'YRRRYYYRRRRY', 'YRRYYYRRRRRR', 'YRRYYYRRYYYY', 'YRYRRRRRRRRR', 'YRYRRRRRRRRY', 'YRYYRRYRRRYR', 'YRYYYYYYYYYR', 'YYRRRRRRRYRR', 'YYRRRYYRRRRY', 'YYRRRYYRRRYY', 'YYRRRYYYRRRR', 'YYRRYYYYYYRR', 'YYRYRRRRRRRR', 'YYRYYRRYRRRY', 'YYRYYYYRRYYY', 'YYRYYYYYRRRR', 'YYRYYYYYRRYY', 'YYYRRRRRRRRY', 'YYYRRRRRYRRY', 'YYYRRRRRYYYY', 'YYYRRRRYYYRR', 'YYYRRRYYYRRR', 'YYYRYRRRRRRR', 'YYYRYYYYYRRY', 'YYYYRRRRRYRR', 'YYYYRRRRRYYY', 'YYYYRRRRYYRR', 'YYYYRYYYYRYR', 'YYYYYRRRRRYY', 'YYYYYRRRRYRR', 'YYYYYRRRRYYY', 'YYYYYRYYYYRR', 'YYYYYYRRRRYR', 'YYYYYYRRYYYR', 'YYYYYYYRRRRY', 'YYYYYYYRRYYY', 'YYYYYYYYRRYY', 'YYYYYYYYRYRR']\n"
          ],
          "name": "stdout"
        }
      ]
    },
    {
      "cell_type": "code",
      "metadata": {
        "id": "jBWmW0GIuqAf",
        "colab_type": "code",
        "outputId": "93fcd2a1-e2ee-4440-c24e-01566f222280",
        "colab": {
          "base_uri": "https://localhost:8080/",
          "height": 54
        }
      },
      "source": [
        "common_patterns_diff_lengths_among_all('/gdrive/My Drive/Genomics/job/data/PARKIN',13,MODE='YR')"
      ],
      "execution_count": 0,
      "outputs": [
        {
          "output_type": "stream",
          "text": [
            "24 : ['RRRRRRRRRRRYR', 'RRRRRRRRRRYRR', 'RRRRRRRRRRYRY', 'RRRRRRRRRYRRR', 'RRRRRRRRYRRRR', 'RRRRRRRYRRRRR', 'RRRRRRYRRRRRY', 'RRRRRYRYRRRRR', 'RRRRYRRRYRRRR', 'RRRYYYRRRRRYY', 'RYRRRRRRRRRRR', 'RYYYYRRRRRYRR', 'RYYYYYRRRRRYY', 'RYYYYYRYYYYRR', 'YRRRRYYYYYRRR', 'YRYRRRRRRRRRR', 'YRYYYYYYYYYRY', 'YYRRRYYYRRRRR', 'YYYRRRYYYRRRR', 'YYYRYRRRRRRRR', 'YYYYRRRRRYYYY', 'YYYYYRRRRRYYY', 'YYYYYYRRRRYRR', 'YYYYYYYRRRRYR']\n"
          ],
          "name": "stdout"
        }
      ]
    },
    {
      "cell_type": "code",
      "metadata": {
        "id": "OZx_CPpWu1Hk",
        "colab_type": "code",
        "outputId": "c3a5a95b-11a0-48d8-b4df-85bbbb39afad",
        "colab": {
          "base_uri": "https://localhost:8080/",
          "height": 34
        }
      },
      "source": [
        "common_patterns_diff_lengths_among_all('/gdrive/My Drive/Genomics/job/data/PARKIN',14,MODE='YR')"
      ],
      "execution_count": 0,
      "outputs": [
        {
          "output_type": "stream",
          "text": [
            "2 : ['RRRRRRRRRYRRRR', 'YYYYYYYRRRRYRR']\n"
          ],
          "name": "stdout"
        }
      ]
    },
    {
      "cell_type": "code",
      "metadata": {
        "id": "uwxm6O8KvAy-",
        "colab_type": "code",
        "outputId": "3c54462f-7ec7-4b2e-ab6d-dd7f9bff8c1c",
        "colab": {
          "base_uri": "https://localhost:8080/",
          "height": 34
        }
      },
      "source": [
        "common_patterns_diff_lengths_among_all('/gdrive/My Drive/Genomics/job/data/PARKIN',15,MODE='YR')"
      ],
      "execution_count": 0,
      "outputs": [
        {
          "output_type": "stream",
          "text": [
            "0 : []\n"
          ],
          "name": "stdout"
        }
      ]
    },
    {
      "cell_type": "markdown",
      "metadata": {
        "id": "dSmYyT7CzFJS",
        "colab_type": "text"
      },
      "source": [
        "## RESULT"
      ]
    },
    {
      "cell_type": "code",
      "metadata": {
        "id": "X2oPTN6TvPtr",
        "colab_type": "code",
        "outputId": "1a31266d-962b-4774-e5c4-9d1b1be2796f",
        "colab": {
          "base_uri": "https://localhost:8080/",
          "height": 441
        }
      },
      "source": [
        "# YR distribution plot\n",
        "yr_data = np.array([8,16,32,64,128,254,448,534,344,110,24,2,0])\n",
        "yr_x_axis = range(3,16)\n",
        "\n",
        "atcg_data = np.array([64,241,402,100,2,0])\n",
        "atcg_x_axis = range(3,9)\n",
        "\n",
        "fig,ax = plt.subplots(nrows=1,ncols=2,figsize=(10,6))\n",
        "\n",
        "ax[0].bar(atcg_x_axis,atcg_data,color='m')\n",
        "ax[0].plot(atcg_x_axis,atcg_data,color='k')\n",
        "ax[0].set_title('Common ATCG distribution over the genes')\n",
        "ax[0].set_xlabel(\"Length of pattern\")\n",
        "ax[0].set_ylabel(\"Count of pattern\")\n",
        "\n",
        "\n",
        "ax[1].bar(yr_x_axis,yr_data,color='r')\n",
        "ax[1].set_title('Common YR distribution over the genes')\n",
        "ax[1].plot(yr_x_axis,yr_data,color='k')\n",
        "ax[1].set_xlabel(\"Length of pattern\")\n",
        "ax[1].set_ylabel(\"Count of pattern\")\n",
        "fig.tight_layout()"
      ],
      "execution_count": 0,
      "outputs": [
        {
          "output_type": "display_data",
          "data": {
            "image/png": "[encoded data removed]",
            "text/plain": [
              "<Figure size 720x432 with 2 Axes>"
            ]
          },
          "metadata": {
            "tags": []
          }
        }
      ]
    },
    {
      "cell_type": "code",
      "metadata": {
        "id": "eg01hBnZwf6x",
        "colab_type": "code",
        "colab": {}
      },
      "source": [
        ""
      ],
      "execution_count": 0,
      "outputs": []
    },
    {
      "cell_type": "markdown",
      "metadata": {
        "id": "-CSamhJg0aAN",
        "colab_type": "text"
      },
      "source": [
        "# FINDING PATTERNS FOR PINK1"
      ]
    },
    {
      "cell_type": "markdown",
      "metadata": {
        "id": "8j3SXeZI0jhJ",
        "colab_type": "text"
      },
      "source": [
        "## ATCG DISTRIBUTION"
      ]
    },
    {
      "cell_type": "code",
      "metadata": {
        "id": "f5opG6ge0mDO",
        "colab_type": "code",
        "outputId": "d7388d78-5c20-4a09-edba-5440ffa2e48f",
        "colab": {
          "base_uri": "https://localhost:8080/",
          "height": 54
        }
      },
      "source": [
        "common_patterns_diff_lengths_among_all('/gdrive/My Drive/Genomics/job/data/PINK1',3)"
      ],
      "execution_count": 0,
      "outputs": [
        {
          "output_type": "stream",
          "text": [
            "64 : ['AAA', 'AAC', 'AAG', 'AAT', 'ACA', 'ACC', 'ACG', 'ACT', 'AGA', 'AGC', 'AGG', 'AGT', 'ATA', 'ATC', 'ATG', 'ATT', 'CAA', 'CAC', 'CAG', 'CAT', 'CCA', 'CCC', 'CCG', 'CCT', 'CGA', 'CGC', 'CGG', 'CGT', 'CTA', 'CTC', 'CTG', 'CTT', 'GAA', 'GAC', 'GAG', 'GAT', 'GCA', 'GCC', 'GCG', 'GCT', 'GGA', 'GGC', 'GGG', 'GGT', 'GTA', 'GTC', 'GTG', 'GTT', 'TAA', 'TAC', 'TAG', 'TAT', 'TCA', 'TCC', 'TCG', 'TCT', 'TGA', 'TGC', 'TGG', 'TGT', 'TTA', 'TTC', 'TTG', 'TTT']\n"
          ],
          "name": "stdout"
        }
      ]
    },
    {
      "cell_type": "code",
      "metadata": {
        "id": "ixTfDgeS0oN1",
        "colab_type": "code",
        "outputId": "20905cf0-5af2-48a7-f171-0dd078992e3c",
        "colab": {
          "base_uri": "https://localhost:8080/",
          "height": 54
        }
      },
      "source": [
        "common_patterns_diff_lengths_among_all('/gdrive/My Drive/Genomics/job/data/PINK1',4)"
      ],
      "execution_count": 0,
      "outputs": [
        {
          "output_type": "stream",
          "text": [
            "247 : ['AAAA', 'AAAC', 'AAAG', 'AAAT', 'AACA', 'AACC', 'AACG', 'AACT', 'AAGA', 'AAGC', 'AAGG', 'AAGT', 'AATA', 'AATC', 'AATG', 'AATT', 'ACAA', 'ACAC', 'ACAG', 'ACAT', 'ACCA', 'ACCC', 'ACCG', 'ACCT', 'ACGC', 'ACGT', 'ACTA', 'ACTC', 'ACTG', 'ACTT', 'AGAA', 'AGAC', 'AGAG', 'AGAT', 'AGCA', 'AGCC', 'AGCG', 'AGCT', 'AGGA', 'AGGC', 'AGGG', 'AGGT', 'AGTA', 'AGTC', 'AGTG', 'AGTT', 'ATAA', 'ATAC', 'ATAG', 'ATCA', 'ATCC', 'ATCT', 'ATGA', 'ATGC', 'ATGG', 'ATGT', 'ATTA', 'ATTC', 'ATTG', 'ATTT', 'CAAA', 'CAAC', 'CAAG', 'CAAT', 'CACC', 'CACG', 'CACT', 'CAGA', 'CAGC', 'CAGG', 'CAGT', 'CATA', 'CATC', 'CATG', 'CATT', 'CCAA', 'CCAG', 'CCAT', 'CCCA', 'CCCC', 'CCCG', 'CCCT', 'CCGA', 'CCGC', 'CCGG', 'CCGT', 'CCTA', 'CCTC', 'CCTG', 'CCTT', 'CGAA', 'CGAC', 'CGAG', 'CGAT', 'CGCA', 'CGCC', 'CGCG', 'CGCT', 'CGGA', 'CGGC', 'CGGG', 'CGGT', 'CGTA', 'CGTC', 'CGTG', 'CGTT', 'CTAA', 'CTAC', 'CTAG', 'CTAT', 'CTCA', 'CTCC', 'CTCG', 'CTCT', 'CTGA', 'CTGC', 'CTGG', 'CTGT', 'CTTA', 'CTTC', 'CTTG', 'CTTT', 'GAAA', 'GAAC', 'GAAG', 'GAAT', 'GACA', 'GACC', 'GACG', 'GACT', 'GAGA', 'GAGC', 'GAGG', 'GAGT', 'GATA', 'GATC', 'GATG', 'GATT', 'GCAA', 'GCAC', 'GCAG', 'GCAT', 'GCCA', 'GCCC', 'GCCG', 'GCCT', 'GCGA', 'GCGC', 'GCGG', 'GCGT', 'GCTA', 'GCTC', 'GCTG', 'GCTT', 'GGAA', 'GGAC', 'GGAG', 'GGAT', 'GGCA', 'GGCC', 'GGCG', 'GGCT', 'GGGA', 'GGGC', 'GGGG', 'GGGT', 'GGTA', 'GGTC', 'GGTG', 'GGTT', 'GTAA', 'GTAC', 'GTAG', 'GTAT', 'GTCA', 'GTCC', 'GTCG', 'GTCT', 'GTGA', 'GTGC', 'GTGG', 'GTGT', 'GTTA', 'GTTC', 'GTTG', 'GTTT', 'TAAA', 'TAAC', 'TAAG', 'TAAT', 'TACA', 'TACC', 'TACT', 'TAGA', 'TAGC', 'TAGG', 'TAGT', 'TATC', 'TATG', 'TATT', 'TCAA', 'TCAC', 'TCAG', 'TCAT', 'TCCA', 'TCCC', 'TCCG', 'TCCT', 'TCGC', 'TCGG', 'TCGT', 'TCTA', 'TCTC', 'TCTG', 'TCTT', 'TGAA', 'TGAC', 'TGAG', 'TGAT', 'TGCA', 'TGCC', 'TGCG', 'TGCT', 'TGGA', 'TGGC', 'TGGG', 'TGGT', 'TGTA', 'TGTC', 'TGTG', 'TGTT', 'TTAA', 'TTAC', 'TTAG', 'TTAT', 'TTCA', 'TTCC', 'TTCG', 'TTCT', 'TTGA', 'TTGC', 'TTGG', 'TTGT', 'TTTA', 'TTTC', 'TTTG', 'TTTT']\n"
          ],
          "name": "stdout"
        }
      ]
    },
    {
      "cell_type": "code",
      "metadata": {
        "id": "zUn4jw8_0tl4",
        "colab_type": "code",
        "outputId": "1cab9f49-c798-4376-c543-cea010e4cb0b",
        "colab": {
          "base_uri": "https://localhost:8080/",
          "height": 54
        }
      },
      "source": [
        "common_patterns_diff_lengths_among_all('/gdrive/My Drive/Genomics/job/data/PINK1',5)"
      ],
      "execution_count": 0,
      "outputs": [
        {
          "output_type": "stream",
          "text": [
            "445 : ['AAAAC', 'AAAAG', 'AAAAT', 'AAACC', 'AAACT', 'AAAGA', 'AAAGG', 'AAATA', 'AAATG', 'AAATT', 'AACAC', 'AACAT', 'AACTA', 'AACTC', 'AACTG', 'AACTT', 'AAGAA', 'AAGAT', 'AAGCA', 'AAGCC', 'AAGCT', 'AAGGC', 'AAGGG', 'AAGGT', 'AAGTG', 'AAGTT', 'AATAC', 'AATCC', 'AATGA', 'AATGC', 'AATGG', 'AATGT', 'AATTC', 'AATTT', 'ACAAG', 'ACAAT', 'ACACC', 'ACACT', 'ACAGG', 'ACAGT', 'ACCAG', 'ACCAT', 'ACCCT', 'ACCTG', 'ACCTT', 'ACTAG', 'ACTAT', 'ACTCA', 'ACTCT', 'ACTGC', 'ACTGG', 'ACTTA', 'ACTTC', 'ACTTT', 'AGAAA', 'AGAAG', 'AGAAT', 'AGACC', 'AGAGA', 'AGAGC', 'AGAGG', 'AGAGT', 'AGATC', 'AGATG', 'AGATT', 'AGCAG', 'AGCCA', 'AGCCT', 'AGCTG', 'AGCTT', 'AGGAA', 'AGGAG', 'AGGAT', 'AGGCA', 'AGGCC', 'AGGCG', 'AGGCT', 'AGGGA', 'AGGGC', 'AGGGG', 'AGGTA', 'AGGTG', 'AGTCT', 'AGTGA', 'AGTGC', 'AGTGG', 'AGTGT', 'AGTTA', 'AGTTC', 'AGTTT', 'ATAAA', 'ATAGT', 'ATCCA', 'ATCCC', 'ATCCT', 'ATCTT', 'ATGGC', 'ATGGG', 'ATGGT', 'ATGTG', 'ATGTT', 'ATTCA', 'ATTCC', 'ATTCT', 'ATTGA', 'ATTGG', 'ATTTA', 'ATTTC', 'ATTTG', 'ATTTT', 'CAAAA', 'CAAAT', 'CAAGA', 'CAAGG', 'CAAGT', 'CAATG', 'CACCA', 'CACCC', 'CACCT', 'CACGC', 'CACTC', 'CAGAA', 'CAGAG', 'CAGAT', 'CAGCA', 'CAGCC', 'CAGCT', 'CAGGA', 'CAGGC', 'CAGTA', 'CAGTG', 'CAGTT', 'CATCT', 'CATGG', 'CATTA', 'CATTT', 'CCAAG', 'CCAGA', 'CCAGC', 'CCAGG', 'CCAGT', 'CCATC', 'CCATT', 'CCCAA', 'CCCAG', 'CCCCA', 'CCCCT', 'CCCTC', 'CCCTG', 'CCCTT', 'CCGGA', 'CCGGG', 'CCGTG', 'CCTCC', 'CCTCT', 'CCTGA', 'CCTGC', 'CCTGG', 'CCTGT', 'CCTTA', 'CCTTG', 'CCTTT', 'CGCAG', 'CGCCA', 'CGGAG', 'CGGCT', 'CGGGA', 'CGGGG', 'CGTCT', 'CGTGG', 'CTCAA', 'CTCAG', 'CTCCC', 'CTCGG', 'CTCTG', 'CTCTT', 'CTGAA', 'CTGAC', 'CTGAG', 'CTGAT', 'CTGCA', 'CTGCC', 'CTGGA', 'CTGGC', 'CTGGG', 'CTGGT', 'CTGTC', 'CTGTG', 'CTGTT', 'CTTAA', 'CTTAG', 'CTTCT', 'CTTGA', 'CTTGC', 'CTTGG', 'CTTGT', 'CTTTA', 'CTTTC', 'CTTTG', 'CTTTT', 'GAAAC', 'GAAAG', 'GAAAT', 'GAACC', 'GAACT', 'GAAGA', 'GAAGC', 'GAAGT', 'GAATC', 'GAATG', 'GAATT', 'GACAG', 'GACCA', 'GACCT', 'GACTA', 'GAGAA', 'GAGAC', 'GAGAG', 'GAGCA', 'GAGCC', 'GAGCG', 'GAGCT', 'GAGGA', 'GAGGC', 'GAGGG', 'GAGGT', 'GAGTC', 'GAGTT', 'GATCC', 'GATGG', 'GATTC', 'GATTG', 'GATTT', 'GCAAC', 'GCAAG', 'GCACC', 'GCACT', 'GCAGA', 'GCAGC', 'GCAGG', 'GCAGT', 'GCCAA', 'GCCAG', 'GCCAT', 'GCCCG', 'GCCTA', 'GCCTC', 'GCCTG', 'GCCTT', 'GCGGG', 'GCGTG', 'GCTAA', 'GCTCC', 'GCTCT', 'GCTGA', 'GCTGG', 'GCTGT', 'GCTTC', 'GCTTT', 'GGAAC', 'GGAAG', 'GGAAT', 'GGACA', 'GGAGA', 'GGAGC', 'GGAGG', 'GGAGT', 'GGATT', 'GGCAA', 'GGCAG', 'GGCCC', 'GGCCG', 'GGCCT', 'GGCGG', 'GGCGT', 'GGCTA', 'GGCTC', 'GGCTG', 'GGCTT', 'GGGAA', 'GGGAC', 'GGGAG', 'GGGAT', 'GGGCC', 'GGGCT', 'GGGGA', 'GGGGC', 'GGGGT', 'GGGTG', 'GGGTT', 'GGTAG', 'GGTCA', 'GGTCC', 'GGTGA', 'GGTGC', 'GGTGG', 'GGTGT', 'GGTTT', 'GTAAA', 'GTAAT', 'GTAGC', 'GTATT', 'GTCAA', 'GTCAT', 'GTCCC', 'GTCTA', 'GTGAA', 'GTGAC', 'GTGAG', 'GTGAT', 'GTGCC', 'GTGCT', 'GTGGA', 'GTGGC', 'GTGGG', 'GTGGT', 'GTGTA', 'GTGTC', 'GTGTG', 'GTGTT', 'GTTAA', 'GTTCA', 'GTTGA', 'GTTGC', 'GTTGG', 'GTTTC', 'GTTTG', 'GTTTT', 'TAAAA', 'TAAAG', 'TAAAT', 'TAACA', 'TAATA', 'TAATT', 'TACAA', 'TACTT', 'TAGAA', 'TAGAG', 'TAGCA', 'TAGCC', 'TAGGA', 'TAGTG', 'TATCC', 'TATTT', 'TCAAA', 'TCAAC', 'TCAAG', 'TCACC', 'TCACT', 'TCAGC', 'TCAGT', 'TCATG', 'TCCAA', 'TCCAG', 'TCCCA', 'TCCCC', 'TCCCG', 'TCCCT', 'TCCGG', 'TCCTG', 'TCGGG', 'TCGTG', 'TCTAC', 'TCTGA', 'TCTGC', 'TCTGG', 'TCTGT', 'TCTTA', 'TCTTC', 'TCTTG', 'TCTTT', 'TGAAA', 'TGAAC', 'TGAAG', 'TGACA', 'TGACC', 'TGACT', 'TGAGA', 'TGAGC', 'TGATA', 'TGATC', 'TGATT', 'TGCAG', 'TGCCC', 'TGCCT', 'TGCTA', 'TGCTT', 'TGGAA', 'TGGAG', 'TGGCA', 'TGGCC', 'TGGCT', 'TGGGA', 'TGGGC', 'TGGGT', 'TGGTG', 'TGTAA', 'TGTCC', 'TGTGA', 'TGTGG', 'TGTGT', 'TGTTA', 'TGTTC', 'TGTTG', 'TGTTT', 'TTAAA', 'TTAAC', 'TTAAG', 'TTAAT', 'TTACC', 'TTAGG', 'TTATT', 'TTCAA', 'TTCAG', 'TTCAT', 'TTCCA', 'TTCCC', 'TTCCT', 'TTCTG', 'TTCTT', 'TTGAA', 'TTGAC', 'TTGCA', 'TTGCC', 'TTGCT', 'TTGGC', 'TTGGG', 'TTGTG', 'TTGTT', 'TTTAA', 'TTTAC', 'TTTAG', 'TTTAT', 'TTTCA', 'TTTCC', 'TTTCG', 'TTTCT', 'TTTGA', 'TTTGC', 'TTTGG', 'TTTGT', 'TTTTA', 'TTTTC', 'TTTTG', 'TTTTT']\n"
          ],
          "name": "stdout"
        }
      ]
    },
    {
      "cell_type": "code",
      "metadata": {
        "id": "aC79-3ma0wxn",
        "colab_type": "code",
        "outputId": "01f08577-4fef-40db-b268-62b0ee0d1a48",
        "colab": {
          "base_uri": "https://localhost:8080/",
          "height": 54
        }
      },
      "source": [
        "common_patterns_diff_lengths_among_all('/gdrive/My Drive/Genomics/job/data/PINK1',6)"
      ],
      "execution_count": 0,
      "outputs": [
        {
          "output_type": "stream",
          "text": [
            "87 : ['AAAAGA', 'AAAATG', 'AAGCCT', 'ACCTGT', 'ACTCTG', 'AGATGG', 'AGCAGA', 'AGCAGC', 'AGCCTT', 'AGCTGG', 'AGCTTT', 'AGGAGA', 'AGGGGA', 'AGGGGT', 'AGGTGG', 'AGTTTG', 'ATCCCT', 'ATGTTT', 'ATTTAA', 'ATTTTT', 'CACCTG', 'CAGTGG', 'CAGTTT', 'CCAGGA', 'CCCTGC', 'CCTCCC', 'CCTGAC', 'CCTGGA', 'CCTTTC', 'CTCCCG', 'CTCTGC', 'CTCTTT', 'CTGACC', 'CTGACT', 'CTGGAG', 'CTGGCC', 'CTGGGC', 'CTTTCC', 'CTTTGC', 'GAAATA', 'GAAGCC', 'GAGGTG', 'GATTTT', 'GCAGCC', 'GCAGCT', 'GCCTTT', 'GCTCTG', 'GCTGGA', 'GCTGGG', 'GCTGTG', 'GCTTCT', 'GCTTTG', 'GGAAGC', 'GGAGGC', 'GGAGGT', 'GGCTGT', 'GGGAAG', 'GGTGGG', 'GTATTT', 'GTGACA', 'GTGAGC', 'GTGGAG', 'GTGTGG', 'GTTTTC', 'TCCTGA', 'TCTGCA', 'TCTGTC', 'TGACCT', 'TGCAGA', 'TGGTGA', 'TGTCCC', 'TGTTTT', 'TTATTT', 'TTCCCC', 'TTGCCT', 'TTGGCT', 'TTGTTT', 'TTTCAG', 'TTTCTG', 'TTTCTT', 'TTTGTT', 'TTTTAG', 'TTTTCC', 'TTTTCT', 'TTTTGT', 'TTTTTA', 'TTTTTT']\n"
          ],
          "name": "stdout"
        }
      ]
    },
    {
      "cell_type": "code",
      "metadata": {
        "id": "5vqW3ST20zvd",
        "colab_type": "code",
        "outputId": "c4f1a334-645a-4266-bc02-e71f2208b28a",
        "colab": {
          "base_uri": "https://localhost:8080/",
          "height": 34
        }
      },
      "source": [
        "common_patterns_diff_lengths_among_all('/gdrive/My Drive/Genomics/job/data/PINK1',7)"
      ],
      "execution_count": 0,
      "outputs": [
        {
          "output_type": "stream",
          "text": [
            "4 : ['CCTGACC', 'GAGGTGG', 'TTGTTTT', 'TTTGTTT']\n"
          ],
          "name": "stdout"
        }
      ]
    },
    {
      "cell_type": "code",
      "metadata": {
        "id": "6vpQhBsN027c",
        "colab_type": "code",
        "colab": {}
      },
      "source": [
        "common_patterns_diff_lengths_among_all('/gdrive/My Drive/Genomics/job/data/PINK1',8)"
      ],
      "execution_count": 0,
      "outputs": []
    },
    {
      "cell_type": "markdown",
      "metadata": {
        "id": "xp_iZmrJ0-zw",
        "colab_type": "text"
      },
      "source": [
        "## YR DISTRIBUTION"
      ]
    },
    {
      "cell_type": "code",
      "metadata": {
        "id": "iYj6kmEE1BKH",
        "colab_type": "code",
        "colab": {}
      },
      "source": [
        "common_patterns_diff_lengths_among_all('/gdrive/My Drive/Genomics/job/data/PINK1',3,MODE='YR')"
      ],
      "execution_count": 0,
      "outputs": []
    },
    {
      "cell_type": "code",
      "metadata": {
        "id": "LqIr94NS1GLc",
        "colab_type": "code",
        "colab": {}
      },
      "source": [
        "common_patterns_diff_lengths_among_all('/gdrive/My Drive/Genomics/job/data/PINK1',4,MODE='YR')"
      ],
      "execution_count": 0,
      "outputs": []
    },
    {
      "cell_type": "code",
      "metadata": {
        "id": "B-4TYKun1JoT",
        "colab_type": "code",
        "colab": {}
      },
      "source": [
        "common_patterns_diff_lengths_among_all('/gdrive/My Drive/Genomics/job/data/PINK1',5,MODE='YR')"
      ],
      "execution_count": 0,
      "outputs": []
    },
    {
      "cell_type": "code",
      "metadata": {
        "id": "vMIxurAJ1RU-",
        "colab_type": "code",
        "colab": {}
      },
      "source": [
        "common_patterns_diff_lengths_among_all('/gdrive/My Drive/Genomics/job/data/PINK1',6,MODE='YR')"
      ],
      "execution_count": 0,
      "outputs": []
    },
    {
      "cell_type": "code",
      "metadata": {
        "id": "HC57-ZQZ1Ujt",
        "colab_type": "code",
        "colab": {}
      },
      "source": [
        "common_patterns_diff_lengths_among_all('/gdrive/My Drive/Genomics/job/data/PINK1',7,MODE='YR')"
      ],
      "execution_count": 0,
      "outputs": []
    },
    {
      "cell_type": "code",
      "metadata": {
        "id": "Crdo2uE_1YAS",
        "colab_type": "code",
        "colab": {}
      },
      "source": [
        "common_patterns_diff_lengths_among_all('/gdrive/My Drive/Genomics/job/data/PINK1',8,MODE='YR')"
      ],
      "execution_count": 0,
      "outputs": []
    },
    {
      "cell_type": "code",
      "metadata": {
        "id": "11YzeT8M1bSp",
        "colab_type": "code",
        "colab": {}
      },
      "source": [
        "common_patterns_diff_lengths_among_all('/gdrive/My Drive/Genomics/job/data/PINK1',9,MODE='YR')"
      ],
      "execution_count": 0,
      "outputs": []
    },
    {
      "cell_type": "code",
      "metadata": {
        "id": "nIZM-7gU1fYV",
        "colab_type": "code",
        "colab": {}
      },
      "source": [
        "common_patterns_diff_lengths_among_all('/gdrive/My Drive/Genomics/job/data/PINK1',10,MODE='YR')"
      ],
      "execution_count": 0,
      "outputs": []
    },
    {
      "cell_type": "code",
      "metadata": {
        "id": "6GXID3nB1jNz",
        "colab_type": "code",
        "colab": {}
      },
      "source": [
        "common_patterns_diff_lengths_among_all('/gdrive/My Drive/Genomics/job/data/PINK1',11,MODE='YR')"
      ],
      "execution_count": 0,
      "outputs": []
    },
    {
      "cell_type": "code",
      "metadata": {
        "id": "-AR1pXej1m9r",
        "colab_type": "code",
        "colab": {}
      },
      "source": [
        "common_patterns_diff_lengths_among_all('/gdrive/My Drive/Genomics/job/data/PINK1',12,MODE='YR')"
      ],
      "execution_count": 0,
      "outputs": []
    },
    {
      "cell_type": "code",
      "metadata": {
        "id": "M3n7whIK10yZ",
        "colab_type": "code",
        "colab": {}
      },
      "source": [
        "common_patterns_diff_lengths_among_all('/gdrive/My Drive/Genomics/job/data/PINK1',13,MODE='YR')"
      ],
      "execution_count": 0,
      "outputs": []
    },
    {
      "cell_type": "code",
      "metadata": {
        "id": "10YMTTVb14sW",
        "colab_type": "code",
        "colab": {}
      },
      "source": [
        "common_patterns_diff_lengths_among_all('/gdrive/My Drive/Genomics/job/data/PINK1',14,MODE='YR')"
      ],
      "execution_count": 0,
      "outputs": []
    },
    {
      "cell_type": "markdown",
      "metadata": {
        "id": "LN_Gy80LDMfL",
        "colab_type": "text"
      },
      "source": [
        "## RESULT"
      ]
    },
    {
      "cell_type": "code",
      "metadata": {
        "id": "riICtxVa18g8",
        "colab_type": "code",
        "colab": {}
      },
      "source": [
        "# YR distribution plot\n",
        "yr_data = np.array([8,16,32,64,128,255,455,546,279,68,5,0])\n",
        "yr_x_axis = range(3,15)\n",
        "\n",
        "atcg_data = np.array([64,247,445,87,40,0])\n",
        "\n",
        "atcg_x_axis = range(3,9)\n",
        "\n",
        "fig,ax = plt.subplots(nrows=1,ncols=2,figsize=(10,6))\n",
        "\n",
        "ax[0].bar(atcg_x_axis,atcg_data,color='m')\n",
        "ax[0].plot(atcg_x_axis,atcg_data,color='k')\n",
        "ax[0].set_title('Common ATCG distribution over the genes')\n",
        "ax[0].set_xlabel(\"Length of pattern\")\n",
        "ax[0].set_ylabel(\"Count of pattern\")\n",
        "\n",
        "\n",
        "ax[1].bar(yr_x_axis,yr_data,color='r')\n",
        "ax[1].set_title('Common YR distribution over the genes')\n",
        "ax[1].plot(yr_x_axis,yr_data,color='k')\n",
        "ax[1].set_xlabel(\"Length of pattern\")\n",
        "ax[1].set_ylabel(\"Count of pattern\")\n",
        "fig.tight_layout()"
      ],
      "execution_count": 0,
      "outputs": []
    },
    {
      "cell_type": "markdown",
      "metadata": {
        "id": "3CghU054Bmlj",
        "colab_type": "text"
      },
      "source": [
        "# FINAL GRAPH"
      ]
    },
    {
      "cell_type": "code",
      "metadata": {
        "id": "MBJZDGp-Bp1u",
        "colab_type": "code",
        "colab": {}
      },
      "source": [
        "dj1 = np.array([8,16,32,64,128,255,480,736,672,319,97,13,0])\n",
        "parkin = np.array([8,16,32,64,128,254,448,534,344,110,24, 2,0])\n",
        "pink1 = np.array([8,16,32,64,128,255,455,546,279,68, 5, 0, 0])\n",
        "\n",
        "\n",
        "purple_patch = mpatches.Patch(color='purple', label='DJ1')\n",
        "green_patch = mpatches.Patch(color='green',label ='PARKIN')\n",
        "red_patch = mpatches.Patch(color=\"red\",label=\"PINK1\")\n",
        "plt.legend(handles=[purple_patch,green_patch,red_patch])\n",
        "x_axis = range(3,16)\n",
        "plt.plot(x_axis,dj1,color='purple')\n",
        "plt.plot(x_axis,parkin,color='green')\n",
        "plt.plot(x_axis,pink1,color='red')\n",
        "plt.title('YR pattern distributions over the 3 networks')\n",
        "plt.xlabel(\"Pattern length\")\n",
        "plt.ylabel(\"Pattern count\")\n",
        "plt.show()"
      ],
      "execution_count": 0,
      "outputs": []
    }
  ]
}